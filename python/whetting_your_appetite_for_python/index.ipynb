{
 "cells": [
  {
   "cell_type": "markdown",
   "metadata": {},
   "source": [
    "# A Demonstration of Python's Power\n",
    "\n",
    "Here's just a quick demonstration of how to accomplish a pretty interesting task, plotting a satellite image from a remote server, in Python. We won't explain much of what's going on here, but just want to show how much you can accomplish in Python."
   ]
  },
  {
   "cell_type": "markdown",
   "metadata": {},
   "source": [
    "First we just bring in some tools from a variety of Python libraries, using the `import` command. Python is really powerful at assembling various tools together like lego bricks."
   ]
  },
  {
   "cell_type": "code",
   "execution_count": null,
   "metadata": {},
   "outputs": [],
   "source": [
    "# A whole bunch of imports\n",
    "%matplotlib inline\n",
    "from urllib.request import urlopen\n",
    "\n",
    "import matplotlib.pyplot as plt\n",
    "from matplotlib import patheffects\n",
    "import cartopy.crs as ccrs\n",
    "import cartopy.feature as cfeat\n",
    "\n",
    "from metpy.io import GiniFile\n",
    "from metpy.plots import colortables\n",
    "\n",
    "from siphon.catalog import TDSCatalog\n",
    "\n",
    "from xarray import open_dataset"
   ]
  },
  {
   "cell_type": "markdown",
   "metadata": {},
   "source": [
    "Now we download the latest water vapor satellite imagery from a remote server and pull out a variety of needed information. This makes use Unidata's MetPy and Siphon libraries."
   ]
  },
  {
   "cell_type": "code",
   "execution_count": null,
   "metadata": {},
   "outputs": [],
   "source": [
    "# Scan the catalog and download the data\n",
    "\n",
    "cat = TDSCatalog(\n",
    "    'http://thredds.ucar.edu/thredds/catalog/satellite/WV/WEST-CONUS_4km/current/catalog.xml'\n",
    ")\n",
    "dataset = cat.datasets[list(cat.datasets)[0]]\n",
    "gini_file = GiniFile(urlopen(dataset.access_urls['HTTPServer']))\n",
    "gini_ds = open_dataset(gini_file)\n",
    "# Pull parts out of the data file\n",
    "data_var = gini_ds.variables['WV']\n",
    "x = gini_ds.variables['x'][:]\n",
    "y = gini_ds.variables['y'][:]\n",
    "time_var = gini_ds.variables['time']\n",
    "proj_var = gini_ds.variables['projection']\n",
    "\n",
    "# Set up the projection\n",
    "globe = ccrs.Globe(\n",
    "    ellipse='sphere',\n",
    "    semimajor_axis=proj_var.attrs['earth_radius'],\n",
    "    semiminor_axis=proj_var.attrs['earth_radius'])\n",
    "proj = ccrs.LambertConformal(\n",
    "    central_longitude=proj_var.attrs['longitude_of_central_meridian'],\n",
    "    central_latitude=proj_var.attrs['latitude_of_projection_origin'],\n",
    "    standard_parallels=[proj_var.attrs['standard_parallel']],\n",
    "    globe=globe)"
   ]
  },
  {
   "cell_type": "markdown",
   "metadata": {},
   "source": [
    "Now we plot the satellite data along with some mapping information; this plotting is provided by the matplotlib library, while the mapping capabilities come from a library called cartopy."
   ]
  },
  {
   "cell_type": "code",
   "execution_count": null,
   "metadata": {},
   "outputs": [],
   "source": [
    "# Create the figure\n",
    "fig = plt.figure(figsize=(10, 10))\n",
    "ax = fig.add_subplot(1, 1, 1, projection=proj)\n",
    "\n",
    "wv_norm, wv_cmap = colortables.get_with_range('WVCIMSS', 100, 260)\n",
    "wv_cmap.set_under('k')\n",
    "im = ax.imshow(\n",
    "    data_var[:], cmap=wv_cmap, norm=wv_norm,\n",
    "    extent=(x.min(), x.max(), y.min(), y.max()),\n",
    "    origin='upper')\n",
    "\n",
    "# Add mapping information\n",
    "ax.coastlines(resolution='50m', color='black')\n",
    "state_boundaries = cfeat.NaturalEarthFeature(\n",
    "    category='cultural',\n",
    "    name='admin_1_states_provinces_lakes',\n",
    "    scale='50m',\n",
    "    facecolor='none')\n",
    "\n",
    "ax.add_feature(state_boundaries, edgecolor='black', linestyle=':')\n",
    "ax.add_feature(cfeat.BORDERS, linewidth=2, edgecolor='black')\n",
    "\n",
    "text = ax.text(\n",
    "    0.99, 0.01, gini_file.prod_desc.datetime, horizontalalignment='right',\n",
    "    transform=ax.transAxes, color='white', fontsize='x-large', weight='bold')\n",
    "\n",
    "text.set_path_effects([\n",
    "    patheffects.Stroke(linewidth=2, foreground='black'),\n",
    "    patheffects.Normal()\n",
    "])"
   ]
  }
 ],
 "metadata": {
  "kernelspec": {
   "display_name": "Python [conda env:gallery]",
   "language": "python",
   "name": "conda-env-gallery-py"
  },
  "language_info": {
   "codemirror_mode": {
    "name": "ipython",
    "version": 3
   },
   "file_extension": ".py",
   "mimetype": "text/x-python",
   "name": "python",
   "nbconvert_exporter": "python",
   "pygments_lexer": "ipython3",
   "version": "3.7.3"
  }
 },
 "nbformat": 4,
 "nbformat_minor": 2
}
