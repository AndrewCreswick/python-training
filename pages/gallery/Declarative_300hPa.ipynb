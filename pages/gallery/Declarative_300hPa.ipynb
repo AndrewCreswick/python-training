{
 "cells": [
  {
   "cell_type": "markdown",
   "metadata": {
    "cell_marker": "\"\"\""
   },
   "source": [
    "MetPy Declarative - 300 hPa\n",
    "===========================\n",
    "\n",
    "By: Kevin Goebbert\n",
    "\n",
    "This example uses the declarative syntax available through the MetPy\n",
    "package to allow a more convenient method for creating simple maps of\n",
    "atmospheric data. The key thing the declarative language does is to\n",
    "reduce the number of packages that users will need to know in detail and\n",
    "instead allow them to set key parameters to get the map they desire. One\n",
    "key element is the use of xarray as the data object, which allows\n",
    "coordinate information to be associated with atmospheric variables."
   ]
  },
  {
   "cell_type": "code",
   "execution_count": null,
   "metadata": {},
   "outputs": [],
   "source": [
    "from datetime import datetime\n",
    "\n",
    "import metpy.calc as mpcalc\n",
    "import metpy.plots as mpplots\n",
    "from metpy.units import units\n",
    "import xarray as xr"
   ]
  },
  {
   "cell_type": "markdown",
   "metadata": {
    "cell_marker": "######################################################################"
   },
   "source": [
    "Open dataset using xarray module and subset global GFS to be over the\n",
    "CONUS.\n"
   ]
  },
  {
   "cell_type": "code",
   "execution_count": null,
   "metadata": {},
   "outputs": [],
   "source": [
    "ds = xr.open_dataset('https://thredds.ucar.edu/thredds/dodsC/casestudies/python-gallery/'\n",
    "                     'GFS_20101026_1200.nc').sel(lon=slice(360-150, 360-50, 2),\n",
    "                                                 lat=slice(65, 20, 2))"
   ]
  },
  {
   "cell_type": "markdown",
   "metadata": {
    "cell_marker": "######################################################################"
   },
   "source": [
    "Calculate Variable and Add to Dataset\n",
    "-------------------------------------\n",
    "\n",
    "Here it is demonstrated how you can calculate a new variable and add it\n",
    "to the xarray dataset (ds) so that it can be plotted with the\n",
    "declarative syntax. The key to adding a variable to an xarray dataset\n",
    "for use in the declarative syntax is the need to add a ``grid_mapping``\n",
    "and ``units`` attribute.\n"
   ]
  },
  {
   "cell_type": "code",
   "execution_count": null,
   "metadata": {},
   "outputs": [],
   "source": [
    "# Calculate New Variables and place into Xarray Dataset\n",
    "uwnd = ds['u-component_of_wind_isobaric']\n",
    "vwnd = ds['v-component_of_wind_isobaric']\n",
    "\n",
    "# Compute wind speed using MetPy\n",
    "wspd = mpcalc.wind_speed(uwnd, vwnd)\n",
    "\n",
    "# Place wind speed (wspd) into xarray dataset and attach needed attributes\n",
    "ds = ds.assign(wind_speed=(tuple(uwnd.dims)[:4], wspd.m,\n",
    "                           {'grid_mapping': uwnd.attrs['grid_mapping'],\n",
    "                            'units': str(wspd.units)}))\n",
    "\n",
    "# Convert wind speed units to knots within the dataset\n",
    "ds.wind_speed.metpy.convert_units('kt')\n",
    "ds['u-component_of_wind_isobaric'].metpy.convert_units('kt')\n",
    "ds['v-component_of_wind_isobaric'].metpy.convert_units('kt')"
   ]
  },
  {
   "cell_type": "markdown",
   "metadata": {
    "cell_marker": "######################################################################"
   },
   "source": [
    "Declarative Plot\n",
    "----------------\n",
    "\n",
    "The following settings create a single panel map plot of 300 hPa\n",
    "geopotential heights, wind speed, and wind barbs.\n"
   ]
  },
  {
   "cell_type": "code",
   "execution_count": null,
   "metadata": {},
   "outputs": [],
   "source": [
    "# Countour Plot of Geopotential Heights\n",
    "contour = mpplots.ContourPlot()\n",
    "contour.data = ds\n",
    "contour.time = datetime(2010, 10, 31, 12)\n",
    "contour.field = 'Geopotential_height_isobaric'\n",
    "contour.level = 300 * units.hPa\n",
    "contour.linecolor = 'black'\n",
    "contour.linestyle = '-'\n",
    "contour.linewidth = 2\n",
    "contour.clabels = True\n",
    "contour.contours = list(range(0, 20000, 120))\n",
    "\n",
    "# Colorfilled Plot of Wind Speed\n",
    "cfill = mpplots.FilledContourPlot()\n",
    "cfill.data = ds\n",
    "cfill.field = 'wind_speed'\n",
    "cfill.level = 300 * units.hPa\n",
    "cfill.colormap = 'BuPu'\n",
    "cfill.contours = list(range(50, 171, 20))\n",
    "cfill.colorbar = 'vertical'\n",
    "\n",
    "# Plot wind barbs\n",
    "barb = mpplots.BarbPlot()\n",
    "barb.data = ds\n",
    "barb.level = 300 * units.hPa\n",
    "barb.field = ['u-component_of_wind_isobaric', 'v-component_of_wind_isobaric']\n",
    "barb.skip = (3, 3)\n",
    "barb.color = 'black'\n",
    "barb.barblength = 6.5\n",
    "barb.earth_relative = False\n",
    "\n",
    "# Panel for plot with Map features\n",
    "panel = mpplots.MapPanel()\n",
    "panel.layout = (1, 1, 1)\n",
    "panel.area = (-124, -72, 20, 53)\n",
    "panel.projection = 'lcc'\n",
    "panel.layers = ['coastline', 'borders', 'states', 'land']\n",
    "panel.plots = [cfill, contour, barb]\n",
    "\n",
    "# Bringing it all together\n",
    "pc = mpplots.PanelContainer()\n",
    "pc.size = (15, 9)\n",
    "pc.panels = [panel]\n",
    "\n",
    "pc.show()"
   ]
  }
 ],
 "metadata": {
  "jupytext": {
   "cell_metadata_filter": "-all",
   "main_language": "python",
   "notebook_metadata_filter": "-all"
  },
  "kernelspec": {
   "display_name": "Python 3",
   "language": "python",
   "name": "python3"
  },
  "language_info": {
   "codemirror_mode": {
    "name": "ipython",
    "version": 3
   },
   "file_extension": ".py",
   "mimetype": "text/x-python",
   "name": "python",
   "nbconvert_exporter": "python",
   "pygments_lexer": "ipython3",
   "version": "3.7.6"
  }
 },
 "nbformat": 4,
 "nbformat_minor": 4
}
