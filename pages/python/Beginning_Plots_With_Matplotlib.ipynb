{
 "cells": [
  {
   "cell_type": "markdown",
   "metadata": {},
   "source": [
    "# Simple Plotting in Python with matplotlib\n",
    "\n",
    "If while reading this you have any questions about what certain words are defined as see this computer programming dictionary forum, which you can [view here](http://www.computerhope.com/jargon/program.htm)."
   ]
  },
  {
   "cell_type": "markdown",
   "metadata": {},
   "source": [
    "## Plotting with matplotlib\n",
    "[matplotlib](http://matplotlib.org/) is a 2D plotting library that is relatively easy to use to produce publication-quality plots in Python. It provides an interface that is easy to get started with as a beginner, but it also allows you to customize almost every part of a plot. matplotlib's [gallery](http://matplotlib.org/gallery.html) provides a good overview of the wide array of graphics matplotlib is capable of creating. We'll just scratch the surface of matplotlib's capabilities here by looking at making some line plots."
   ]
  },
  {
   "cell_type": "markdown",
   "metadata": {},
   "source": [
    "This first line tells the Jupyter Notebook interface to set up plots to be displayed inline (as opposed to opening plots in a separate window). This is only needed for the notebook."
   ]
  },
  {
   "cell_type": "code",
   "execution_count": null,
   "metadata": {},
   "outputs": [],
   "source": [
    "%matplotlib inline"
   ]
  },
  {
   "cell_type": "markdown",
   "metadata": {},
   "source": [
    "The first step is to import the NumPy library, which we will import as `np` to give us less to type. This library provides an `array` object we can use to perform mathematics operations, as well as easy ways to make such arrays. We use the `linspace` function to create an array of 10 values in `x`, spanning between 0 and 5. We then set `y` equal to `x * x`."
   ]
  },
  {
   "cell_type": "code",
   "execution_count": null,
   "metadata": {},
   "outputs": [],
   "source": [
    "import numpy as np\n",
    "\n",
    "x = np.linspace(0, 5, 10)\n",
    "y = x * x"
   ]
  },
  {
   "cell_type": "markdown",
   "metadata": {},
   "source": [
    "Now we want to make a quick plot of these x and y values; for this we'll use `matplotlib`. First, we import the `matplotlib.pyplot` module, which provides a simple plotting interface; we import this as `plt`, again to save typing.\n",
    "\n",
    "matplotlib has two main top-level plotting objects: `Figure` and `Axes`. A `Figure` represents a single figure for plotting (a single image or figure window), which contains one or more `Axes` objects. An `Axes` groups together an x and y axis, and contains all of the various plotting methods that one would want to use.\n",
    "\n",
    "Below, we use the `subplots()` function, with no parameters, to quickly create a `Figure`, `fig`, and an `Axes`, `ax`, for us to plot on. We then use `ax.plot(x, y)` to create a line plot on the `Axes` we created; this command uses pairs of values from the `x` and `y` arrays to create points defining the line."
   ]
  },
  {
   "cell_type": "code",
   "execution_count": null,
   "metadata": {},
   "outputs": [],
   "source": [
    "import matplotlib.pyplot as plt\n",
    "\n",
    "fig, ax = plt.subplots()\n",
    "ax.plot(x, y)"
   ]
  },
  {
   "cell_type": "markdown",
   "metadata": {},
   "source": [
    "Matplotlib provides a wide array of ways to control the appearance of the plot. Below we adjust the line so that it is a thicker, red dashed line. By specifying the `marker` argument, we tell matplotlib to add a marker at each point; in this case, that marker is a square (`s`). For more information on linestyles, markers, etc., type `help(ax.plot)` in a cell, or see the [matplotlib plot docs](http://matplotlib.org/api/pyplot_api.html#matplotlib.pyplot.plot)."
   ]
  },
  {
   "cell_type": "code",
   "execution_count": null,
   "metadata": {},
   "outputs": [],
   "source": [
    "fig, ax = plt.subplots()\n",
    "ax.plot(x, y, color='red', linestyle='--', linewidth=2, marker='s')"
   ]
  },
  {
   "cell_type": "markdown",
   "metadata": {},
   "source": [
    "## Controlling Other Plot Aspects\n",
    "\n",
    "In addition to controlling the look of the line, matplotlib provides many other features for cutomizing the look of the plot. In our plot, below we:\n",
    "\n",
    "- Add gridlines\n",
    "- Set labels for the x and y axes\n",
    "- Add a title to the plot"
   ]
  },
  {
   "cell_type": "code",
   "execution_count": null,
   "metadata": {},
   "outputs": [],
   "source": [
    "fig, ax = plt.subplots()\n",
    "ax.plot(x, y, color='red')\n",
    "ax.grid()\n",
    "ax.set_xlabel('x')\n",
    "ax.set_ylabel('y')\n",
    "ax.set_title('f(x) = x * x')"
   ]
  },
  {
   "cell_type": "markdown",
   "metadata": {},
   "source": [
    "matplotlib also has support for LaTeX-like typesetting of mathematical expressions, called mathtext. This is enabled by surrounding math expressions by `$` symbols. Below, we replace the `x * x` in the title, with the more expressive $x^2$."
   ]
  },
  {
   "cell_type": "code",
   "execution_count": null,
   "metadata": {},
   "outputs": [],
   "source": [
    "fig, ax = plt.subplots()\n",
    "ax.plot(x, y, color='red')\n",
    "ax.grid()\n",
    "ax.set_xlabel('x')\n",
    "ax.set_ylabel('y')\n",
    "ax.set_title('$f(x) = x^2$')"
   ]
  },
  {
   "cell_type": "markdown",
   "metadata": {},
   "source": [
    "## Multiple Plots"
   ]
  },
  {
   "cell_type": "markdown",
   "metadata": {},
   "source": [
    "Often, what we really want is to make multiple plots. This can be accomplished in two ways:\n",
    "\n",
    "- Plot multiple lines on a single `Axes`\n",
    "- Combine multiple `Axes` in a single `Figure`\n",
    "\n",
    "First, let's look at plotting multiple lines. This is really simple--just call plot on the `Axes` you want multiple times:"
   ]
  },
  {
   "cell_type": "code",
   "execution_count": null,
   "metadata": {},
   "outputs": [],
   "source": [
    "fig, ax = plt.subplots()\n",
    "ax.plot(x, x, color='green')\n",
    "ax.plot(x, x * x, color='red')\n",
    "ax.plot(x, x**3, color='blue')"
   ]
  },
  {
   "cell_type": "markdown",
   "metadata": {},
   "source": [
    "Of course, in this plot it isn't clear what each line represents. We can add a legend to clarify the picture; to make it easy for matplotlib to create the legend for us, we can label each plot as we make it:"
   ]
  },
  {
   "cell_type": "code",
   "execution_count": null,
   "metadata": {},
   "outputs": [],
   "source": [
    "fig, ax = plt.subplots()\n",
    "ax.plot(x, x, color='green', label='$x$')\n",
    "ax.plot(x, x * x, color='red', label='$x^2$')\n",
    "ax.plot(x, x**3, color='blue', label='$x^3$')\n",
    "ax.legend(loc='upper left')"
   ]
  },
  {
   "cell_type": "markdown",
   "metadata": {},
   "source": [
    "Another option for looking at multiple plots is to use multiple `Axes`; this is accomplished by passing our desired layout to `subplots()`. The simplest way is to just give it the number of rows and columns; in this case the axes are returned as a two dimensional array of `Axes` instances with shape `(rows, columns)`."
   ]
  },
  {
   "cell_type": "code",
   "execution_count": null,
   "metadata": {},
   "outputs": [],
   "source": [
    "# Sharex tells subplots that all the plots should share the same x-limit, ticks, etc.\n",
    "# It also eliminates the redundant labelling\n",
    "fig, axes = plt.subplots(nrows=2, ncols=2, sharex=True)\n",
    "\n",
    "axes[0, 0].plot(x, x)\n",
    "axes[0, 0].set_title('Linear')\n",
    "\n",
    "axes[0, 1].plot(x, x * x)\n",
    "axes[0, 1].set_title('Squared')\n",
    "\n",
    "axes[1, 0].plot(x, x ** 3)\n",
    "axes[1, 0].set_title('Cubic')\n",
    "\n",
    "axes[1, 1].plot(x, x ** 4)\n",
    "axes[1, 1].set_title('Quartic')"
   ]
  },
  {
   "cell_type": "markdown",
   "metadata": {},
   "source": [
    "Of course, that's a little verbose for my liking, not to mention tedious to update if we want to add more labels. So we can also use a loop to plot:"
   ]
  },
  {
   "cell_type": "code",
   "execution_count": null,
   "metadata": {
    "scrolled": true
   },
   "outputs": [],
   "source": [
    "fig, axes = plt.subplots(nrows=2, ncols=2, sharex=True)\n",
    "\n",
    "titles = ['Linear', 'Squared', 'Cubic', 'Quartic']\n",
    "y_vals = [x, x * x, x**3, x**4]\n",
    "\n",
    "# axes.flat returns the set of axes as a flat (1D) array instead\n",
    "# of the two-dimensional version we used earlier\n",
    "for ax, title, y in zip(axes.flat, titles, y_vals):\n",
    "    ax.plot(x, y)\n",
    "    ax.set_title(title)\n",
    "    ax.grid(True)"
   ]
  },
  {
   "cell_type": "markdown",
   "metadata": {},
   "source": [
    "This makes it easy to tweak all of the plots with a consistent style without repeating ourselves. It's also then easier to add, or remove plots and reshape. If you're not familiar with the `zip()` function below, it's Python's way of iterating (looping) over multiple lists of things together; so each time through the loop the first, second, etc. items from each of the lists is returned. It's one of the built-in parts of Python that makes it so easy to use."
   ]
  },
  {
   "cell_type": "markdown",
   "metadata": {},
   "source": [
    "## Conclusion"
   ]
  },
  {
   "cell_type": "markdown",
   "metadata": {},
   "source": [
    "For more information, we suggest looking at:\n",
    "\n",
    "- [matplotlib's website](http://matplotlib.org/) has many resources for learning more about matplotlib\n",
    "- matplotlib's [documentation](http://matplotlib.org/contents.html) gives more information on using matplotlib\n",
    "- matplotlib's [gallery](http://matplotlib.org/gallery.html) is a great place to see visually what matplotlib can do"
   ]
  }
 ],
 "metadata": {
  "kernelspec": {
   "display_name": "Python 3",
   "language": "python",
   "name": "python3"
  },
  "language_info": {
   "codemirror_mode": {
    "name": "ipython",
    "version": 3
   },
   "file_extension": ".py",
   "mimetype": "text/x-python",
   "name": "python",
   "nbconvert_exporter": "python",
   "pygments_lexer": "ipython3",
   "version": "3.7.3"
  },
  "widgets": {
   "state": {},
   "version": "1.1.1"
  }
 },
 "nbformat": 4,
 "nbformat_minor": 1
}
