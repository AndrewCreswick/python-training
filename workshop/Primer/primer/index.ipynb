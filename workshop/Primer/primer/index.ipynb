{
 "cells": [
  {
   "cell_type": "markdown",
   "metadata": {},
   "source": [
    "<a name=\"pagetop\"></a>\n",
    "<div style=\"width:1000 px\">\n",
    "\n",
    "<div style=\"float:right; width:98 px; height:98px;\">\n",
    "<img src=\"https://raw.githubusercontent.com/Unidata/MetPy/master/src/metpy/plots/_static/unidata_150x150.png\" alt=\"Unidata Logo\" style=\"height: 98px;\">\n",
    "</div>\n",
    "\n",
    "<h1>Primer</h1>\n",
    "<h3>Unidata Python Workshop</h3>\n",
    "\n",
    "<div style=\"clear:both\"></div>\n",
    "</div>\n",
    "\n",
    "<hr style=\"height:2px;\">\n",
    "\n",
    "<div style=\"float:right; width:250 px\"><img src=\"http://www.contribute.geeksforgeeks.org/wp-content/uploads/numpy-logo1.jpg\" alt=\"NumPy Logo\" style=\"height: 250px;\"></div>\n",
    "\n",
    "### Questions\n",
    "1. What are arrays?\n",
    "2. How can arrays be manipulated effectively in Python?\n",
    "3. How do we work with unit information with MetPy?\n",
    "\n",
    "### Objectives\n",
    "1. Slice and index the array\n",
    "2. Perform a meteorological calculation on an array of data using MetPy.\n",
    "3. Use advanced methods to index into arrays\n",
    "\n",
    "### Resources\n",
    "- [MetPy Documentation](https://unidata.github.io/MetPy/)\n",
    "- [MetPy Calculation List](https://unidata.github.io/MetPy/api/generated/metpy.calc.html)\n",
    "- [MetPy Constants](https://unidata.github.io/MetPy/api/generated/metpy.constants.html)"
   ]
  },
  {
   "cell_type": "markdown",
   "metadata": {
    "slideshow": {
     "slide_type": "slide"
    }
   },
   "source": [
    "## 1. Index and slice arrays\n",
    "\n",
    "Indexing is how we pull individual data items out of an array. Slicing extends this process to pulling out a regular set of the items."
   ]
  },
  {
   "cell_type": "code",
   "execution_count": 1,
   "metadata": {},
   "outputs": [],
   "source": [
    "# Convention for import to get shortened namespace\n",
    "import numpy as np"
   ]
  },
  {
   "cell_type": "code",
   "execution_count": 2,
   "metadata": {
    "slideshow": {
     "slide_type": "subslide"
    }
   },
   "outputs": [],
   "source": [
    "# Create an array for testing\n",
    "a = np.arange(12).reshape(3, 4)"
   ]
  },
  {
   "cell_type": "code",
   "execution_count": 3,
   "metadata": {
    "slideshow": {
     "slide_type": "fragment"
    }
   },
   "outputs": [
    {
     "data": {
      "text/plain": [
       "array([[ 0,  1,  2,  3],\n",
       "       [ 4,  5,  6,  7],\n",
       "       [ 8,  9, 10, 11]])"
      ]
     },
     "execution_count": 3,
     "metadata": {},
     "output_type": "execute_result"
    }
   ],
   "source": [
    "a"
   ]
  },
  {
   "cell_type": "markdown",
   "metadata": {
    "slideshow": {
     "slide_type": "subslide"
    }
   },
   "source": [
    "Indexing in Python is 0-based, so the command below looks for the 2nd item along the first dimension (row) and the 3rd along the second dimension (column)."
   ]
  },
  {
   "cell_type": "code",
   "execution_count": 4,
   "metadata": {
    "slideshow": {
     "slide_type": "fragment"
    }
   },
   "outputs": [
    {
     "data": {
      "text/plain": [
       "6"
      ]
     },
     "execution_count": 4,
     "metadata": {},
     "output_type": "execute_result"
    }
   ],
   "source": [
    "a[1, 2]"
   ]
  },
  {
   "cell_type": "markdown",
   "metadata": {
    "slideshow": {
     "slide_type": "subslide"
    }
   },
   "source": [
    "Can also just index on one dimension"
   ]
  },
  {
   "cell_type": "code",
   "execution_count": 5,
   "metadata": {
    "slideshow": {
     "slide_type": "fragment"
    }
   },
   "outputs": [
    {
     "data": {
      "text/plain": [
       "array([ 8,  9, 10, 11])"
      ]
     },
     "execution_count": 5,
     "metadata": {},
     "output_type": "execute_result"
    }
   ],
   "source": [
    "a[2]"
   ]
  },
  {
   "cell_type": "markdown",
   "metadata": {
    "slideshow": {
     "slide_type": "subslide"
    }
   },
   "source": [
    "Negative indices are also allowed, which permit indexing relative to the end of the array."
   ]
  },
  {
   "cell_type": "code",
   "execution_count": 6,
   "metadata": {
    "slideshow": {
     "slide_type": "fragment"
    }
   },
   "outputs": [
    {
     "data": {
      "text/plain": [
       "3"
      ]
     },
     "execution_count": 6,
     "metadata": {},
     "output_type": "execute_result"
    }
   ],
   "source": [
    "a[0, -1]"
   ]
  },
  {
   "cell_type": "markdown",
   "metadata": {
    "slideshow": {
     "slide_type": "subslide"
    }
   },
   "source": [
    "Slicing syntax is written as `start:stop[:step]`, where all numbers are optional.\n",
    "- defaults: \n",
    "  - start = 0\n",
    "  - end = len(dim)\n",
    "  - step = 1\n",
    "- The second colon is also optional if no step is used.\n",
    "\n",
    "It should be noted that end represents one past the last item; one can also think of it as a half open interval: `[start, end)`"
   ]
  },
  {
   "cell_type": "code",
   "execution_count": 7,
   "metadata": {
    "slideshow": {
     "slide_type": "subslide"
    }
   },
   "outputs": [
    {
     "data": {
      "text/plain": [
       "array([[ 4,  5,  6,  7],\n",
       "       [ 8,  9, 10, 11]])"
      ]
     },
     "execution_count": 7,
     "metadata": {},
     "output_type": "execute_result"
    }
   ],
   "source": [
    "# Get the 2nd and 3rd rows\n",
    "a[1:3]"
   ]
  },
  {
   "cell_type": "code",
   "execution_count": 8,
   "metadata": {
    "slideshow": {
     "slide_type": "fragment"
    }
   },
   "outputs": [
    {
     "data": {
      "text/plain": [
       "array([ 2,  6, 10])"
      ]
     },
     "execution_count": 8,
     "metadata": {},
     "output_type": "execute_result"
    }
   ],
   "source": [
    "# All rows and 3rd column\n",
    "a[:, 2]"
   ]
  },
  {
   "cell_type": "code",
   "execution_count": 9,
   "metadata": {
    "slideshow": {
     "slide_type": "fragment"
    }
   },
   "outputs": [
    {
     "data": {
      "text/plain": [
       "array([ 2,  6, 10])"
      ]
     },
     "execution_count": 9,
     "metadata": {},
     "output_type": "execute_result"
    }
   ],
   "source": [
    "# ... can be used to replace one or more full slices\n",
    "a[..., 2]"
   ]
  },
  {
   "cell_type": "code",
   "execution_count": 10,
   "metadata": {},
   "outputs": [
    {
     "data": {
      "text/plain": [
       "array([[ 0,  1,  2,  3],\n",
       "       [ 8,  9, 10, 11]])"
      ]
     },
     "execution_count": 10,
     "metadata": {},
     "output_type": "execute_result"
    }
   ],
   "source": [
    "# Slice every other row\n",
    "a[::2]"
   ]
  },
  {
   "cell_type": "code",
   "execution_count": 11,
   "metadata": {},
   "outputs": [
    {
     "data": {
      "text/plain": [
       "array([[ 0,  2],\n",
       "       [ 4,  6],\n",
       "       [ 8, 10]])"
      ]
     },
     "execution_count": 11,
     "metadata": {},
     "output_type": "execute_result"
    }
   ],
   "source": [
    "# Slice out every other column\n",
    "a[:, ::2]"
   ]
  },
  {
   "cell_type": "code",
   "execution_count": 12,
   "metadata": {
    "slideshow": {
     "slide_type": "fragment"
    }
   },
   "outputs": [],
   "source": [
    "# Slice every other item along each dimension -- how would we do this\n"
   ]
  },
  {
   "cell_type": "markdown",
   "metadata": {},
   "source": [
    "<a href=\"#pagetop\">Top</a>\n",
    "<hr style=\"height:2px;\">"
   ]
  },
  {
   "cell_type": "markdown",
   "metadata": {},
   "source": [
    "## 2. Use units from MetPy with calculations"
   ]
  },
  {
   "cell_type": "code",
   "execution_count": 13,
   "metadata": {},
   "outputs": [],
   "source": [
    "# Import MetPy's units registry\n",
    "from metpy.units import units"
   ]
  },
  {
   "cell_type": "code",
   "execution_count": 14,
   "metadata": {},
   "outputs": [
    {
     "name": "stdout",
     "output_type": "stream",
     "text": [
      "64 foot ** 2\n"
     ]
    }
   ],
   "source": [
    "length = 8 * units.feet\n",
    "print(length * length)"
   ]
  },
  {
   "cell_type": "code",
   "execution_count": 15,
   "metadata": {},
   "outputs": [
    {
     "name": "stdout",
     "output_type": "stream",
     "text": [
      "0.6666666666666666 mile / minute\n",
      "17.8816 meter / second\n",
      "40.0 mile_per_hour\n"
     ]
    }
   ],
   "source": [
    "distance = 10 * units.mile\n",
    "time = 15 * units.minute\n",
    "avg_speed = distance / time\n",
    "print(avg_speed)\n",
    "print(avg_speed.to_base_units())\n",
    "print(avg_speed.to('mph'))"
   ]
  },
  {
   "cell_type": "markdown",
   "metadata": {},
   "source": [
    "<a href=\"#pagetop\">Top</a>\n",
    "<hr style=\"height:2px;\">"
   ]
  },
  {
   "cell_type": "markdown",
   "metadata": {},
   "source": [
    "## 3. Perform meteorological calculations using MetPy"
   ]
  },
  {
   "cell_type": "code",
   "execution_count": 16,
   "metadata": {},
   "outputs": [],
   "source": [
    "np.random.seed(19990503)  # So we all have the same data\n",
    "u = np.random.randint(0, 45, 10) * units('m/s')\n",
    "v = np.random.randint(0, 45, 10) * units('m/s')"
   ]
  },
  {
   "cell_type": "code",
   "execution_count": 17,
   "metadata": {},
   "outputs": [
    {
     "name": "stdout",
     "output_type": "stream",
     "text": [
      "[14.0 2.0 44.0 37.0 35.0 37.0 8.0 25.0 22.0 10.0] meter / second\n",
      "[23.0 27.0 5.0 0.0 38.0 23.0 27.0 8.0 8.0 40.0] meter / second\n"
     ]
    }
   ],
   "source": [
    "print(u)\n",
    "print(v)"
   ]
  },
  {
   "cell_type": "code",
   "execution_count": 18,
   "metadata": {},
   "outputs": [],
   "source": [
    "import metpy.calc as mpcalc\n",
    "\n",
    "speed = mpcalc.wind_speed(u, v)\n",
    "direction = mpcalc.wind_direction(u, v)"
   ]
  },
  {
   "cell_type": "code",
   "execution_count": 19,
   "metadata": {},
   "outputs": [
    {
     "name": "stdout",
     "output_type": "stream",
     "text": [
      "[26.92582403567252 27.073972741361768 44.28317965096906 37.0 51.66236541235796 43.56604182158393 28.160255680657446 26.248809496813376 23.40939982143925 41.23105625617661] meter / second\n",
      "[211.32869286780416 184.23639479905884 263.5169263071027 270.0 222.6467031338917 238.13402230639628 196.50436138175502 252.2553283749431 250.01689347810003 194.03624346792648] degree\n"
     ]
    }
   ],
   "source": [
    "print(speed)\n",
    "print(np.rad2deg(direction))"
   ]
  },
  {
   "cell_type": "code",
   "execution_count": 20,
   "metadata": {},
   "outputs": [
    {
     "name": "stdout",
     "output_type": "stream",
     "text": [
      "34.95609049170319 meter / second\n"
     ]
    }
   ],
   "source": [
    "print(np.mean(speed))"
   ]
  },
  {
   "cell_type": "code",
   "execution_count": 21,
   "metadata": {},
   "outputs": [
    {
     "name": "stdout",
     "output_type": "stream",
     "text": [
      "228.2675566116978 degree\n",
      "29.27089778050201 degree\n"
     ]
    }
   ],
   "source": [
    "print(np.mean(np.rad2deg(direction)))\n",
    "print(np.std(np.rad2deg(direction)))"
   ]
  },
  {
   "cell_type": "markdown",
   "metadata": {},
   "source": [
    "Let's use MetPy to calculate the dewpoint from the current temperature and relative humidity:"
   ]
  },
  {
   "cell_type": "code",
   "execution_count": 22,
   "metadata": {},
   "outputs": [
    {
     "name": "stderr",
     "output_type": "stream",
     "text": [
      "/home/travis/miniconda/envs/unidata/lib/python3.7/site-packages/metpy/xarray.py:655: MetpyDeprecationWarning: The dewpoint_rh function was deprecated in version 0.12. This function has been renamed dewpoint_from_relative_humidity.\n",
      "  return func(*args, **kwargs)\n"
     ]
    },
    {
     "data": {
      "text/html": [
       "\\[20.264799097790046\\ degree\\_Celsius\\]"
      ],
      "text/latex": [
       "$20.264799097790046\\ \\mathrm{degree\\_Celsius}$"
      ],
      "text/plain": [
       "20.264799097790046 <Unit('degree_Celsius')>"
      ]
     },
     "execution_count": 22,
     "metadata": {},
     "output_type": "execute_result"
    }
   ],
   "source": [
    "import metpy.calc as mpcalc\n",
    "mpcalc.dewpoint_rh(25 * units.degC, 0.75)"
   ]
  },
  {
   "cell_type": "markdown",
   "metadata": {},
   "source": [
    "Thanks to units, this can work with Fahrenheit as well:"
   ]
  },
  {
   "cell_type": "code",
   "execution_count": 23,
   "metadata": {},
   "outputs": [
    {
     "data": {
      "text/html": [
       "\\[20.264799097790082\\ degree\\_Celsius\\]"
      ],
      "text/latex": [
       "$20.264799097790082\\ \\mathrm{degree\\_Celsius}$"
      ],
      "text/plain": [
       "20.264799097790082 <Unit('degree_Celsius')>"
      ]
     },
     "execution_count": 23,
     "metadata": {},
     "output_type": "execute_result"
    }
   ],
   "source": [
    "td = mpcalc.dewpoint_rh(77 * units.degF, 0.75)\n",
    "td"
   ]
  },
  {
   "cell_type": "markdown",
   "metadata": {},
   "source": [
    "And you can get it back in Fahrenheit as:"
   ]
  },
  {
   "cell_type": "code",
   "execution_count": 24,
   "metadata": {},
   "outputs": [
    {
     "data": {
      "text/html": [
       "\\[68.47663837602212\\ degree\\_Fahrenheit\\]"
      ],
      "text/latex": [
       "$68.47663837602212\\ \\mathrm{degree\\_Fahrenheit}$"
      ],
      "text/plain": [
       "68.47663837602212 <Unit('degree_Fahrenheit')>"
      ]
     },
     "execution_count": 24,
     "metadata": {},
     "output_type": "execute_result"
    }
   ],
   "source": [
    "td.to('degF')"
   ]
  },
  {
   "cell_type": "markdown",
   "metadata": {},
   "source": [
    "MetPy also has a library of useful constants, similar to those in `scipy.constants`, that are important for meteorology and have appropriate dimensionality included:"
   ]
  },
  {
   "cell_type": "code",
   "execution_count": 25,
   "metadata": {},
   "outputs": [],
   "source": [
    "import metpy.constants as consts"
   ]
  },
  {
   "cell_type": "markdown",
   "metadata": {},
   "source": [
    "We can look at the docstring for the module (or go to the web documentation) to see a list of the available contants:"
   ]
  },
  {
   "cell_type": "code",
   "execution_count": 26,
   "metadata": {},
   "outputs": [],
   "source": [
    "consts?"
   ]
  },
  {
   "cell_type": "markdown",
   "metadata": {},
   "source": [
    "So for the density of liquid water (nominally at 0C), we can use:"
   ]
  },
  {
   "cell_type": "code",
   "execution_count": 27,
   "metadata": {},
   "outputs": [
    {
     "data": {
      "text/html": [
       "\\[1000.0\\ kilogram/meter^3\\]"
      ],
      "text/latex": [
       "$1000.0\\ \\frac{\\mathrm{kilogram}}{\\mathrm{meter}^{3}}$"
      ],
      "text/plain": [
       "1000.0 <Unit('kilogram / meter ** 3')>"
      ]
     },
     "execution_count": 27,
     "metadata": {},
     "output_type": "execute_result"
    }
   ],
   "source": [
    "consts.density_water"
   ]
  },
  {
   "cell_type": "markdown",
   "metadata": {},
   "source": [
    "Or for a more symbolic and shorter notation, you can also use:"
   ]
  },
  {
   "cell_type": "code",
   "execution_count": 28,
   "metadata": {},
   "outputs": [
    {
     "data": {
      "text/html": [
       "\\[1000.0\\ kilogram/meter^3\\]"
      ],
      "text/latex": [
       "$1000.0\\ \\frac{\\mathrm{kilogram}}{\\mathrm{meter}^{3}}$"
      ],
      "text/plain": [
       "1000.0 <Unit('kilogram / meter ** 3')>"
      ]
     },
     "execution_count": 28,
     "metadata": {},
     "output_type": "execute_result"
    }
   ],
   "source": [
    "consts.rho_l"
   ]
  },
  {
   "cell_type": "markdown",
   "metadata": {},
   "source": [
    "<div class=\"alert alert-success\">\n",
    "    <b>EXERCISE</b>:\n",
    "     <ul>\n",
    "         <li>Using the function pressure_to_height_std, can you calculate the height of the 700 millibar level assuming a standard atmosphere?</li>\n",
    "         <li>What is the windchill when the temperature is 263K and the winds are blowing at 20 m/s? (Bonus points: find it in Fahrenheit)</li>\n",
    "         <li>Using only values from metpy.constants, what is the dry adiabatic lapse rate? ($\\Gamma_d = \\frac{g}{C_{pd}}$)</li>\n",
    "    </ul>\n",
    "</div>"
   ]
  },
  {
   "cell_type": "code",
   "execution_count": 29,
   "metadata": {},
   "outputs": [],
   "source": [
    "# YOUR CODE GOES HERE"
   ]
  },
  {
   "cell_type": "markdown",
   "metadata": {},
   "source": [
    "<div class=\"alert alert-info\">\n",
    "    <b>SOLUTION</b>\n",
    "</div>"
   ]
  },
  {
   "cell_type": "code",
   "execution_count": 30,
   "metadata": {},
   "outputs": [
    {
     "name": "stdout",
     "output_type": "stream",
     "text": [
      "3.01066437120362 kilometer\n",
      "-10.668929988082516 degree_Fahrenheit\n",
      "0.009757860696517412 kelvin / meter\n"
     ]
    }
   ],
   "source": [
    "# %load solutions/basic_calcs.py\n",
    "\n",
    "# Cell content replaced by load magic replacement.\n",
    "# The height of the 700 millibar level assuming a standard atmosphere\n",
    "height_700 = mpcalc.pressure_to_height_std(700 * units.hPa)\n",
    "print(height_700)\n",
    "\n",
    "# Windchill of 263K ambient temperature with 20 m/s wind\n",
    "windchill = mpcalc.windchill(263 * units.kelvin, 20 * units('m/s'))\n",
    "print(windchill.to('degF'))\n",
    "\n",
    "# Calculate the dry adiabatic lapse rate\n",
    "gamma_d = consts.g / consts.Cp_d\n",
    "print(gamma_d)\n"
   ]
  },
  {
   "cell_type": "markdown",
   "metadata": {},
   "source": [
    "<a href=\"#pagetop\">Top</a>\n",
    "<hr style=\"height:2px;\">"
   ]
  },
  {
   "cell_type": "markdown",
   "metadata": {},
   "source": [
    "## 4. Advanced NumPy Indexing\n",
    "### Boolean indexing\n",
    "Numpy can easily create arrays of boolean values and use those to select certain values to extract from an array"
   ]
  },
  {
   "cell_type": "code",
   "execution_count": 31,
   "metadata": {},
   "outputs": [],
   "source": [
    "# Create some synthetic data representing temperature and wind speed data\n",
    "np.random.seed(19990503)  # Make sure we all have the same data\n",
    "temp = (20 * np.cos(np.linspace(0, 2 * np.pi, 100)) +\n",
    "        50 + 2 * np.random.randn(100)) * units.degC\n",
    "spd = (np.abs(10 * np.sin(np.linspace(0, 2 * np.pi, 100)) +\n",
    "              10 + 5 * np.random.randn(100))) * units('m/s')"
   ]
  },
  {
   "cell_type": "code",
   "execution_count": 32,
   "metadata": {},
   "outputs": [
    {
     "data": {
      "image/png": "[encoded data removed]",
      "text/plain": [
       "<Figure size 432x288 with 1 Axes>"
      ]
     },
     "metadata": {
      "needs_background": "light"
     },
     "output_type": "display_data"
    }
   ],
   "source": [
    "%matplotlib inline\n",
    "import matplotlib.pyplot as plt\n",
    "plt.plot(temp.m, 'tab:red')\n",
    "plt.plot(spd.m, 'tab:blue');"
   ]
  },
  {
   "cell_type": "markdown",
   "metadata": {},
   "source": [
    "By doing a comparision between a NumPy array and a value, we get an\n",
    "array of values representing the results of the comparison between\n",
    "each element and the value"
   ]
  },
  {
   "cell_type": "code",
   "execution_count": 33,
   "metadata": {},
   "outputs": [
    {
     "data": {
      "text/plain": [
       "array([ True,  True,  True,  True,  True,  True,  True,  True,  True,\n",
       "        True,  True,  True,  True,  True,  True,  True,  True,  True,\n",
       "        True,  True,  True,  True,  True,  True,  True,  True,  True,\n",
       "        True, False, False,  True, False, False, False, False, False,\n",
       "       False, False, False, False, False, False, False, False, False,\n",
       "       False, False, False, False, False, False, False, False, False,\n",
       "       False, False, False, False, False, False, False, False, False,\n",
       "       False, False,  True, False, False, False, False,  True,  True,\n",
       "        True,  True,  True,  True,  True,  True,  True,  True,  True,\n",
       "        True,  True,  True,  True,  True,  True,  True,  True,  True,\n",
       "        True,  True,  True,  True,  True,  True,  True,  True,  True,\n",
       "        True])"
      ]
     },
     "execution_count": 33,
     "metadata": {},
     "output_type": "execute_result"
    }
   ],
   "source": [
    "temp > 45 * units.degC"
   ]
  },
  {
   "cell_type": "markdown",
   "metadata": {},
   "source": [
    "We can take the resulting array and use this to index into the\n",
    "NumPy array and retrieve the values where the result was true"
   ]
  },
  {
   "cell_type": "code",
   "execution_count": 34,
   "metadata": {},
   "outputs": [
    {
     "name": "stdout",
     "output_type": "stream",
     "text": [
      "[69.89825854468695 71.5231390544147 69.90028362590098 66.73828667384615 66.77980232998364 72.91468563618255 69.34603239413326 69.09533590631038 68.2735081392093 64.33916720548858 67.4949779142604 67.05282371849528 63.51829517951234 63.54034677963958 65.46576462733442 62.996838357013445 59.27662303864156 61.29361271838587 60.51641586088817 57.46048994579791 55.19793003898835 53.07572989150042 54.47998157597634 53.09552107060414 54.590372687230435 47.842727474509566 49.14355890447 45.8715153379708 45.11976793782281 45.00929200146848 46.36021140814746 46.875574250305796 47.25668992379094 50.09599544270616 53.77789357720774 50.240731969559164 54.07629058706518 51.950652023730086 55.84827793990396 57.56967085824631 57.19572063208609 61.67658285227772 56.51474577091502 59.72166924107163 62.99403255786523 63.57569452506213 64.0598423217658 60.882586433600125 65.37759899250176 63.94115754334744 65.53070255606218 67.15175649273331 66.26468701023049 67.0381179338415 69.17773618070007 69.83571708044737 70.99586741800682 66.34971928371382 67.49905206698206 69.83593609282478] degree_Celsius\n"
     ]
    }
   ],
   "source": [
    "print(temp[temp > 45 * units.degC])"
   ]
  },
  {
   "cell_type": "markdown",
   "metadata": {},
   "source": [
    "So long as the size of the boolean array matches the data, the boolean array can come from anywhere"
   ]
  },
  {
   "cell_type": "code",
   "execution_count": 35,
   "metadata": {},
   "outputs": [
    {
     "name": "stdout",
     "output_type": "stream",
     "text": [
      "[66.73828667384615 66.77980232998364 69.34603239413326 69.09533590631038 68.2735081392093 64.33916720548858 67.4949779142604 67.05282371849528 63.51829517951234 63.54034677963958 65.46576462733442 62.996838357013445 59.27662303864156 61.29361271838587 60.51641586088817 57.46048994579791 55.19793003898835 53.07572989150042 54.47998157597634 53.09552107060414 54.590372687230435 47.842727474509566 49.14355890447 45.8715153379708 43.95971515711935 42.72814761853248 42.45316174918564 39.279751697339314 40.233519377882125 36.77179678083506 34.433292285358405 31.422776123832897 38.97505745136671 34.105495749878514 35.70826448330276 29.012760684628027 30.311809346299665 29.31602671228388 32.845804535209695 30.766953091382078 29.113447159842654 30.166525713638762 29.9151304875085 39.517843886525874 69.17773618070007 69.83571708044737 69.83593609282478] degree_Celsius\n"
     ]
    }
   ],
   "source": [
    "print(temp[spd > 10 * units('m/s')])"
   ]
  },
  {
   "cell_type": "code",
   "execution_count": 36,
   "metadata": {},
   "outputs": [
    {
     "data": {
      "text/plain": [
       "[<matplotlib.lines.Line2D at 0x7f68680cf2d0>]"
      ]
     },
     "execution_count": 36,
     "metadata": {},
     "output_type": "execute_result"
    },
    {
     "data": {
      "image/png": "[encoded data removed]",
      "text/plain": [
       "<Figure size 432x288 with 1 Axes>"
      ]
     },
     "metadata": {
      "needs_background": "light"
     },
     "output_type": "display_data"
    }
   ],
   "source": [
    "# Make a copy so we don't modify the original data\n",
    "temp2 = temp.copy()\n",
    "\n",
    "# Replace all places where spd is <10 with NaN (not a number) so matplotlib skips it\n",
    "temp2[spd < 10 * units('m/s')] = np.nan * units.degC\n",
    "plt.plot(temp2, 'tab:red')"
   ]
  },
  {
   "cell_type": "markdown",
   "metadata": {},
   "source": [
    "Can also combine multiple boolean arrays using the syntax for bitwise operations. **MUST HAVE PARENTHESES** due to operator precedence."
   ]
  },
  {
   "cell_type": "code",
   "execution_count": 37,
   "metadata": {},
   "outputs": [
    {
     "name": "stdout",
     "output_type": "stream",
     "text": [
      "[43.95971515711935 42.72814761853248 42.45316174918564 39.279751697339314 40.233519377882125 36.77179678083506 34.433292285358405 31.422776123832897 38.97505745136671 34.105495749878514 35.70826448330276 29.012760684628027 30.311809346299665 29.31602671228388 32.845804535209695 30.766953091382078 29.113447159842654 30.166525713638762 29.9151304875085 39.517843886525874] degree_Celsius\n"
     ]
    }
   ],
   "source": [
    "print(temp[(temp < 45 * units.degC) & (spd > 10 * units('m/s'))])"
   ]
  },
  {
   "cell_type": "markdown",
   "metadata": {},
   "source": [
    "### Arrays of indices\n",
    "\n",
    "You can also use a list or array of indices to extract particular values--this is a natural extension of the regular indexing. For instance, just as we can select the first element:"
   ]
  },
  {
   "cell_type": "code",
   "execution_count": 38,
   "metadata": {},
   "outputs": [
    {
     "name": "stdout",
     "output_type": "stream",
     "text": [
      "69.89825854468695 degree_Celsius\n"
     ]
    }
   ],
   "source": [
    "print(temp[0])"
   ]
  },
  {
   "cell_type": "markdown",
   "metadata": {},
   "source": [
    "We can also extract the first, fifth, and tenth elements:"
   ]
  },
  {
   "cell_type": "code",
   "execution_count": 39,
   "metadata": {},
   "outputs": [
    {
     "name": "stdout",
     "output_type": "stream",
     "text": [
      "[69.89825854468695 66.77980232998364 64.33916720548858] degree_Celsius\n"
     ]
    }
   ],
   "source": [
    "print(temp[[0, 4, 9]])"
   ]
  },
  {
   "cell_type": "markdown",
   "metadata": {},
   "source": [
    "One of the ways this comes into play is trying to sort numpy arrays using `argsort`. This function returns the indices of the array that give the items in sorted order. So for our temp \"data\":"
   ]
  },
  {
   "cell_type": "code",
   "execution_count": 40,
   "metadata": {},
   "outputs": [
    {
     "name": "stdout",
     "output_type": "stream",
     "text": [
      "[52 57 42 48 54 44 56 51 49 43 50 46 58 55 53 40 37 61 47 45 59 39 36 60\n",
      " 41 34 66 63 35 38 32 62 64 33 31 67 29 28 68 69 65 30 27 70 71 72 25 26\n",
      " 73 75 77 21 23 74 76 22 24 20 78 82 80 19 79 16 83 18 87 17 81 84 15 12\n",
      " 13 85 89 86  9 88 14 90 92 97  3  4 93 11 91 10 98  8  7 94  6 95 99  0\n",
      "  2 96  1  5]\n"
     ]
    }
   ],
   "source": [
    "inds = np.argsort(temp)\n",
    "print(inds)"
   ]
  },
  {
   "cell_type": "markdown",
   "metadata": {},
   "source": [
    "We can use this array of indices to pass into temp to get it in sorted order:"
   ]
  },
  {
   "cell_type": "code",
   "execution_count": 41,
   "metadata": {},
   "outputs": [
    {
     "name": "stdout",
     "output_type": "stream",
     "text": [
      "[28.718282038323036 28.85269149038033 29.012760684628027 29.113447159842654 29.251861637220156 29.31602671228388 29.427963807265506 29.9151304875085 30.166525713638762 30.311809346299665 30.48608715235223 30.766953091382078 30.93380275283696 30.958143915002044 31.071999626534367 31.134141096889948 31.422776123832897 32.27369636009039 32.4492768437443 32.845804535209695 33.375737130323344 34.105495749878514 34.433292285358405 34.95696913767817 35.70826448330276 36.77179678083506 37.0695433492411 37.39853292612909 37.74533670280897 38.97505745136671 39.279751697339314 39.34620461421512 39.517843886525874 40.233519377882125 42.45316174918564 42.69583703084014 42.72814761853248 43.95971515711935 44.03576452873479 44.45775806330646 45.00929200146848 45.11976793782281 45.8715153379708 46.36021140814746 46.875574250305796 47.25668992379094 47.842727474509566 49.14355890447 50.09599544270616 50.240731969559164 51.950652023730086 53.07572989150042 53.09552107060414 53.77789357720774 54.07629058706518 54.47998157597634 54.590372687230435 55.19793003898835 55.84827793990396 56.51474577091502 57.19572063208609 57.46048994579791 57.56967085824631 59.27662303864156 59.72166924107163 60.51641586088817 60.882586433600125 61.29361271838587 61.67658285227772 62.99403255786523 62.996838357013445 63.51829517951234 63.54034677963958 63.57569452506213 63.94115754334744 64.0598423217658 64.33916720548858 65.37759899250176 65.46576462733442 65.53070255606218 66.26468701023049 66.34971928371382 66.73828667384615 66.77980232998364 67.0381179338415 67.05282371849528 67.15175649273331 67.4949779142604 67.49905206698206 68.2735081392093 69.09533590631038 69.17773618070007 69.34603239413326 69.83571708044737 69.83593609282478 69.89825854468695 69.90028362590098 70.99586741800682 71.5231390544147 72.91468563618255] degree_Celsius\n"
     ]
    }
   ],
   "source": [
    "print(temp[inds])"
   ]
  },
  {
   "cell_type": "markdown",
   "metadata": {},
   "source": [
    "Or we can slice `inds` to only give the 10 highest temperatures:"
   ]
  },
  {
   "cell_type": "code",
   "execution_count": 42,
   "metadata": {},
   "outputs": [
    {
     "name": "stdout",
     "output_type": "stream",
     "text": [
      "[69.09533590631038 69.17773618070007 69.34603239413326 69.83571708044737 69.83593609282478 69.89825854468695 69.90028362590098 70.99586741800682 71.5231390544147 72.91468563618255] degree_Celsius\n"
     ]
    }
   ],
   "source": [
    "ten_highest = inds[-10:]\n",
    "print(temp[ten_highest])"
   ]
  },
  {
   "cell_type": "markdown",
   "metadata": {},
   "source": [
    "There are other numpy arg functions that return indices for operating:"
   ]
  },
  {
   "cell_type": "code",
   "execution_count": 43,
   "metadata": {},
   "outputs": [],
   "source": [
    "np.*arg*?"
   ]
  },
  {
   "cell_type": "markdown",
   "metadata": {},
   "source": [
    "<div class=\"alert alert-success\">\n",
    "    <b>EXERCISE</b>:\n",
    "\n",
    "Heat index is only defined for temperatures >= 80F and relative humidity values >= 40%. Using the data generated below, use boolean indexing to extract the data where heat index has a valid value.\n",
    "</div>"
   ]
  },
  {
   "cell_type": "code",
   "execution_count": 44,
   "metadata": {},
   "outputs": [],
   "source": [
    "# Our import for numpy and metpy\n",
    "import numpy as np\n",
    "import matplotlib.pyplot as plt\n",
    "from metpy.units import units\n",
    "\n",
    "# Here's the \"data\"\n",
    "np.random.seed(19990503)  # Make sure we all have the same data\n",
    "temp = (20 * np.cos(np.linspace(0, 2 * np.pi, 100)) +\n",
    "        80 + 2 * np.random.randn(100)) * units.degF\n",
    "rh = (np.abs(20 * np.cos(np.linspace(0, 4 * np.pi, 100)) +\n",
    "              50 + 5 * np.random.randn(100))) * units('percent')\n",
    "\n",
    "\n",
    "# Create a mask for the two conditions described above\n",
    "# good_heat_index = \n",
    "\n",
    "\n",
    "\n",
    "# Use this mask to grab the temperature and relative humidity values that together\n",
    "# will give good heat index values\n",
    "# temp[] ?\n",
    "\n",
    "\n",
    "# BONUS POINTS: Plot only the data where heat index is defined by\n",
    "# inverting the mask (using `~mask`) and setting invalid values to np.nan"
   ]
  },
  {
   "cell_type": "markdown",
   "metadata": {},
   "source": [
    "<div class=\"alert alert-info\">\n",
    "    <b>SOLUTION</b>\n",
    "</div>"
   ]
  },
  {
   "cell_type": "code",
   "execution_count": 45,
   "metadata": {},
   "outputs": [
    {
     "data": {
      "text/plain": [
       "[<matplotlib.lines.Line2D at 0x7f68680cfc90>]"
      ]
     },
     "execution_count": 45,
     "metadata": {},
     "output_type": "execute_result"
    },
    {
     "data": {
      "image/png": "[encoded data removed]",
      "text/plain": [
       "<Figure size 432x288 with 1 Axes>"
      ]
     },
     "metadata": {
      "needs_background": "light"
     },
     "output_type": "display_data"
    }
   ],
   "source": [
    "# %load solutions/boolean_indexing.py\n",
    "\n",
    "# Cell content replaced by load magic replacement.\n",
    "# Our import for numpy and metpy\n",
    "import numpy as np\n",
    "import matplotlib.pyplot as plt\n",
    "from metpy.units import units\n",
    "\n",
    "# Here's the \"data\"\n",
    "np.random.seed(19990503)  # Make sure we all have the same data\n",
    "temp = (20 * np.cos(np.linspace(0, 2 * np.pi, 100)) +\n",
    "        80 + 2 * np.random.randn(100)) * units.degF\n",
    "rh = (np.abs(20 * np.cos(np.linspace(0, 4 * np.pi, 100)) +\n",
    "              50 + 5 * np.random.randn(100))) * units('percent')\n",
    "\n",
    "# Create a mask for the two conditions described above\n",
    "good_heat_index = (temp >= 80 * units.degF) & (rh >= 40 * units.percent)\n",
    "\n",
    "# Use this mask to grab the temperature and relative humidity values that together\n",
    "# will give good heat index values\n",
    "hi_temps = temp[good_heat_index]\n",
    "hi_rh = rh[good_heat_index]\n",
    "\n",
    "# BONUS POINTS: Plot only the data where heat index is defined by\n",
    "# inverting the mask (using `~mask`) and setting invalid values to np.nan\n",
    "temp[~good_heat_index] = np.nan\n",
    "rh[~good_heat_index] = np.nan\n",
    "\n",
    "plt.plot(temp.m, color='tab:red')\n",
    "plt.plot(rh.m, color='tab:green')\n"
   ]
  },
  {
   "cell_type": "markdown",
   "metadata": {},
   "source": [
    "<a href=\"#pagetop\">Top</a>\n",
    "<hr style=\"height:2px;\">"
   ]
  }
 ],
 "metadata": {
  "kernelspec": {
   "display_name": "Python 3",
   "language": "python",
   "name": "python3"
  },
  "language_info": {
   "codemirror_mode": {
    "name": "ipython",
    "version": 3
   },
   "file_extension": ".py",
   "mimetype": "text/x-python",
   "name": "python",
   "nbconvert_exporter": "python",
   "pygments_lexer": "ipython3",
   "version": "3.7.6"
  }
 },
 "nbformat": 4,
 "nbformat_minor": 4
}
