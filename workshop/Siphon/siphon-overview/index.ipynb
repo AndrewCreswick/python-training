{
 "cells": [
  {
   "cell_type": "markdown",
   "metadata": {},
   "source": [
    "<a name=\"top\"></a>\n",
    "<div style=\"width:1000 px\">\n",
    "\n",
    "<div style=\"float:right; width:98 px; height:98px;\">\n",
    "<img src=\"https://raw.githubusercontent.com/Unidata/MetPy/master/src/metpy/plots/_static/unidata_150x150.png\" alt=\"Unidata Logo\" style=\"height: 98px;\">\n",
    "</div>\n",
    "\n",
    "<h1>Siphon Overview</h1>\n",
    "<h3>Unidata Python Workshop</h3>\n",
    "\n",
    "<div style=\"clear:both\"></div>\n",
    "</div>\n",
    "\n",
    "<hr style=\"height:2px;\">\n",
    "\n",
    "<div style=\"float:right; width:250 px\"><img src=\"https://unidata.github.io/siphon/latest/_static/siphon_150x150.png\" alt=\"TDS\" style=\"height: 200px;\"></div>\n",
    "\n",
    "### Questions\n",
    "1. What is a THREDDS Data Server (TDS)?\n",
    "1. How can I use Siphon to access a TDS?\n",
    "\n",
    "### Objectives\n",
    "1. <a href=\"#threddsintro\">Use Siphon to Access a THREDDS Catalog</a>\n",
    "1. <a href=\"#filtering\">Filtering Data</a>\n",
    "1. <a href=\"#dataaccess\">Use Siphon to Perform Remote Data Access</a>"
   ]
  },
  {
   "cell_type": "markdown",
   "metadata": {},
   "source": [
    "<a name=\"threddsintro\"></a>\n",
    "## 1. Use Siphon to Access a THREDDS Catalog\n",
    "\n",
    "THREDDS is a server for providing remote access to datasets and a variety of server-side services. THREDDS make data access more uniform regardless of the on-disk format.\n",
    " * Data Access Services:\n",
    "   - HTTP Download\n",
    "   - Web Mapping/Coverage Service (WMS/WCS)\n",
    "   - OPeNDAP\n",
    "   - NetCDF Subset Service\n",
    "   - CDMRemote\n",
    "   \n",
    "There is a server with real-time data setup at [http://thredds.ucar.edu](http://thredds.ucar.edu) that we'll use to explore the capability of THREDDS and learn how to access data. Let's open that link and explore in the browser what's available on THREDDS. Explore the NEXRAD level 3 data specifically.\n",
    "\n",
    "### THREDDS Catalogs\n",
    "- XML descriptions of data and metadata\n",
    "- Access methods\n",
    "- Easily processed with `siphon.catalog.TDSCatalog`"
   ]
  },
  {
   "cell_type": "code",
   "execution_count": 1,
   "metadata": {},
   "outputs": [],
   "source": [
    "from datetime import datetime, timedelta\n",
    "\n",
    "from siphon.catalog import TDSCatalog"
   ]
  },
  {
   "cell_type": "markdown",
   "metadata": {},
   "source": [
    "Let's get data from yesterday at this time. We'll use the timedelta object to do this in an easy way."
   ]
  },
  {
   "cell_type": "code",
   "execution_count": 2,
   "metadata": {},
   "outputs": [
    {
     "name": "stdout",
     "output_type": "stream",
     "text": [
      "2020-01-09 07:00:28.374750\n"
     ]
    }
   ],
   "source": [
    "date = datetime.utcnow() - timedelta(days=1)\n",
    "print(date)"
   ]
  },
  {
   "cell_type": "markdown",
   "metadata": {},
   "source": [
    "We'll then go find the URL for the level 3 radar data. Let's get the N0Q (tilt 1 base reflectivity) for the LRX radar. Notice that we change the `html` extension to `xml`. Siphon will do that for us, but issue a warning."
   ]
  },
  {
   "cell_type": "code",
   "execution_count": 3,
   "metadata": {},
   "outputs": [],
   "source": [
    "cat = TDSCatalog('http://thredds.ucar.edu/thredds/catalog/nexrad/level3/'\n",
    "                 f'N0Q/LRX/{date:%Y%m%d}/catalog.xml')"
   ]
  },
  {
   "cell_type": "code",
   "execution_count": 4,
   "metadata": {},
   "outputs": [
    {
     "data": {
      "text/plain": [
       "['Level3_LRX_N0Q_20200109_2353.nids', 'Level3_LRX_N0Q_20200109_2346.nids', 'Level3_LRX_N0Q_20200109_2339.nids', 'Level3_LRX_N0Q_20200109_2332.nids', 'Level3_LRX_N0Q_20200109_2327.nids', 'Level3_LRX_N0Q_20200109_2323.nids', 'Level3_LRX_N0Q_20200109_2318.nids', 'Level3_LRX_N0Q_20200109_2313.nids', 'Level3_LRX_N0Q_20200109_2308.nids', 'Level3_LRX_N0Q_20200109_2304.nids', 'Level3_LRX_N0Q_20200109_2259.nids', 'Level3_LRX_N0Q_20200109_2254.nids', 'Level3_LRX_N0Q_20200109_2250.nids', 'Level3_LRX_N0Q_20200109_2245.nids', 'Level3_LRX_N0Q_20200109_2241.nids', 'Level3_LRX_N0Q_20200109_2236.nids', 'Level3_LRX_N0Q_20200109_2231.nids', 'Level3_LRX_N0Q_20200109_2227.nids', 'Level3_LRX_N0Q_20200109_2222.nids', 'Level3_LRX_N0Q_20200109_2217.nids', 'Level3_LRX_N0Q_20200109_2213.nids', 'Level3_LRX_N0Q_20200109_2208.nids', 'Level3_LRX_N0Q_20200109_2203.nids', 'Level3_LRX_N0Q_20200109_2159.nids', 'Level3_LRX_N0Q_20200109_2154.nids', 'Level3_LRX_N0Q_20200109_2149.nids', 'Level3_LRX_N0Q_20200109_2145.nids', 'Level3_LRX_N0Q_20200109_2140.nids', 'Level3_LRX_N0Q_20200109_2135.nids', 'Level3_LRX_N0Q_20200109_2131.nids', 'Level3_LRX_N0Q_20200109_2126.nids', 'Level3_LRX_N0Q_20200109_2121.nids', 'Level3_LRX_N0Q_20200109_2117.nids', 'Level3_LRX_N0Q_20200109_2112.nids', 'Level3_LRX_N0Q_20200109_2107.nids', 'Level3_LRX_N0Q_20200109_2103.nids', 'Level3_LRX_N0Q_20200109_2058.nids', 'Level3_LRX_N0Q_20200109_2053.nids', 'Level3_LRX_N0Q_20200109_2049.nids', 'Level3_LRX_N0Q_20200109_2044.nids', 'Level3_LRX_N0Q_20200109_2039.nids', 'Level3_LRX_N0Q_20200109_2035.nids', 'Level3_LRX_N0Q_20200109_2030.nids', 'Level3_LRX_N0Q_20200109_2025.nids', 'Level3_LRX_N0Q_20200109_2021.nids', 'Level3_LRX_N0Q_20200109_2016.nids', 'Level3_LRX_N0Q_20200109_2011.nids', 'Level3_LRX_N0Q_20200109_2006.nids', 'Level3_LRX_N0Q_20200109_2001.nids', 'Level3_LRX_N0Q_20200109_1955.nids', 'Level3_LRX_N0Q_20200109_1950.nids', 'Level3_LRX_N0Q_20200109_1944.nids', 'Level3_LRX_N0Q_20200109_1937.nids', 'Level3_LRX_N0Q_20200109_1931.nids', 'Level3_LRX_N0Q_20200109_1925.nids', 'Level3_LRX_N0Q_20200109_1919.nids', 'Level3_LRX_N0Q_20200109_1913.nids', 'Level3_LRX_N0Q_20200109_1907.nids', 'Level3_LRX_N0Q_20200109_1901.nids', 'Level3_LRX_N0Q_20200109_1855.nids', 'Level3_LRX_N0Q_20200109_1849.nids', 'Level3_LRX_N0Q_20200109_1843.nids', 'Level3_LRX_N0Q_20200109_1838.nids', 'Level3_LRX_N0Q_20200109_1833.nids', 'Level3_LRX_N0Q_20200109_1827.nids', 'Level3_LRX_N0Q_20200109_1822.nids', 'Level3_LRX_N0Q_20200109_1817.nids', 'Level3_LRX_N0Q_20200109_1812.nids', 'Level3_LRX_N0Q_20200109_1807.nids', 'Level3_LRX_N0Q_20200109_1802.nids', 'Level3_LRX_N0Q_20200109_1757.nids', 'Level3_LRX_N0Q_20200109_1752.nids', 'Level3_LRX_N0Q_20200109_1748.nids', 'Level3_LRX_N0Q_20200109_1743.nids', 'Level3_LRX_N0Q_20200109_1738.nids', 'Level3_LRX_N0Q_20200109_1734.nids', 'Level3_LRX_N0Q_20200109_1729.nids', 'Level3_LRX_N0Q_20200109_1724.nids', 'Level3_LRX_N0Q_20200109_1720.nids', 'Level3_LRX_N0Q_20200109_1715.nids', 'Level3_LRX_N0Q_20200109_1710.nids', 'Level3_LRX_N0Q_20200109_1706.nids', 'Level3_LRX_N0Q_20200109_1701.nids', 'Level3_LRX_N0Q_20200109_1656.nids', 'Level3_LRX_N0Q_20200109_1652.nids', 'Level3_LRX_N0Q_20200109_1647.nids', 'Level3_LRX_N0Q_20200109_1642.nids', 'Level3_LRX_N0Q_20200109_1627.nids', 'Level3_LRX_N0Q_20200109_1620.nids', 'Level3_LRX_N0Q_20200109_1613.nids', 'Level3_LRX_N0Q_20200109_1604.nids', 'Level3_LRX_N0Q_20200109_1557.nids', 'Level3_LRX_N0Q_20200109_1550.nids', 'Level3_LRX_N0Q_20200109_1543.nids', 'Level3_LRX_N0Q_20200109_1536.nids', 'Level3_LRX_N0Q_20200109_1529.nids', 'Level3_LRX_N0Q_20200109_1522.nids', 'Level3_LRX_N0Q_20200109_1514.nids', 'Level3_LRX_N0Q_20200109_1507.nids', 'Level3_LRX_N0Q_20200109_1500.nids', 'Level3_LRX_N0Q_20200109_1453.nids', 'Level3_LRX_N0Q_20200109_1446.nids', 'Level3_LRX_N0Q_20200109_1439.nids', 'Level3_LRX_N0Q_20200109_1432.nids', 'Level3_LRX_N0Q_20200109_1425.nids', 'Level3_LRX_N0Q_20200109_1418.nids', 'Level3_LRX_N0Q_20200109_1411.nids', 'Level3_LRX_N0Q_20200109_1404.nids', 'Level3_LRX_N0Q_20200109_1357.nids', 'Level3_LRX_N0Q_20200109_1350.nids', 'Level3_LRX_N0Q_20200109_1343.nids', 'Level3_LRX_N0Q_20200109_1335.nids', 'Level3_LRX_N0Q_20200109_1328.nids', 'Level3_LRX_N0Q_20200109_1321.nids', 'Level3_LRX_N0Q_20200109_1314.nids', 'Level3_LRX_N0Q_20200109_1307.nids', 'Level3_LRX_N0Q_20200109_1300.nids', 'Level3_LRX_N0Q_20200109_1253.nids', 'Level3_LRX_N0Q_20200109_1246.nids', 'Level3_LRX_N0Q_20200109_1239.nids', 'Level3_LRX_N0Q_20200109_1232.nids', 'Level3_LRX_N0Q_20200109_1225.nids', 'Level3_LRX_N0Q_20200109_1217.nids', 'Level3_LRX_N0Q_20200109_1210.nids', 'Level3_LRX_N0Q_20200109_1203.nids', 'Level3_LRX_N0Q_20200109_1156.nids', 'Level3_LRX_N0Q_20200109_1149.nids', 'Level3_LRX_N0Q_20200109_1142.nids', 'Level3_LRX_N0Q_20200109_1135.nids', 'Level3_LRX_N0Q_20200109_1128.nids', 'Level3_LRX_N0Q_20200109_1121.nids', 'Level3_LRX_N0Q_20200109_1114.nids', 'Level3_LRX_N0Q_20200109_1107.nids', 'Level3_LRX_N0Q_20200109_1100.nids', 'Level3_LRX_N0Q_20200109_1052.nids', 'Level3_LRX_N0Q_20200109_1045.nids', 'Level3_LRX_N0Q_20200109_1038.nids', 'Level3_LRX_N0Q_20200109_1031.nids', 'Level3_LRX_N0Q_20200109_1024.nids', 'Level3_LRX_N0Q_20200109_1017.nids', 'Level3_LRX_N0Q_20200109_1010.nids', 'Level3_LRX_N0Q_20200109_1003.nids', 'Level3_LRX_N0Q_20200109_0956.nids', 'Level3_LRX_N0Q_20200109_0949.nids', 'Level3_LRX_N0Q_20200109_0942.nids', 'Level3_LRX_N0Q_20200109_0935.nids', 'Level3_LRX_N0Q_20200109_0927.nids', 'Level3_LRX_N0Q_20200109_0920.nids', 'Level3_LRX_N0Q_20200109_0913.nids', 'Level3_LRX_N0Q_20200109_0906.nids', 'Level3_LRX_N0Q_20200109_0859.nids', 'Level3_LRX_N0Q_20200109_0852.nids', 'Level3_LRX_N0Q_20200109_0845.nids', 'Level3_LRX_N0Q_20200109_0838.nids', 'Level3_LRX_N0Q_20200109_0831.nids', 'Level3_LRX_N0Q_20200109_0824.nids', 'Level3_LRX_N0Q_20200109_0817.nids', 'Level3_LRX_N0Q_20200109_0809.nids', 'Level3_LRX_N0Q_20200109_0800.nids', 'Level3_LRX_N0Q_20200109_0753.nids', 'Level3_LRX_N0Q_20200109_0746.nids', 'Level3_LRX_N0Q_20200109_0739.nids', 'Level3_LRX_N0Q_20200109_0732.nids', 'Level3_LRX_N0Q_20200109_0725.nids', 'Level3_LRX_N0Q_20200109_0718.nids', 'Level3_LRX_N0Q_20200109_0711.nids', 'Level3_LRX_N0Q_20200109_0704.nids', 'Level3_LRX_N0Q_20200109_0656.nids', 'Level3_LRX_N0Q_20200109_0649.nids', 'Level3_LRX_N0Q_20200109_0642.nids', 'Level3_LRX_N0Q_20200109_0635.nids', 'Level3_LRX_N0Q_20200109_0628.nids', 'Level3_LRX_N0Q_20200109_0621.nids', 'Level3_LRX_N0Q_20200109_0614.nids', 'Level3_LRX_N0Q_20200109_0607.nids', 'Level3_LRX_N0Q_20200109_0600.nids', 'Level3_LRX_N0Q_20200109_0553.nids', 'Level3_LRX_N0Q_20200109_0546.nids', 'Level3_LRX_N0Q_20200109_0538.nids', 'Level3_LRX_N0Q_20200109_0531.nids', 'Level3_LRX_N0Q_20200109_0524.nids', 'Level3_LRX_N0Q_20200109_0517.nids', 'Level3_LRX_N0Q_20200109_0510.nids', 'Level3_LRX_N0Q_20200109_0503.nids', 'Level3_LRX_N0Q_20200109_0456.nids', 'Level3_LRX_N0Q_20200109_0449.nids', 'Level3_LRX_N0Q_20200109_0442.nids', 'Level3_LRX_N0Q_20200109_0435.nids', 'Level3_LRX_N0Q_20200109_0428.nids', 'Level3_LRX_N0Q_20200109_0420.nids', 'Level3_LRX_N0Q_20200109_0413.nids', 'Level3_LRX_N0Q_20200109_0406.nids', 'Level3_LRX_N0Q_20200109_0359.nids', 'Level3_LRX_N0Q_20200109_0352.nids', 'Level3_LRX_N0Q_20200109_0345.nids', 'Level3_LRX_N0Q_20200109_0338.nids', 'Level3_LRX_N0Q_20200109_0331.nids', 'Level3_LRX_N0Q_20200109_0324.nids', 'Level3_LRX_N0Q_20200109_0317.nids', 'Level3_LRX_N0Q_20200109_0309.nids', 'Level3_LRX_N0Q_20200109_0302.nids', 'Level3_LRX_N0Q_20200109_0255.nids', 'Level3_LRX_N0Q_20200109_0248.nids', 'Level3_LRX_N0Q_20200109_0241.nids', 'Level3_LRX_N0Q_20200109_0234.nids', 'Level3_LRX_N0Q_20200109_0227.nids', 'Level3_LRX_N0Q_20200109_0220.nids', 'Level3_LRX_N0Q_20200109_0213.nids', 'Level3_LRX_N0Q_20200109_0206.nids', 'Level3_LRX_N0Q_20200109_0159.nids', 'Level3_LRX_N0Q_20200109_0152.nids', 'Level3_LRX_N0Q_20200109_0145.nids', 'Level3_LRX_N0Q_20200109_0137.nids', 'Level3_LRX_N0Q_20200109_0130.nids', 'Level3_LRX_N0Q_20200109_0123.nids', 'Level3_LRX_N0Q_20200109_0116.nids', 'Level3_LRX_N0Q_20200109_0109.nids', 'Level3_LRX_N0Q_20200109_0102.nids', 'Level3_LRX_N0Q_20200109_0055.nids', 'Level3_LRX_N0Q_20200109_0048.nids', 'Level3_LRX_N0Q_20200109_0041.nids', 'Level3_LRX_N0Q_20200109_0034.nids', 'Level3_LRX_N0Q_20200109_0027.nids', 'Level3_LRX_N0Q_20200109_0022.nids', 'Level3_LRX_N0Q_20200109_0017.nids', 'Level3_LRX_N0Q_20200109_0013.nids', 'Level3_LRX_N0Q_20200109_0008.nids', 'Level3_LRX_N0Q_20200109_0003.nids']"
      ]
     },
     "execution_count": 4,
     "metadata": {},
     "output_type": "execute_result"
    }
   ],
   "source": [
    "cat.datasets"
   ]
  },
  {
   "cell_type": "markdown",
   "metadata": {},
   "source": [
    "<a href=\"#top\">Top</a>\n",
    "<hr style=\"height:2px;\">"
   ]
  },
  {
   "cell_type": "markdown",
   "metadata": {},
   "source": [
    "<a name=\"filtering\"></a>\n",
    "## 2. Filtering Data"
   ]
  },
  {
   "cell_type": "markdown",
   "metadata": {},
   "source": [
    "We *could* manually look through that list above and figure out what dataset we're looking for and generate that name (or index). Siphon provides some helpers to simplify this process, provided the names of the dataset follow a pattern with the timestamp in the name:"
   ]
  },
  {
   "cell_type": "code",
   "execution_count": 5,
   "metadata": {},
   "outputs": [
    {
     "data": {
      "text/plain": [
       "Level3_LRX_N0Q_20200109_1833.nids"
      ]
     },
     "execution_count": 5,
     "metadata": {},
     "output_type": "execute_result"
    }
   ],
   "source": [
    "request_time = date.replace(hour=18, minute=30, second=0, microsecond=0)\n",
    "ds = cat.datasets.filter_time_nearest(request_time)\n",
    "ds"
   ]
  },
  {
   "cell_type": "markdown",
   "metadata": {},
   "source": [
    "We can also find the list of datasets within a time range:"
   ]
  },
  {
   "cell_type": "code",
   "execution_count": 6,
   "metadata": {},
   "outputs": [
    {
     "name": "stdout",
     "output_type": "stream",
     "text": [
      "[Level3_LRX_N0Q_20200109_1925.nids, Level3_LRX_N0Q_20200109_1919.nids, Level3_LRX_N0Q_20200109_1913.nids, Level3_LRX_N0Q_20200109_1907.nids, Level3_LRX_N0Q_20200109_1901.nids, Level3_LRX_N0Q_20200109_1855.nids, Level3_LRX_N0Q_20200109_1849.nids, Level3_LRX_N0Q_20200109_1843.nids, Level3_LRX_N0Q_20200109_1838.nids, Level3_LRX_N0Q_20200109_1833.nids]\n"
     ]
    }
   ],
   "source": [
    "datasets = cat.datasets.filter_time_range(request_time, request_time + timedelta(hours=1))\n",
    "print(datasets)"
   ]
  },
  {
   "cell_type": "markdown",
   "metadata": {},
   "source": [
    "<div class=\"alert alert-success\">\n",
    "    <b>EXERCISE</b>:\n",
    "     <ul>\n",
    "        <li>Starting from http://thredds.ucar.edu/, find the level 2 radar data for the Tulsa, OK radar (KINX) for the previous day.</li>\n",
    "        <li>Grab the URL and create a TDSCatalog instance.</li>\n",
    "        <li>Using Siphon, find the data available in the catalog between 12Z and 18Z on the previous day.</li>\n",
    "    </ul>\n",
    "</div>"
   ]
  },
  {
   "cell_type": "code",
   "execution_count": 7,
   "metadata": {},
   "outputs": [],
   "source": [
    "# YOUR CODE GOES HERE"
   ]
  },
  {
   "cell_type": "markdown",
   "metadata": {},
   "source": [
    "<div class=\"alert alert-info\">\n",
    "    <b>SOLUTION</b>\n",
    "</div>"
   ]
  },
  {
   "cell_type": "code",
   "execution_count": 8,
   "metadata": {},
   "outputs": [
    {
     "name": "stdout",
     "output_type": "stream",
     "text": [
      "[Level2_KINX_20200109_1755.ar2v, Level2_KINX_20200109_1747.ar2v, Level2_KINX_20200109_1739.ar2v, Level2_KINX_20200109_1730.ar2v, Level2_KINX_20200109_1722.ar2v, Level2_KINX_20200109_1714.ar2v, Level2_KINX_20200109_1705.ar2v, Level2_KINX_20200109_1657.ar2v, Level2_KINX_20200109_1649.ar2v, Level2_KINX_20200109_1640.ar2v, Level2_KINX_20200109_1632.ar2v, Level2_KINX_20200109_1624.ar2v, Level2_KINX_20200109_1615.ar2v, Level2_KINX_20200109_1607.ar2v, Level2_KINX_20200109_1558.ar2v, Level2_KINX_20200109_1550.ar2v, Level2_KINX_20200109_1541.ar2v, Level2_KINX_20200109_1533.ar2v, Level2_KINX_20200109_1524.ar2v, Level2_KINX_20200109_1516.ar2v, Level2_KINX_20200109_1507.ar2v, Level2_KINX_20200109_1457.ar2v, Level2_KINX_20200109_1448.ar2v, Level2_KINX_20200109_1439.ar2v, Level2_KINX_20200109_1431.ar2v, Level2_KINX_20200109_1422.ar2v, Level2_KINX_20200109_1414.ar2v, Level2_KINX_20200109_1406.ar2v, Level2_KINX_20200109_1357.ar2v, Level2_KINX_20200109_1349.ar2v, Level2_KINX_20200109_1340.ar2v, Level2_KINX_20200109_1332.ar2v, Level2_KINX_20200109_1323.ar2v, Level2_KINX_20200109_1315.ar2v, Level2_KINX_20200109_1306.ar2v, Level2_KINX_20200109_1258.ar2v, Level2_KINX_20200109_1249.ar2v, Level2_KINX_20200109_1241.ar2v, Level2_KINX_20200109_1233.ar2v, Level2_KINX_20200109_1224.ar2v, Level2_KINX_20200109_1215.ar2v, Level2_KINX_20200109_1207.ar2v]\n"
     ]
    }
   ],
   "source": [
    "# %load solutions/datasets.py\n",
    "\n",
    "# Cell content replaced by load magic replacement.\n",
    "# Solution from above in case you had trouble\n",
    "date = datetime.utcnow() - timedelta(days=1)\n",
    "cat = TDSCatalog(f'https://thredds.ucar.edu/thredds/catalog/nexrad/level2/KINX/{date:%Y%m%d}/catalog.xml')\n",
    "request_time = date.replace(hour=12, minute=0, second=0, microsecond=0)\n",
    "datasets = cat.datasets.filter_time_range(request_time, request_time + timedelta(hours=6))\n",
    "print(datasets)\n"
   ]
  },
  {
   "cell_type": "markdown",
   "metadata": {},
   "source": [
    "<a href=\"#top\">Top</a>\n",
    "<hr style=\"height:2px;\">"
   ]
  },
  {
   "cell_type": "markdown",
   "metadata": {},
   "source": [
    "<a name=\"dataaccess\"></a>\n",
    "## 3. Use Siphon to Perform Remote Data Access\n",
    "\n",
    "Accessing catalogs is only part of the story; Siphon is much more useful if you're trying to access/download datasets.\n",
    "\n",
    "For instance, using our data that we just retrieved:"
   ]
  },
  {
   "cell_type": "code",
   "execution_count": 9,
   "metadata": {},
   "outputs": [],
   "source": [
    "# Solution from above in case you had trouble\n",
    "date = datetime.utcnow() - timedelta(days=1)\n",
    "cat = TDSCatalog(f'https://thredds.ucar.edu/thredds/catalog/nexrad/level2/KINX/{date:%Y%m%d}/catalog.xml')\n",
    "request_time = date.replace(hour=12, minute=0, second=0, microsecond=0)\n",
    "datasets = cat.datasets.filter_time_range(request_time, request_time + timedelta(hours=6))"
   ]
  },
  {
   "cell_type": "code",
   "execution_count": 10,
   "metadata": {},
   "outputs": [],
   "source": [
    "ds = datasets[0]"
   ]
  },
  {
   "cell_type": "markdown",
   "metadata": {
    "slideshow": {
     "slide_type": "fragment"
    }
   },
   "source": [
    "We can ask Siphon to download the file locally:"
   ]
  },
  {
   "cell_type": "code",
   "execution_count": 11,
   "metadata": {},
   "outputs": [],
   "source": [
    "ds.download()"
   ]
  },
  {
   "cell_type": "markdown",
   "metadata": {},
   "source": [
    "Look in your file explorer panel or run the cell below to verify that we did actually download the file!"
   ]
  },
  {
   "cell_type": "code",
   "execution_count": 12,
   "metadata": {},
   "outputs": [
    {
     "data": {
      "text/plain": [
       "['solutions', 'Siphon Overview.ipynb', 'Level2_KINX_20200109_1755.ar2v']"
      ]
     },
     "execution_count": 12,
     "metadata": {},
     "output_type": "execute_result"
    }
   ],
   "source": [
    "import os; os.listdir()"
   ]
  },
  {
   "cell_type": "markdown",
   "metadata": {
    "slideshow": {
     "slide_type": "subslide"
    }
   },
   "source": [
    "Or better yet, get a file-like object that lets us `read` from the file as if it were local:"
   ]
  },
  {
   "cell_type": "code",
   "execution_count": 13,
   "metadata": {},
   "outputs": [
    {
     "name": "stdout",
     "output_type": "stream",
     "text": [
      "2335841\n"
     ]
    }
   ],
   "source": [
    "fobj = ds.remote_open()\n",
    "data = fobj.read()\n",
    "print(len(data))"
   ]
  },
  {
   "cell_type": "markdown",
   "metadata": {},
   "source": [
    "This is handy if you have Python code to read a particular format."
   ]
  },
  {
   "cell_type": "markdown",
   "metadata": {
    "slideshow": {
     "slide_type": "subslide"
    }
   },
   "source": [
    "It's also possible to get access to the file through services that provide netCDF4-like access, but for the remote file. This access allows downloading information only for variables of interest, or for (index-based) subsets of that data:"
   ]
  },
  {
   "cell_type": "code",
   "execution_count": 14,
   "metadata": {},
   "outputs": [],
   "source": [
    "nc = ds.remote_access()"
   ]
  },
  {
   "cell_type": "markdown",
   "metadata": {},
   "source": [
    "By default this uses CDMRemote (if available), but it's also possible to ask for OPeNDAP (using netCDF4-python). There is even XArray support which is great with the declarative plotting interface - more on that later."
   ]
  },
  {
   "cell_type": "code",
   "execution_count": 15,
   "metadata": {},
   "outputs": [
    {
     "name": "stdout",
     "output_type": "stream",
     "text": [
      "['Reflectivity_HI', 'timeR_HI', 'elevationR_HI', 'azimuthR_HI', 'distanceR_HI', 'numRadialsR_HI', 'numGatesR_HI', 'Reflectivity', 'timeR', 'elevationR', 'azimuthR', 'distanceR', 'numRadialsR', 'numGatesR', 'RadialVelocity_HI', 'timeV_HI', 'elevationV_HI', 'azimuthV_HI', 'distanceV_HI', 'numRadialsV_HI', 'numGatesV_HI', 'RadialVelocity', 'timeV', 'elevationV', 'azimuthV', 'distanceV', 'numRadialsV', 'numGatesV', 'SpectrumWidth_HI', 'SpectrumWidth', 'DifferentialReflectivity_HI', 'timeD_HI', 'elevationD_HI', 'azimuthD_HI', 'distanceD_HI', 'numRadialsD_HI', 'numGatesD_HI', 'DifferentialReflectivity', 'timeD', 'elevationD', 'azimuthD', 'distanceD', 'numRadialsD', 'numGatesD', 'CorrelationCoefficient_HI', 'timeC_HI', 'elevationC_HI', 'azimuthC_HI', 'distanceC_HI', 'numRadialsC_HI', 'numGatesC_HI', 'CorrelationCoefficient', 'timeC', 'elevationC', 'azimuthC', 'distanceC', 'numRadialsC', 'numGatesC', 'DifferentialPhase_HI', 'timeP_HI', 'elevationP_HI', 'azimuthP_HI', 'distanceP_HI', 'numRadialsP_HI', 'numGatesP_HI', 'DifferentialPhase', 'timeP', 'elevationP', 'azimuthP', 'distanceP', 'numRadialsP', 'numGatesP']\n"
     ]
    }
   ],
   "source": [
    "print(list(nc.variables))"
   ]
  },
  {
   "cell_type": "markdown",
   "metadata": {},
   "source": [
    "<a href=\"#top\">Top</a>\n",
    "<hr style=\"height:2px;\">"
   ]
  }
 ],
 "metadata": {
  "kernelspec": {
   "display_name": "Python 3",
   "language": "python",
   "name": "python3"
  },
  "language_info": {
   "codemirror_mode": {
    "name": "ipython",
    "version": 3
   },
   "file_extension": ".py",
   "mimetype": "text/x-python",
   "name": "python",
   "nbconvert_exporter": "python",
   "pygments_lexer": "ipython3",
   "version": "3.7.6"
  }
 },
 "nbformat": 4,
 "nbformat_minor": 4
}
