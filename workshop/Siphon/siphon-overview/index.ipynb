{
 "cells": [
  {
   "cell_type": "markdown",
   "metadata": {},
   "source": [
    "<a name=\"top\"></a>\n",
    "<div style=\"width:1000 px\">\n",
    "\n",
    "<div style=\"float:right; width:98 px; height:98px;\">\n",
    "<img src=\"https://raw.githubusercontent.com/Unidata/MetPy/master/src/metpy/plots/_static/unidata_150x150.png\" alt=\"Unidata Logo\" style=\"height: 98px;\">\n",
    "</div>\n",
    "\n",
    "<h1>Siphon Overview</h1>\n",
    "<h3>Unidata Python Workshop</h3>\n",
    "\n",
    "<div style=\"clear:both\"></div>\n",
    "</div>\n",
    "\n",
    "<hr style=\"height:2px;\">\n",
    "\n",
    "<div style=\"float:right; width:250 px\"><img src=\"https://unidata.github.io/siphon/latest/_static/siphon_150x150.png\" alt=\"TDS\" style=\"height: 200px;\"></div>\n",
    "\n",
    "### Questions\n",
    "1. What is a THREDDS Data Server (TDS)?\n",
    "1. How can I use Siphon to access a TDS?\n",
    "\n",
    "### Objectives\n",
    "1. <a href=\"#threddsintro\">Use Siphon to Access a THREDDS Catalog</a>\n",
    "1. <a href=\"#filtering\">Filtering Data</a>\n",
    "1. <a href=\"#dataaccess\">Use Siphon to Perform Remote Data Access</a>"
   ]
  },
  {
   "cell_type": "markdown",
   "metadata": {},
   "source": [
    "<a name=\"threddsintro\"></a>\n",
    "## 1. Use Siphon to Access a THREDDS Catalog\n",
    "\n",
    "THREDDS is a server for providing remote access to datasets and a variety of server-side services. THREDDS make data access more uniform regardless of the on-disk format.\n",
    " * Data Access Services:\n",
    "   - HTTP Download\n",
    "   - Web Mapping/Coverage Service (WMS/WCS)\n",
    "   - OPeNDAP\n",
    "   - NetCDF Subset Service\n",
    "   - CDMRemote\n",
    "   \n",
    "There is a server with real-time data setup at [http://thredds.ucar.edu](http://thredds.ucar.edu) that we'll use to explore the capability of THREDDS and learn how to access data. Let's open that link and explore in the browser what's available on THREDDS. Explore the NEXRAD level 3 data specifically.\n",
    "\n",
    "### THREDDS Catalogs\n",
    "- XML descriptions of data and metadata\n",
    "- Access methods\n",
    "- Easily processed with `siphon.catalog.TDSCatalog`"
   ]
  },
  {
   "cell_type": "code",
   "execution_count": 1,
   "metadata": {},
   "outputs": [],
   "source": [
    "from datetime import datetime, timedelta\n",
    "\n",
    "from siphon.catalog import TDSCatalog"
   ]
  },
  {
   "cell_type": "markdown",
   "metadata": {},
   "source": [
    "Let's get data from yesterday at this time. We'll use the timedelta object to do this in an easy way."
   ]
  },
  {
   "cell_type": "code",
   "execution_count": 2,
   "metadata": {},
   "outputs": [
    {
     "name": "stdout",
     "output_type": "stream",
     "text": [
      "2020-01-08 19:27:30.127522\n"
     ]
    }
   ],
   "source": [
    "date = datetime.utcnow() - timedelta(days=1)\n",
    "print(date)"
   ]
  },
  {
   "cell_type": "markdown",
   "metadata": {},
   "source": [
    "We'll then go find the URL for the level 3 radar data. Let's get the N0Q (tilt 1 base reflectivity) for the LRX radar. Notice that we change the `html` extension to `xml`. Siphon will do that for us, but issue a warning."
   ]
  },
  {
   "cell_type": "code",
   "execution_count": 3,
   "metadata": {},
   "outputs": [],
   "source": [
    "cat = TDSCatalog('http://thredds.ucar.edu/thredds/catalog/nexrad/level3/'\n",
    "                 f'N0Q/LRX/{date:%Y%m%d}/catalog.xml')"
   ]
  },
  {
   "cell_type": "code",
   "execution_count": 4,
   "metadata": {},
   "outputs": [
    {
     "data": {
      "text/plain": [
       "['Level3_LRX_N0Q_20200108_1830.nids', 'Level3_LRX_N0Q_20200108_1820.nids', 'Level3_LRX_N0Q_20200108_1811.nids', 'Level3_LRX_N0Q_20200108_1801.nids', 'Level3_LRX_N0Q_20200108_1752.nids', 'Level3_LRX_N0Q_20200108_1742.nids', 'Level3_LRX_N0Q_20200108_1732.nids', 'Level3_LRX_N0Q_20200108_1723.nids', 'Level3_LRX_N0Q_20200108_1713.nids', 'Level3_LRX_N0Q_20200108_1703.nids', 'Level3_LRX_N0Q_20200108_1654.nids', 'Level3_LRX_N0Q_20200108_1644.nids', 'Level3_LRX_N0Q_20200108_1634.nids', 'Level3_LRX_N0Q_20200108_1625.nids', 'Level3_LRX_N0Q_20200108_1615.nids', 'Level3_LRX_N0Q_20200108_1606.nids', 'Level3_LRX_N0Q_20200108_1556.nids', 'Level3_LRX_N0Q_20200108_1546.nids', 'Level3_LRX_N0Q_20200108_1537.nids', 'Level3_LRX_N0Q_20200108_1527.nids', 'Level3_LRX_N0Q_20200108_1517.nids', 'Level3_LRX_N0Q_20200108_1508.nids', 'Level3_LRX_N0Q_20200108_1458.nids', 'Level3_LRX_N0Q_20200108_1448.nids', 'Level3_LRX_N0Q_20200108_1439.nids', 'Level3_LRX_N0Q_20200108_1429.nids', 'Level3_LRX_N0Q_20200108_1420.nids', 'Level3_LRX_N0Q_20200108_1410.nids', 'Level3_LRX_N0Q_20200108_1400.nids', 'Level3_LRX_N0Q_20200108_1351.nids', 'Level3_LRX_N0Q_20200108_1341.nids', 'Level3_LRX_N0Q_20200108_1331.nids', 'Level3_LRX_N0Q_20200108_1322.nids', 'Level3_LRX_N0Q_20200108_1312.nids', 'Level3_LRX_N0Q_20200108_1302.nids', 'Level3_LRX_N0Q_20200108_1253.nids', 'Level3_LRX_N0Q_20200108_1243.nids', 'Level3_LRX_N0Q_20200108_1234.nids', 'Level3_LRX_N0Q_20200108_1224.nids', 'Level3_LRX_N0Q_20200108_1214.nids', 'Level3_LRX_N0Q_20200108_1205.nids', 'Level3_LRX_N0Q_20200108_1155.nids', 'Level3_LRX_N0Q_20200108_1145.nids', 'Level3_LRX_N0Q_20200108_1136.nids', 'Level3_LRX_N0Q_20200108_1124.nids', 'Level3_LRX_N0Q_20200108_1114.nids', 'Level3_LRX_N0Q_20200108_1105.nids', 'Level3_LRX_N0Q_20200108_1055.nids', 'Level3_LRX_N0Q_20200108_1046.nids', 'Level3_LRX_N0Q_20200108_1036.nids', 'Level3_LRX_N0Q_20200108_1026.nids', 'Level3_LRX_N0Q_20200108_1017.nids', 'Level3_LRX_N0Q_20200108_1007.nids', 'Level3_LRX_N0Q_20200108_0957.nids', 'Level3_LRX_N0Q_20200108_0948.nids', 'Level3_LRX_N0Q_20200108_0938.nids', 'Level3_LRX_N0Q_20200108_0928.nids', 'Level3_LRX_N0Q_20200108_0919.nids', 'Level3_LRX_N0Q_20200108_0909.nids', 'Level3_LRX_N0Q_20200108_0900.nids', 'Level3_LRX_N0Q_20200108_0850.nids', 'Level3_LRX_N0Q_20200108_0840.nids', 'Level3_LRX_N0Q_20200108_0831.nids', 'Level3_LRX_N0Q_20200108_0821.nids', 'Level3_LRX_N0Q_20200108_0811.nids', 'Level3_LRX_N0Q_20200108_0802.nids', 'Level3_LRX_N0Q_20200108_0752.nids', 'Level3_LRX_N0Q_20200108_0742.nids', 'Level3_LRX_N0Q_20200108_0733.nids', 'Level3_LRX_N0Q_20200108_0723.nids', 'Level3_LRX_N0Q_20200108_0714.nids', 'Level3_LRX_N0Q_20200108_0704.nids', 'Level3_LRX_N0Q_20200108_0654.nids', 'Level3_LRX_N0Q_20200108_0645.nids', 'Level3_LRX_N0Q_20200108_0635.nids', 'Level3_LRX_N0Q_20200108_0625.nids', 'Level3_LRX_N0Q_20200108_0616.nids', 'Level3_LRX_N0Q_20200108_0606.nids', 'Level3_LRX_N0Q_20200108_0557.nids', 'Level3_LRX_N0Q_20200108_0547.nids', 'Level3_LRX_N0Q_20200108_0537.nids', 'Level3_LRX_N0Q_20200108_0528.nids', 'Level3_LRX_N0Q_20200108_0518.nids', 'Level3_LRX_N0Q_20200108_0508.nids', 'Level3_LRX_N0Q_20200108_0459.nids', 'Level3_LRX_N0Q_20200108_0449.nids', 'Level3_LRX_N0Q_20200108_0439.nids', 'Level3_LRX_N0Q_20200108_0430.nids', 'Level3_LRX_N0Q_20200108_0420.nids', 'Level3_LRX_N0Q_20200108_0411.nids', 'Level3_LRX_N0Q_20200108_0401.nids', 'Level3_LRX_N0Q_20200108_0351.nids', 'Level3_LRX_N0Q_20200108_0342.nids', 'Level3_LRX_N0Q_20200108_0332.nids', 'Level3_LRX_N0Q_20200108_0320.nids', 'Level3_LRX_N0Q_20200108_0311.nids', 'Level3_LRX_N0Q_20200108_0301.nids', 'Level3_LRX_N0Q_20200108_0251.nids', 'Level3_LRX_N0Q_20200108_0242.nids', 'Level3_LRX_N0Q_20200108_0232.nids', 'Level3_LRX_N0Q_20200108_0223.nids', 'Level3_LRX_N0Q_20200108_0213.nids', 'Level3_LRX_N0Q_20200108_0203.nids', 'Level3_LRX_N0Q_20200108_0154.nids', 'Level3_LRX_N0Q_20200108_0144.nids', 'Level3_LRX_N0Q_20200108_0134.nids', 'Level3_LRX_N0Q_20200108_0125.nids', 'Level3_LRX_N0Q_20200108_0115.nids', 'Level3_LRX_N0Q_20200108_0105.nids', 'Level3_LRX_N0Q_20200108_0056.nids', 'Level3_LRX_N0Q_20200108_0046.nids', 'Level3_LRX_N0Q_20200108_0036.nids', 'Level3_LRX_N0Q_20200108_0027.nids', 'Level3_LRX_N0Q_20200108_0017.nids', 'Level3_LRX_N0Q_20200108_0010.nids', 'Level3_LRX_N0Q_20200108_0003.nids']"
      ]
     },
     "execution_count": 4,
     "metadata": {},
     "output_type": "execute_result"
    }
   ],
   "source": [
    "cat.datasets"
   ]
  },
  {
   "cell_type": "markdown",
   "metadata": {},
   "source": [
    "<a href=\"#top\">Top</a>\n",
    "<hr style=\"height:2px;\">"
   ]
  },
  {
   "cell_type": "markdown",
   "metadata": {},
   "source": [
    "<a name=\"filtering\"></a>\n",
    "## 2. Filtering Data"
   ]
  },
  {
   "cell_type": "markdown",
   "metadata": {},
   "source": [
    "We *could* manually look through that list above and figure out what dataset we're looking for and generate that name (or index). Siphon provides some helpers to simplify this process, provided the names of the dataset follow a pattern with the timestamp in the name:"
   ]
  },
  {
   "cell_type": "code",
   "execution_count": 5,
   "metadata": {},
   "outputs": [
    {
     "data": {
      "text/plain": [
       "Level3_LRX_N0Q_20200108_1830.nids"
      ]
     },
     "execution_count": 5,
     "metadata": {},
     "output_type": "execute_result"
    }
   ],
   "source": [
    "request_time = date.replace(hour=18, minute=30, second=0, microsecond=0)\n",
    "ds = cat.datasets.filter_time_nearest(request_time)\n",
    "ds"
   ]
  },
  {
   "cell_type": "markdown",
   "metadata": {},
   "source": [
    "We can also find the list of datasets within a time range:"
   ]
  },
  {
   "cell_type": "code",
   "execution_count": 6,
   "metadata": {},
   "outputs": [
    {
     "name": "stdout",
     "output_type": "stream",
     "text": [
      "[Level3_LRX_N0Q_20200108_1830.nids]\n"
     ]
    }
   ],
   "source": [
    "datasets = cat.datasets.filter_time_range(request_time, request_time + timedelta(hours=1))\n",
    "print(datasets)"
   ]
  },
  {
   "cell_type": "markdown",
   "metadata": {},
   "source": [
    "<div class=\"alert alert-success\">\n",
    "    <b>EXERCISE</b>:\n",
    "     <ul>\n",
    "        <li>Starting from http://thredds.ucar.edu/, find the level 2 radar data for the Tulsa, OK radar (KINX) for the previous day.</li>\n",
    "        <li>Grab the URL and create a TDSCatalog instance.</li>\n",
    "        <li>Using Siphon, find the data available in the catalog between 12Z and 18Z on the previous day.</li>\n",
    "    </ul>\n",
    "</div>"
   ]
  },
  {
   "cell_type": "code",
   "execution_count": 7,
   "metadata": {},
   "outputs": [],
   "source": [
    "# YOUR CODE GOES HERE"
   ]
  },
  {
   "cell_type": "markdown",
   "metadata": {},
   "source": [
    "<div class=\"alert alert-info\">\n",
    "    <b>SOLUTION</b>\n",
    "</div>"
   ]
  },
  {
   "cell_type": "code",
   "execution_count": 8,
   "metadata": {},
   "outputs": [
    {
     "name": "stdout",
     "output_type": "stream",
     "text": [
      "[Level2_KINX_20200108_1800.ar2v, Level2_KINX_20200108_1752.ar2v, Level2_KINX_20200108_1743.ar2v, Level2_KINX_20200108_1735.ar2v, Level2_KINX_20200108_1727.ar2v, Level2_KINX_20200108_1718.ar2v, Level2_KINX_20200108_1710.ar2v, Level2_KINX_20200108_1702.ar2v, Level2_KINX_20200108_1653.ar2v, Level2_KINX_20200108_1645.ar2v, Level2_KINX_20200108_1637.ar2v, Level2_KINX_20200108_1628.ar2v, Level2_KINX_20200108_1620.ar2v, Level2_KINX_20200108_1612.ar2v, Level2_KINX_20200108_1603.ar2v, Level2_KINX_20200108_1555.ar2v, Level2_KINX_20200108_1546.ar2v, Level2_KINX_20200108_1538.ar2v, Level2_KINX_20200108_1529.ar2v, Level2_KINX_20200108_1520.ar2v, Level2_KINX_20200108_1512.ar2v, Level2_KINX_20200108_1503.ar2v, Level2_KINX_20200108_1455.ar2v, Level2_KINX_20200108_1444.ar2v, Level2_KINX_20200108_1436.ar2v, Level2_KINX_20200108_1427.ar2v, Level2_KINX_20200108_1419.ar2v, Level2_KINX_20200108_1410.ar2v, Level2_KINX_20200108_1401.ar2v, Level2_KINX_20200108_1353.ar2v, Level2_KINX_20200108_1344.ar2v, Level2_KINX_20200108_1335.ar2v, Level2_KINX_20200108_1327.ar2v, Level2_KINX_20200108_1318.ar2v, Level2_KINX_20200108_1310.ar2v, Level2_KINX_20200108_1301.ar2v, Level2_KINX_20200108_1253.ar2v, Level2_KINX_20200108_1244.ar2v, Level2_KINX_20200108_1236.ar2v, Level2_KINX_20200108_1227.ar2v, Level2_KINX_20200108_1218.ar2v, Level2_KINX_20200108_1210.ar2v, Level2_KINX_20200108_1201.ar2v]\n"
     ]
    }
   ],
   "source": [
    "# %load solutions/datasets.py\n",
    "\n",
    "# Cell content replaced by load magic replacement.\n",
    "# Solution from above in case you had trouble\n",
    "date = datetime.utcnow() - timedelta(days=1)\n",
    "cat = TDSCatalog(f'https://thredds.ucar.edu/thredds/catalog/nexrad/level2/KINX/{date:%Y%m%d}/catalog.xml')\n",
    "request_time = date.replace(hour=12, minute=0, second=0, microsecond=0)\n",
    "datasets = cat.datasets.filter_time_range(request_time, request_time + timedelta(hours=6))\n",
    "print(datasets)\n"
   ]
  },
  {
   "cell_type": "markdown",
   "metadata": {},
   "source": [
    "<a href=\"#top\">Top</a>\n",
    "<hr style=\"height:2px;\">"
   ]
  },
  {
   "cell_type": "markdown",
   "metadata": {},
   "source": [
    "<a name=\"dataaccess\"></a>\n",
    "## 3. Use Siphon to Perform Remote Data Access\n",
    "\n",
    "Accessing catalogs is only part of the story; Siphon is much more useful if you're trying to access/download datasets.\n",
    "\n",
    "For instance, using our data that we just retrieved:"
   ]
  },
  {
   "cell_type": "code",
   "execution_count": 9,
   "metadata": {},
   "outputs": [],
   "source": [
    "# Solution from above in case you had trouble\n",
    "date = datetime.utcnow() - timedelta(days=1)\n",
    "cat = TDSCatalog(f'https://thredds.ucar.edu/thredds/catalog/nexrad/level2/KINX/{date:%Y%m%d}/catalog.xml')\n",
    "request_time = date.replace(hour=12, minute=0, second=0, microsecond=0)\n",
    "datasets = cat.datasets.filter_time_range(request_time, request_time + timedelta(hours=6))"
   ]
  },
  {
   "cell_type": "code",
   "execution_count": 10,
   "metadata": {},
   "outputs": [],
   "source": [
    "ds = datasets[0]"
   ]
  },
  {
   "cell_type": "markdown",
   "metadata": {
    "slideshow": {
     "slide_type": "fragment"
    }
   },
   "source": [
    "We can ask Siphon to download the file locally:"
   ]
  },
  {
   "cell_type": "code",
   "execution_count": 11,
   "metadata": {},
   "outputs": [],
   "source": [
    "ds.download()"
   ]
  },
  {
   "cell_type": "markdown",
   "metadata": {},
   "source": [
    "Look in your file explorer panel or run the cell below to verify that we did actually download the file!"
   ]
  },
  {
   "cell_type": "code",
   "execution_count": 12,
   "metadata": {},
   "outputs": [
    {
     "data": {
      "text/plain": [
       "['solutions', 'Siphon Overview.ipynb', 'Level2_KINX_20200108_1800.ar2v']"
      ]
     },
     "execution_count": 12,
     "metadata": {},
     "output_type": "execute_result"
    }
   ],
   "source": [
    "import os; os.listdir()"
   ]
  },
  {
   "cell_type": "markdown",
   "metadata": {
    "slideshow": {
     "slide_type": "subslide"
    }
   },
   "source": [
    "Or better yet, get a file-like object that lets us `read` from the file as if it were local:"
   ]
  },
  {
   "cell_type": "code",
   "execution_count": 13,
   "metadata": {},
   "outputs": [
    {
     "name": "stdout",
     "output_type": "stream",
     "text": [
      "2278121\n"
     ]
    }
   ],
   "source": [
    "fobj = ds.remote_open()\n",
    "data = fobj.read()\n",
    "print(len(data))"
   ]
  },
  {
   "cell_type": "markdown",
   "metadata": {},
   "source": [
    "This is handy if you have Python code to read a particular format."
   ]
  },
  {
   "cell_type": "markdown",
   "metadata": {
    "slideshow": {
     "slide_type": "subslide"
    }
   },
   "source": [
    "It's also possible to get access to the file through services that provide netCDF4-like access, but for the remote file. This access allows downloading information only for variables of interest, or for (index-based) subsets of that data:"
   ]
  },
  {
   "cell_type": "code",
   "execution_count": 14,
   "metadata": {},
   "outputs": [],
   "source": [
    "nc = ds.remote_access()"
   ]
  },
  {
   "cell_type": "markdown",
   "metadata": {},
   "source": [
    "By default this uses CDMRemote (if available), but it's also possible to ask for OPeNDAP (using netCDF4-python). There is even XArray support which is great with the declarative plotting interface - more on that later."
   ]
  },
  {
   "cell_type": "code",
   "execution_count": 15,
   "metadata": {},
   "outputs": [
    {
     "name": "stdout",
     "output_type": "stream",
     "text": [
      "['Reflectivity_HI', 'timeR_HI', 'elevationR_HI', 'azimuthR_HI', 'distanceR_HI', 'numRadialsR_HI', 'numGatesR_HI', 'Reflectivity', 'timeR', 'elevationR', 'azimuthR', 'distanceR', 'numRadialsR', 'numGatesR', 'RadialVelocity_HI', 'timeV_HI', 'elevationV_HI', 'azimuthV_HI', 'distanceV_HI', 'numRadialsV_HI', 'numGatesV_HI', 'RadialVelocity', 'timeV', 'elevationV', 'azimuthV', 'distanceV', 'numRadialsV', 'numGatesV', 'SpectrumWidth_HI', 'SpectrumWidth', 'DifferentialReflectivity_HI', 'timeD_HI', 'elevationD_HI', 'azimuthD_HI', 'distanceD_HI', 'numRadialsD_HI', 'numGatesD_HI', 'DifferentialReflectivity', 'timeD', 'elevationD', 'azimuthD', 'distanceD', 'numRadialsD', 'numGatesD', 'CorrelationCoefficient_HI', 'timeC_HI', 'elevationC_HI', 'azimuthC_HI', 'distanceC_HI', 'numRadialsC_HI', 'numGatesC_HI', 'CorrelationCoefficient', 'timeC', 'elevationC', 'azimuthC', 'distanceC', 'numRadialsC', 'numGatesC', 'DifferentialPhase_HI', 'timeP_HI', 'elevationP_HI', 'azimuthP_HI', 'distanceP_HI', 'numRadialsP_HI', 'numGatesP_HI', 'DifferentialPhase', 'timeP', 'elevationP', 'azimuthP', 'distanceP', 'numRadialsP', 'numGatesP']\n"
     ]
    }
   ],
   "source": [
    "print(list(nc.variables))"
   ]
  },
  {
   "cell_type": "markdown",
   "metadata": {},
   "source": [
    "<a href=\"#top\">Top</a>\n",
    "<hr style=\"height:2px;\">"
   ]
  }
 ],
 "metadata": {
  "kernelspec": {
   "display_name": "Python 3",
   "language": "python",
   "name": "python3"
  },
  "language_info": {
   "codemirror_mode": {
    "name": "ipython",
    "version": 3
   },
   "file_extension": ".py",
   "mimetype": "text/x-python",
   "name": "python",
   "nbconvert_exporter": "python",
   "pygments_lexer": "ipython3",
   "version": "3.7.6"
  }
 },
 "nbformat": 4,
 "nbformat_minor": 4
}
