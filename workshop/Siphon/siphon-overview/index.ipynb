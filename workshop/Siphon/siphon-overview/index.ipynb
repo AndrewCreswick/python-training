{
 "cells": [
  {
   "cell_type": "markdown",
   "metadata": {},
   "source": [
    "<a name=\"top\"></a>\n",
    "<div style=\"width:1000 px\">\n",
    "\n",
    "<div style=\"float:right; width:98 px; height:98px;\">\n",
    "<img src=\"https://raw.githubusercontent.com/Unidata/MetPy/master/src/metpy/plots/_static/unidata_150x150.png\" alt=\"Unidata Logo\" style=\"height: 98px;\">\n",
    "</div>\n",
    "\n",
    "<h1>Siphon Overview</h1>\n",
    "<h3>Unidata Python Workshop</h3>\n",
    "\n",
    "<div style=\"clear:both\"></div>\n",
    "</div>\n",
    "\n",
    "<hr style=\"height:2px;\">\n",
    "\n",
    "<div style=\"float:right; width:250 px\"><img src=\"https://unidata.github.io/siphon/latest/_static/siphon_150x150.png\" alt=\"TDS\" style=\"height: 200px;\"></div>\n",
    "\n",
    "### Questions\n",
    "1. What is a THREDDS Data Server (TDS)?\n",
    "1. How can I use Siphon to access a TDS?\n",
    "\n",
    "### Objectives\n",
    "1. <a href=\"#threddsintro\">Use Siphon to Access a THREDDS Catalog</a>\n",
    "1. <a href=\"#filtering\">Filtering Data</a>\n",
    "1. <a href=\"#dataaccess\">Use Siphon to Perform Remote Data Access</a>"
   ]
  },
  {
   "cell_type": "markdown",
   "metadata": {},
   "source": [
    "<a name=\"threddsintro\"></a>\n",
    "## 1. Use Siphon to Access a THREDDS Catalog\n",
    "\n",
    "THREDDS is a server for providing remote access to datasets and a variety of server-side services. THREDDS make data access more uniform regardless of the on-disk format.\n",
    " * Data Access Services:\n",
    "   - HTTP Download\n",
    "   - Web Mapping/Coverage Service (WMS/WCS)\n",
    "   - OPeNDAP\n",
    "   - NetCDF Subset Service\n",
    "   - CDMRemote\n",
    "   \n",
    "There is a server with real-time data setup at [http://thredds.ucar.edu](http://thredds.ucar.edu) that we'll use to explore the capability of THREDDS and learn how to access data. Let's open that link and explore in the browser what's available on THREDDS. Explore the NEXRAD level 3 data specifically.\n",
    "\n",
    "### THREDDS Catalogs\n",
    "- XML descriptions of data and metadata\n",
    "- Access methods\n",
    "- Easily processed with `siphon.catalog.TDSCatalog`"
   ]
  },
  {
   "cell_type": "code",
   "execution_count": 1,
   "metadata": {},
   "outputs": [],
   "source": [
    "from datetime import datetime, timedelta\n",
    "\n",
    "from siphon.catalog import TDSCatalog"
   ]
  },
  {
   "cell_type": "markdown",
   "metadata": {},
   "source": [
    "Let's get data from yesterday at this time. We'll use the timedelta object to do this in an easy way."
   ]
  },
  {
   "cell_type": "code",
   "execution_count": 2,
   "metadata": {},
   "outputs": [
    {
     "name": "stdout",
     "output_type": "stream",
     "text": [
      "2020-01-13 21:14:12.257808\n"
     ]
    }
   ],
   "source": [
    "date = datetime.utcnow() - timedelta(days=1)\n",
    "print(date)"
   ]
  },
  {
   "cell_type": "markdown",
   "metadata": {},
   "source": [
    "We'll then go find the URL for the level 3 radar data. Let's get the N0Q (tilt 1 base reflectivity) for the LRX radar. Notice that we change the `html` extension to `xml`. Siphon will do that for us, but issue a warning."
   ]
  },
  {
   "cell_type": "code",
   "execution_count": 3,
   "metadata": {},
   "outputs": [],
   "source": [
    "cat = TDSCatalog('http://thredds.ucar.edu/thredds/catalog/nexrad/level3/'\n",
    "                 f'N0Q/LRX/{date:%Y%m%d}/catalog.xml')"
   ]
  },
  {
   "cell_type": "code",
   "execution_count": 4,
   "metadata": {},
   "outputs": [
    {
     "data": {
      "text/plain": [
       "['Level3_LRX_N0Q_20200113_2352.nids', 'Level3_LRX_N0Q_20200113_2342.nids', 'Level3_LRX_N0Q_20200113_2333.nids', 'Level3_LRX_N0Q_20200113_2323.nids', 'Level3_LRX_N0Q_20200113_2313.nids', 'Level3_LRX_N0Q_20200113_2304.nids', 'Level3_LRX_N0Q_20200113_2254.nids', 'Level3_LRX_N0Q_20200113_2245.nids', 'Level3_LRX_N0Q_20200113_2235.nids', 'Level3_LRX_N0Q_20200113_2225.nids', 'Level3_LRX_N0Q_20200113_2216.nids', 'Level3_LRX_N0Q_20200113_2206.nids', 'Level3_LRX_N0Q_20200113_2157.nids', 'Level3_LRX_N0Q_20200113_2147.nids', 'Level3_LRX_N0Q_20200113_2137.nids', 'Level3_LRX_N0Q_20200113_2128.nids', 'Level3_LRX_N0Q_20200113_2118.nids', 'Level3_LRX_N0Q_20200113_2108.nids', 'Level3_LRX_N0Q_20200113_2059.nids', 'Level3_LRX_N0Q_20200113_2049.nids', 'Level3_LRX_N0Q_20200113_2040.nids', 'Level3_LRX_N0Q_20200113_2030.nids', 'Level3_LRX_N0Q_20200113_2020.nids', 'Level3_LRX_N0Q_20200113_2009.nids', 'Level3_LRX_N0Q_20200113_1959.nids', 'Level3_LRX_N0Q_20200113_1949.nids', 'Level3_LRX_N0Q_20200113_1940.nids', 'Level3_LRX_N0Q_20200113_1930.nids', 'Level3_LRX_N0Q_20200113_1921.nids', 'Level3_LRX_N0Q_20200113_1911.nids', 'Level3_LRX_N0Q_20200113_1901.nids', 'Level3_LRX_N0Q_20200113_1852.nids', 'Level3_LRX_N0Q_20200113_1842.nids', 'Level3_LRX_N0Q_20200113_1832.nids', 'Level3_LRX_N0Q_20200113_1823.nids', 'Level3_LRX_N0Q_20200113_1813.nids', 'Level3_LRX_N0Q_20200113_1804.nids', 'Level3_LRX_N0Q_20200113_1754.nids', 'Level3_LRX_N0Q_20200113_1744.nids', 'Level3_LRX_N0Q_20200113_1735.nids', 'Level3_LRX_N0Q_20200113_1725.nids', 'Level3_LRX_N0Q_20200113_1715.nids', 'Level3_LRX_N0Q_20200113_1706.nids', 'Level3_LRX_N0Q_20200113_1656.nids', 'Level3_LRX_N0Q_20200113_1647.nids', 'Level3_LRX_N0Q_20200113_1637.nids', 'Level3_LRX_N0Q_20200113_1627.nids', 'Level3_LRX_N0Q_20200113_1618.nids', 'Level3_LRX_N0Q_20200113_1608.nids', 'Level3_LRX_N0Q_20200113_1559.nids', 'Level3_LRX_N0Q_20200113_1549.nids', 'Level3_LRX_N0Q_20200113_1539.nids', 'Level3_LRX_N0Q_20200113_1530.nids', 'Level3_LRX_N0Q_20200113_1520.nids', 'Level3_LRX_N0Q_20200113_1510.nids', 'Level3_LRX_N0Q_20200113_1501.nids', 'Level3_LRX_N0Q_20200113_1451.nids', 'Level3_LRX_N0Q_20200113_1442.nids', 'Level3_LRX_N0Q_20200113_1432.nids', 'Level3_LRX_N0Q_20200113_1422.nids', 'Level3_LRX_N0Q_20200113_1413.nids', 'Level3_LRX_N0Q_20200113_1403.nids', 'Level3_LRX_N0Q_20200113_1353.nids', 'Level3_LRX_N0Q_20200113_1344.nids', 'Level3_LRX_N0Q_20200113_1334.nids', 'Level3_LRX_N0Q_20200113_1325.nids', 'Level3_LRX_N0Q_20200113_1315.nids', 'Level3_LRX_N0Q_20200113_1305.nids', 'Level3_LRX_N0Q_20200113_1256.nids', 'Level3_LRX_N0Q_20200113_1246.nids', 'Level3_LRX_N0Q_20200113_1237.nids', 'Level3_LRX_N0Q_20200113_1227.nids', 'Level3_LRX_N0Q_20200113_1217.nids', 'Level3_LRX_N0Q_20200113_1206.nids', 'Level3_LRX_N0Q_20200113_1156.nids', 'Level3_LRX_N0Q_20200113_1146.nids', 'Level3_LRX_N0Q_20200113_1137.nids', 'Level3_LRX_N0Q_20200113_1127.nids', 'Level3_LRX_N0Q_20200113_1118.nids', 'Level3_LRX_N0Q_20200113_1108.nids', 'Level3_LRX_N0Q_20200113_1058.nids', 'Level3_LRX_N0Q_20200113_1049.nids', 'Level3_LRX_N0Q_20200113_1039.nids', 'Level3_LRX_N0Q_20200113_1029.nids', 'Level3_LRX_N0Q_20200113_1020.nids', 'Level3_LRX_N0Q_20200113_1010.nids', 'Level3_LRX_N0Q_20200113_1001.nids', 'Level3_LRX_N0Q_20200113_0951.nids', 'Level3_LRX_N0Q_20200113_0941.nids', 'Level3_LRX_N0Q_20200113_0932.nids', 'Level3_LRX_N0Q_20200113_0922.nids', 'Level3_LRX_N0Q_20200113_0912.nids', 'Level3_LRX_N0Q_20200113_0903.nids', 'Level3_LRX_N0Q_20200113_0853.nids', 'Level3_LRX_N0Q_20200113_0844.nids', 'Level3_LRX_N0Q_20200113_0834.nids', 'Level3_LRX_N0Q_20200113_0824.nids', 'Level3_LRX_N0Q_20200113_0815.nids', 'Level3_LRX_N0Q_20200113_0805.nids', 'Level3_LRX_N0Q_20200113_0755.nids', 'Level3_LRX_N0Q_20200113_0746.nids', 'Level3_LRX_N0Q_20200113_0736.nids', 'Level3_LRX_N0Q_20200113_0727.nids', 'Level3_LRX_N0Q_20200113_0717.nids', 'Level3_LRX_N0Q_20200113_0707.nids', 'Level3_LRX_N0Q_20200113_0658.nids', 'Level3_LRX_N0Q_20200113_0648.nids', 'Level3_LRX_N0Q_20200113_0639.nids', 'Level3_LRX_N0Q_20200113_0629.nids', 'Level3_LRX_N0Q_20200113_0619.nids', 'Level3_LRX_N0Q_20200113_0610.nids', 'Level3_LRX_N0Q_20200113_0600.nids', 'Level3_LRX_N0Q_20200113_0550.nids', 'Level3_LRX_N0Q_20200113_0541.nids', 'Level3_LRX_N0Q_20200113_0531.nids', 'Level3_LRX_N0Q_20200113_0522.nids', 'Level3_LRX_N0Q_20200113_0512.nids', 'Level3_LRX_N0Q_20200113_0502.nids', 'Level3_LRX_N0Q_20200113_0453.nids', 'Level3_LRX_N0Q_20200113_0443.nids', 'Level3_LRX_N0Q_20200113_0434.nids', 'Level3_LRX_N0Q_20200113_0424.nids', 'Level3_LRX_N0Q_20200113_0414.nids', 'Level3_LRX_N0Q_20200113_0403.nids', 'Level3_LRX_N0Q_20200113_0353.nids', 'Level3_LRX_N0Q_20200113_0343.nids', 'Level3_LRX_N0Q_20200113_0334.nids', 'Level3_LRX_N0Q_20200113_0324.nids', 'Level3_LRX_N0Q_20200113_0315.nids', 'Level3_LRX_N0Q_20200113_0305.nids', 'Level3_LRX_N0Q_20200113_0255.nids', 'Level3_LRX_N0Q_20200113_0246.nids', 'Level3_LRX_N0Q_20200113_0236.nids', 'Level3_LRX_N0Q_20200113_0226.nids', 'Level3_LRX_N0Q_20200113_0217.nids', 'Level3_LRX_N0Q_20200113_0207.nids', 'Level3_LRX_N0Q_20200113_0158.nids', 'Level3_LRX_N0Q_20200113_0148.nids', 'Level3_LRX_N0Q_20200113_0138.nids', 'Level3_LRX_N0Q_20200113_0129.nids', 'Level3_LRX_N0Q_20200113_0119.nids', 'Level3_LRX_N0Q_20200113_0110.nids', 'Level3_LRX_N0Q_20200113_0100.nids', 'Level3_LRX_N0Q_20200113_0050.nids', 'Level3_LRX_N0Q_20200113_0041.nids', 'Level3_LRX_N0Q_20200113_0031.nids', 'Level3_LRX_N0Q_20200113_0021.nids', 'Level3_LRX_N0Q_20200113_0012.nids', 'Level3_LRX_N0Q_20200113_0002.nids']"
      ]
     },
     "execution_count": 4,
     "metadata": {},
     "output_type": "execute_result"
    }
   ],
   "source": [
    "cat.datasets"
   ]
  },
  {
   "cell_type": "markdown",
   "metadata": {},
   "source": [
    "<a href=\"#top\">Top</a>\n",
    "<hr style=\"height:2px;\">"
   ]
  },
  {
   "cell_type": "markdown",
   "metadata": {},
   "source": [
    "<a name=\"filtering\"></a>\n",
    "## 2. Filtering Data"
   ]
  },
  {
   "cell_type": "markdown",
   "metadata": {},
   "source": [
    "We *could* manually look through that list above and figure out what dataset we're looking for and generate that name (or index). Siphon provides some helpers to simplify this process, provided the names of the dataset follow a pattern with the timestamp in the name:"
   ]
  },
  {
   "cell_type": "code",
   "execution_count": 5,
   "metadata": {},
   "outputs": [
    {
     "data": {
      "text/plain": [
       "Level3_LRX_N0Q_20200113_1832.nids"
      ]
     },
     "execution_count": 5,
     "metadata": {},
     "output_type": "execute_result"
    }
   ],
   "source": [
    "request_time = date.replace(hour=18, minute=30, second=0, microsecond=0)\n",
    "ds = cat.datasets.filter_time_nearest(request_time)\n",
    "ds"
   ]
  },
  {
   "cell_type": "markdown",
   "metadata": {},
   "source": [
    "We can also find the list of datasets within a time range:"
   ]
  },
  {
   "cell_type": "code",
   "execution_count": 6,
   "metadata": {},
   "outputs": [
    {
     "name": "stdout",
     "output_type": "stream",
     "text": [
      "[Level3_LRX_N0Q_20200113_1930.nids, Level3_LRX_N0Q_20200113_1921.nids, Level3_LRX_N0Q_20200113_1911.nids, Level3_LRX_N0Q_20200113_1901.nids, Level3_LRX_N0Q_20200113_1852.nids, Level3_LRX_N0Q_20200113_1842.nids, Level3_LRX_N0Q_20200113_1832.nids]\n"
     ]
    }
   ],
   "source": [
    "datasets = cat.datasets.filter_time_range(request_time, request_time + timedelta(hours=1))\n",
    "print(datasets)"
   ]
  },
  {
   "cell_type": "markdown",
   "metadata": {},
   "source": [
    "<div class=\"alert alert-success\">\n",
    "    <b>EXERCISE</b>:\n",
    "     <ul>\n",
    "        <li>Starting from http://thredds.ucar.edu/, find the level 2 radar data for the Tulsa, OK radar (KINX) for the previous day.</li>\n",
    "        <li>Grab the URL and create a TDSCatalog instance.</li>\n",
    "        <li>Using Siphon, find the data available in the catalog between 12Z and 18Z on the previous day.</li>\n",
    "    </ul>\n",
    "</div>"
   ]
  },
  {
   "cell_type": "code",
   "execution_count": 7,
   "metadata": {},
   "outputs": [],
   "source": [
    "# YOUR CODE GOES HERE"
   ]
  },
  {
   "cell_type": "markdown",
   "metadata": {},
   "source": [
    "<div class=\"alert alert-info\">\n",
    "    <b>SOLUTION</b>\n",
    "</div>"
   ]
  },
  {
   "cell_type": "code",
   "execution_count": 8,
   "metadata": {},
   "outputs": [
    {
     "name": "stdout",
     "output_type": "stream",
     "text": [
      "[Level2_KINX_20200113_1758.ar2v, Level2_KINX_20200113_1749.ar2v, Level2_KINX_20200113_1741.ar2v, Level2_KINX_20200113_1733.ar2v, Level2_KINX_20200113_1724.ar2v, Level2_KINX_20200113_1716.ar2v, Level2_KINX_20200113_1707.ar2v, Level2_KINX_20200113_1703.ar2v, Level2_KINX_20200113_1658.ar2v, Level2_KINX_20200113_1654.ar2v, Level2_KINX_20200113_1649.ar2v, Level2_KINX_20200113_1645.ar2v, Level2_KINX_20200113_1640.ar2v, Level2_KINX_20200113_1636.ar2v, Level2_KINX_20200113_1631.ar2v, Level2_KINX_20200113_1537.ar2v, Level2_KINX_20200113_1529.ar2v, Level2_KINX_20200113_1520.ar2v, Level2_KINX_20200113_1512.ar2v, Level2_KINX_20200113_1504.ar2v, Level2_KINX_20200113_1455.ar2v, Level2_KINX_20200113_1447.ar2v, Level2_KINX_20200113_1439.ar2v, Level2_KINX_20200113_1430.ar2v, Level2_KINX_20200113_1422.ar2v, Level2_KINX_20200113_1414.ar2v, Level2_KINX_20200113_1406.ar2v, Level2_KINX_20200113_1357.ar2v, Level2_KINX_20200113_1348.ar2v, Level2_KINX_20200113_1340.ar2v, Level2_KINX_20200113_1331.ar2v, Level2_KINX_20200113_1323.ar2v, Level2_KINX_20200113_1315.ar2v, Level2_KINX_20200113_1306.ar2v, Level2_KINX_20200113_1258.ar2v, Level2_KINX_20200113_1249.ar2v, Level2_KINX_20200113_1241.ar2v, Level2_KINX_20200113_1232.ar2v, Level2_KINX_20200113_1224.ar2v, Level2_KINX_20200113_1216.ar2v, Level2_KINX_20200113_1207.ar2v]\n"
     ]
    }
   ],
   "source": [
    "# %load solutions/datasets.py\n",
    "\n",
    "# Cell content replaced by load magic replacement.\n",
    "# Solution from above in case you had trouble\n",
    "date = datetime.utcnow() - timedelta(days=1)\n",
    "cat = TDSCatalog(f'https://thredds.ucar.edu/thredds/catalog/nexrad/level2/KINX/{date:%Y%m%d}/catalog.xml')\n",
    "request_time = date.replace(hour=12, minute=0, second=0, microsecond=0)\n",
    "datasets = cat.datasets.filter_time_range(request_time, request_time + timedelta(hours=6))\n",
    "print(datasets)\n"
   ]
  },
  {
   "cell_type": "markdown",
   "metadata": {},
   "source": [
    "<a href=\"#top\">Top</a>\n",
    "<hr style=\"height:2px;\">"
   ]
  },
  {
   "cell_type": "markdown",
   "metadata": {},
   "source": [
    "<a name=\"dataaccess\"></a>\n",
    "## 3. Use Siphon to Perform Remote Data Access\n",
    "\n",
    "Accessing catalogs is only part of the story; Siphon is much more useful if you're trying to access/download datasets.\n",
    "\n",
    "For instance, using our data that we just retrieved:"
   ]
  },
  {
   "cell_type": "code",
   "execution_count": 9,
   "metadata": {},
   "outputs": [],
   "source": [
    "# Solution from above in case you had trouble\n",
    "date = datetime.utcnow() - timedelta(days=1)\n",
    "cat = TDSCatalog(f'https://thredds.ucar.edu/thredds/catalog/nexrad/level2/KINX/{date:%Y%m%d}/catalog.xml')\n",
    "request_time = date.replace(hour=12, minute=0, second=0, microsecond=0)\n",
    "datasets = cat.datasets.filter_time_range(request_time, request_time + timedelta(hours=6))"
   ]
  },
  {
   "cell_type": "code",
   "execution_count": 10,
   "metadata": {},
   "outputs": [],
   "source": [
    "ds = datasets[0]"
   ]
  },
  {
   "cell_type": "markdown",
   "metadata": {
    "slideshow": {
     "slide_type": "fragment"
    }
   },
   "source": [
    "We can ask Siphon to download the file locally:"
   ]
  },
  {
   "cell_type": "code",
   "execution_count": 11,
   "metadata": {},
   "outputs": [],
   "source": [
    "ds.download()"
   ]
  },
  {
   "cell_type": "markdown",
   "metadata": {},
   "source": [
    "Look in your file explorer panel or run the cell below to verify that we did actually download the file!"
   ]
  },
  {
   "cell_type": "code",
   "execution_count": 12,
   "metadata": {},
   "outputs": [
    {
     "data": {
      "text/plain": [
       "['solutions', 'Level2_KINX_20200113_1758.ar2v', 'Siphon Overview.ipynb']"
      ]
     },
     "execution_count": 12,
     "metadata": {},
     "output_type": "execute_result"
    }
   ],
   "source": [
    "import os; os.listdir()"
   ]
  },
  {
   "cell_type": "markdown",
   "metadata": {
    "slideshow": {
     "slide_type": "subslide"
    }
   },
   "source": [
    "Or better yet, get a file-like object that lets us `read` from the file as if it were local:"
   ]
  },
  {
   "cell_type": "code",
   "execution_count": 13,
   "metadata": {},
   "outputs": [
    {
     "name": "stdout",
     "output_type": "stream",
     "text": [
      "1808253\n"
     ]
    }
   ],
   "source": [
    "fobj = ds.remote_open()\n",
    "data = fobj.read()\n",
    "print(len(data))"
   ]
  },
  {
   "cell_type": "markdown",
   "metadata": {},
   "source": [
    "This is handy if you have Python code to read a particular format."
   ]
  },
  {
   "cell_type": "markdown",
   "metadata": {
    "slideshow": {
     "slide_type": "subslide"
    }
   },
   "source": [
    "It's also possible to get access to the file through services that provide netCDF4-like access, but for the remote file. This access allows downloading information only for variables of interest, or for (index-based) subsets of that data:"
   ]
  },
  {
   "cell_type": "code",
   "execution_count": 14,
   "metadata": {},
   "outputs": [],
   "source": [
    "nc = ds.remote_access()"
   ]
  },
  {
   "cell_type": "markdown",
   "metadata": {},
   "source": [
    "By default this uses CDMRemote (if available), but it's also possible to ask for OPeNDAP (using netCDF4-python). There is even XArray support which is great with the declarative plotting interface - more on that later."
   ]
  },
  {
   "cell_type": "code",
   "execution_count": 15,
   "metadata": {},
   "outputs": [
    {
     "name": "stdout",
     "output_type": "stream",
     "text": [
      "['Reflectivity_HI', 'timeR_HI', 'elevationR_HI', 'azimuthR_HI', 'distanceR_HI', 'numRadialsR_HI', 'numGatesR_HI', 'Reflectivity', 'timeR', 'elevationR', 'azimuthR', 'distanceR', 'numRadialsR', 'numGatesR', 'RadialVelocity_HI', 'timeV_HI', 'elevationV_HI', 'azimuthV_HI', 'distanceV_HI', 'numRadialsV_HI', 'numGatesV_HI', 'RadialVelocity', 'timeV', 'elevationV', 'azimuthV', 'distanceV', 'numRadialsV', 'numGatesV', 'SpectrumWidth_HI', 'SpectrumWidth', 'DifferentialReflectivity_HI', 'timeD_HI', 'elevationD_HI', 'azimuthD_HI', 'distanceD_HI', 'numRadialsD_HI', 'numGatesD_HI', 'DifferentialReflectivity', 'timeD', 'elevationD', 'azimuthD', 'distanceD', 'numRadialsD', 'numGatesD', 'CorrelationCoefficient_HI', 'timeC_HI', 'elevationC_HI', 'azimuthC_HI', 'distanceC_HI', 'numRadialsC_HI', 'numGatesC_HI', 'CorrelationCoefficient', 'timeC', 'elevationC', 'azimuthC', 'distanceC', 'numRadialsC', 'numGatesC', 'DifferentialPhase_HI', 'timeP_HI', 'elevationP_HI', 'azimuthP_HI', 'distanceP_HI', 'numRadialsP_HI', 'numGatesP_HI', 'DifferentialPhase', 'timeP', 'elevationP', 'azimuthP', 'distanceP', 'numRadialsP', 'numGatesP']\n"
     ]
    }
   ],
   "source": [
    "print(list(nc.variables))"
   ]
  },
  {
   "cell_type": "markdown",
   "metadata": {},
   "source": [
    "<a href=\"#top\">Top</a>\n",
    "<hr style=\"height:2px;\">"
   ]
  }
 ],
 "metadata": {
  "kernelspec": {
   "display_name": "Python 3",
   "language": "python",
   "name": "python3"
  },
  "language_info": {
   "codemirror_mode": {
    "name": "ipython",
    "version": 3
   },
   "file_extension": ".py",
   "mimetype": "text/x-python",
   "name": "python",
   "nbconvert_exporter": "python",
   "pygments_lexer": "ipython3",
   "version": "3.7.6"
  }
 },
 "nbformat": 4,
 "nbformat_minor": 4
}
