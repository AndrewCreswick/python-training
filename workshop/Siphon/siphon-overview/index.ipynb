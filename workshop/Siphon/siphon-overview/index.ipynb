{
 "cells": [
  {
   "cell_type": "markdown",
   "metadata": {},
   "source": [
    "<a name=\"top\"></a>\n",
    "<div style=\"width:1000 px\">\n",
    "\n",
    "<div style=\"float:right; width:98 px; height:98px;\">\n",
    "<img src=\"https://raw.githubusercontent.com/Unidata/MetPy/master/src/metpy/plots/_static/unidata_150x150.png\" alt=\"Unidata Logo\" style=\"height: 98px;\">\n",
    "</div>\n",
    "\n",
    "<h1>Siphon Overview</h1>\n",
    "<h3>Unidata Python Workshop</h3>\n",
    "\n",
    "<div style=\"clear:both\"></div>\n",
    "</div>\n",
    "\n",
    "<hr style=\"height:2px;\">\n",
    "\n",
    "<div style=\"float:right; width:250 px\"><img src=\"https://unidata.github.io/siphon/latest/_static/siphon_150x150.png\" alt=\"TDS\" style=\"height: 200px;\"></div>\n",
    "\n",
    "### Questions\n",
    "1. What is a THREDDS Data Server (TDS)?\n",
    "1. How can I use Siphon to access a TDS?\n",
    "\n",
    "### Objectives\n",
    "1. <a href=\"#threddsintro\">Use Siphon to Access a THREDDS Catalog</a>\n",
    "1. <a href=\"#filtering\">Filtering Data</a>\n",
    "1. <a href=\"#dataaccess\">Use Siphon to Perform Remote Data Access</a>"
   ]
  },
  {
   "cell_type": "markdown",
   "metadata": {},
   "source": [
    "<a name=\"threddsintro\"></a>\n",
    "## 1. Use Siphon to Access a THREDDS Catalog\n",
    "\n",
    "THREDDS is a server for providing remote access to datasets and a variety of server-side services. THREDDS make data access more uniform regardless of the on-disk format.\n",
    " * Data Access Services:\n",
    "   - HTTP Download\n",
    "   - Web Mapping/Coverage Service (WMS/WCS)\n",
    "   - OPeNDAP\n",
    "   - NetCDF Subset Service\n",
    "   - CDMRemote\n",
    "   \n",
    "There is a server with real-time data setup at [http://thredds.ucar.edu](http://thredds.ucar.edu) that we'll use to explore the capability of THREDDS and learn how to access data. Let's open that link and explore in the browser what's available on THREDDS. Explore the NEXRAD level 3 data specifically.\n",
    "\n",
    "### THREDDS Catalogs\n",
    "- XML descriptions of data and metadata\n",
    "- Access methods\n",
    "- Easily processed with `siphon.catalog.TDSCatalog`"
   ]
  },
  {
   "cell_type": "code",
   "execution_count": 1,
   "metadata": {},
   "outputs": [],
   "source": [
    "from datetime import datetime, timedelta\n",
    "\n",
    "from siphon.catalog import TDSCatalog"
   ]
  },
  {
   "cell_type": "markdown",
   "metadata": {},
   "source": [
    "Let's get data from yesterday at this time. We'll use the timedelta object to do this in an easy way."
   ]
  },
  {
   "cell_type": "code",
   "execution_count": 2,
   "metadata": {},
   "outputs": [
    {
     "name": "stdout",
     "output_type": "stream",
     "text": [
      "2020-01-16 15:14:48.320528\n"
     ]
    }
   ],
   "source": [
    "date = datetime.utcnow() - timedelta(days=1)\n",
    "print(date)"
   ]
  },
  {
   "cell_type": "markdown",
   "metadata": {},
   "source": [
    "We'll then go find the URL for the level 3 radar data. Let's get the N0Q (tilt 1 base reflectivity) for the LRX radar. Notice that we change the `html` extension to `xml`. Siphon will do that for us, but issue a warning."
   ]
  },
  {
   "cell_type": "code",
   "execution_count": 3,
   "metadata": {},
   "outputs": [],
   "source": [
    "cat = TDSCatalog('http://thredds.ucar.edu/thredds/catalog/nexrad/level3/'\n",
    "                 f'N0Q/LRX/{date:%Y%m%d}/catalog.xml')"
   ]
  },
  {
   "cell_type": "code",
   "execution_count": 4,
   "metadata": {},
   "outputs": [
    {
     "data": {
      "text/plain": [
       "['Level3_LRX_N0Q_20200116_2357.nids', 'Level3_LRX_N0Q_20200116_2352.nids', 'Level3_LRX_N0Q_20200116_2347.nids', 'Level3_LRX_N0Q_20200116_2343.nids', 'Level3_LRX_N0Q_20200116_2338.nids', 'Level3_LRX_N0Q_20200116_2333.nids', 'Level3_LRX_N0Q_20200116_2329.nids', 'Level3_LRX_N0Q_20200116_2324.nids', 'Level3_LRX_N0Q_20200116_2319.nids', 'Level3_LRX_N0Q_20200116_2315.nids', 'Level3_LRX_N0Q_20200116_2310.nids', 'Level3_LRX_N0Q_20200116_2305.nids', 'Level3_LRX_N0Q_20200116_2301.nids', 'Level3_LRX_N0Q_20200116_2256.nids', 'Level3_LRX_N0Q_20200116_2251.nids', 'Level3_LRX_N0Q_20200116_2247.nids', 'Level3_LRX_N0Q_20200116_2242.nids', 'Level3_LRX_N0Q_20200116_2237.nids', 'Level3_LRX_N0Q_20200116_2233.nids', 'Level3_LRX_N0Q_20200116_2228.nids', 'Level3_LRX_N0Q_20200116_2218.nids', 'Level3_LRX_N0Q_20200116_2209.nids', 'Level3_LRX_N0Q_20200116_2159.nids', 'Level3_LRX_N0Q_20200116_2150.nids', 'Level3_LRX_N0Q_20200116_2140.nids', 'Level3_LRX_N0Q_20200116_2137.nids', 'Level3_LRX_N0Q_20200116_2133.nids', 'Level3_LRX_N0Q_20200116_2036.nids', 'Level3_LRX_N0Q_20200116_2031.nids', 'Level3_LRX_N0Q_20200116_2026.nids', 'Level3_LRX_N0Q_20200116_2021.nids', 'Level3_LRX_N0Q_20200116_2017.nids', 'Level3_LRX_N0Q_20200116_2012.nids', 'Level3_LRX_N0Q_20200116_2007.nids', 'Level3_LRX_N0Q_20200116_2003.nids', 'Level3_LRX_N0Q_20200116_1958.nids', 'Level3_LRX_N0Q_20200116_1953.nids', 'Level3_LRX_N0Q_20200116_1949.nids', 'Level3_LRX_N0Q_20200116_1944.nids', 'Level3_LRX_N0Q_20200116_1939.nids', 'Level3_LRX_N0Q_20200116_1935.nids', 'Level3_LRX_N0Q_20200116_1930.nids', 'Level3_LRX_N0Q_20200116_1925.nids', 'Level3_LRX_N0Q_20200116_1921.nids', 'Level3_LRX_N0Q_20200116_1916.nids', 'Level3_LRX_N0Q_20200116_1911.nids', 'Level3_LRX_N0Q_20200116_1907.nids', 'Level3_LRX_N0Q_20200116_1902.nids', 'Level3_LRX_N0Q_20200116_1857.nids', 'Level3_LRX_N0Q_20200116_1853.nids', 'Level3_LRX_N0Q_20200116_1848.nids', 'Level3_LRX_N0Q_20200116_1843.nids', 'Level3_LRX_N0Q_20200116_1839.nids', 'Level3_LRX_N0Q_20200116_1834.nids', 'Level3_LRX_N0Q_20200116_1830.nids', 'Level3_LRX_N0Q_20200116_1825.nids', 'Level3_LRX_N0Q_20200116_1820.nids', 'Level3_LRX_N0Q_20200116_1816.nids', 'Level3_LRX_N0Q_20200116_1811.nids', 'Level3_LRX_N0Q_20200116_1806.nids', 'Level3_LRX_N0Q_20200116_1802.nids', 'Level3_LRX_N0Q_20200116_1757.nids', 'Level3_LRX_N0Q_20200116_1752.nids', 'Level3_LRX_N0Q_20200116_1748.nids', 'Level3_LRX_N0Q_20200116_1741.nids', 'Level3_LRX_N0Q_20200116_1736.nids', 'Level3_LRX_N0Q_20200116_1731.nids', 'Level3_LRX_N0Q_20200116_1727.nids', 'Level3_LRX_N0Q_20200116_1722.nids', 'Level3_LRX_N0Q_20200116_1717.nids', 'Level3_LRX_N0Q_20200116_1713.nids', 'Level3_LRX_N0Q_20200116_1708.nids', 'Level3_LRX_N0Q_20200116_1703.nids', 'Level3_LRX_N0Q_20200116_1659.nids', 'Level3_LRX_N0Q_20200116_1654.nids', 'Level3_LRX_N0Q_20200116_1649.nids', 'Level3_LRX_N0Q_20200116_1645.nids', 'Level3_LRX_N0Q_20200116_1640.nids', 'Level3_LRX_N0Q_20200116_1635.nids', 'Level3_LRX_N0Q_20200116_1631.nids', 'Level3_LRX_N0Q_20200116_1626.nids', 'Level3_LRX_N0Q_20200116_1621.nids', 'Level3_LRX_N0Q_20200116_1617.nids', 'Level3_LRX_N0Q_20200116_1612.nids', 'Level3_LRX_N0Q_20200116_1607.nids', 'Level3_LRX_N0Q_20200116_1603.nids', 'Level3_LRX_N0Q_20200116_1558.nids', 'Level3_LRX_N0Q_20200116_1553.nids', 'Level3_LRX_N0Q_20200116_1549.nids', 'Level3_LRX_N0Q_20200116_1544.nids', 'Level3_LRX_N0Q_20200116_1539.nids', 'Level3_LRX_N0Q_20200116_1535.nids', 'Level3_LRX_N0Q_20200116_1530.nids', 'Level3_LRX_N0Q_20200116_1525.nids', 'Level3_LRX_N0Q_20200116_1521.nids', 'Level3_LRX_N0Q_20200116_1516.nids', 'Level3_LRX_N0Q_20200116_1511.nids', 'Level3_LRX_N0Q_20200116_1507.nids', 'Level3_LRX_N0Q_20200116_1502.nids', 'Level3_LRX_N0Q_20200116_1457.nids', 'Level3_LRX_N0Q_20200116_1453.nids', 'Level3_LRX_N0Q_20200116_1448.nids', 'Level3_LRX_N0Q_20200116_1443.nids', 'Level3_LRX_N0Q_20200116_1439.nids', 'Level3_LRX_N0Q_20200116_1434.nids', 'Level3_LRX_N0Q_20200116_1429.nids', 'Level3_LRX_N0Q_20200116_1425.nids', 'Level3_LRX_N0Q_20200116_1420.nids', 'Level3_LRX_N0Q_20200116_1415.nids', 'Level3_LRX_N0Q_20200116_1411.nids', 'Level3_LRX_N0Q_20200116_1406.nids', 'Level3_LRX_N0Q_20200116_1401.nids', 'Level3_LRX_N0Q_20200116_1357.nids', 'Level3_LRX_N0Q_20200116_1352.nids', 'Level3_LRX_N0Q_20200116_1347.nids', 'Level3_LRX_N0Q_20200116_1343.nids', 'Level3_LRX_N0Q_20200116_1338.nids', 'Level3_LRX_N0Q_20200116_1333.nids', 'Level3_LRX_N0Q_20200116_1328.nids', 'Level3_LRX_N0Q_20200116_1324.nids', 'Level3_LRX_N0Q_20200116_1319.nids', 'Level3_LRX_N0Q_20200116_1314.nids', 'Level3_LRX_N0Q_20200116_1310.nids', 'Level3_LRX_N0Q_20200116_1305.nids', 'Level3_LRX_N0Q_20200116_1300.nids', 'Level3_LRX_N0Q_20200116_1256.nids', 'Level3_LRX_N0Q_20200116_1251.nids', 'Level3_LRX_N0Q_20200116_1246.nids', 'Level3_LRX_N0Q_20200116_1242.nids', 'Level3_LRX_N0Q_20200116_1237.nids', 'Level3_LRX_N0Q_20200116_1232.nids', 'Level3_LRX_N0Q_20200116_1228.nids', 'Level3_LRX_N0Q_20200116_1223.nids', 'Level3_LRX_N0Q_20200116_1218.nids', 'Level3_LRX_N0Q_20200116_1214.nids', 'Level3_LRX_N0Q_20200116_1209.nids', 'Level3_LRX_N0Q_20200116_1204.nids', 'Level3_LRX_N0Q_20200116_1200.nids', 'Level3_LRX_N0Q_20200116_1155.nids', 'Level3_LRX_N0Q_20200116_1150.nids', 'Level3_LRX_N0Q_20200116_1146.nids', 'Level3_LRX_N0Q_20200116_1141.nids', 'Level3_LRX_N0Q_20200116_1136.nids', 'Level3_LRX_N0Q_20200116_1132.nids', 'Level3_LRX_N0Q_20200116_1127.nids', 'Level3_LRX_N0Q_20200116_1122.nids', 'Level3_LRX_N0Q_20200116_1118.nids', 'Level3_LRX_N0Q_20200116_1113.nids', 'Level3_LRX_N0Q_20200116_1108.nids', 'Level3_LRX_N0Q_20200116_1103.nids', 'Level3_LRX_N0Q_20200116_1059.nids', 'Level3_LRX_N0Q_20200116_1054.nids', 'Level3_LRX_N0Q_20200116_1049.nids', 'Level3_LRX_N0Q_20200116_1045.nids', 'Level3_LRX_N0Q_20200116_1040.nids', 'Level3_LRX_N0Q_20200116_1035.nids', 'Level3_LRX_N0Q_20200116_1031.nids', 'Level3_LRX_N0Q_20200116_1026.nids', 'Level3_LRX_N0Q_20200116_1021.nids', 'Level3_LRX_N0Q_20200116_1017.nids', 'Level3_LRX_N0Q_20200116_1012.nids', 'Level3_LRX_N0Q_20200116_1007.nids', 'Level3_LRX_N0Q_20200116_1003.nids', 'Level3_LRX_N0Q_20200116_0958.nids', 'Level3_LRX_N0Q_20200116_0953.nids', 'Level3_LRX_N0Q_20200116_0949.nids', 'Level3_LRX_N0Q_20200116_0944.nids', 'Level3_LRX_N0Q_20200116_0938.nids', 'Level3_LRX_N0Q_20200116_0933.nids', 'Level3_LRX_N0Q_20200116_0928.nids', 'Level3_LRX_N0Q_20200116_0924.nids', 'Level3_LRX_N0Q_20200116_0919.nids', 'Level3_LRX_N0Q_20200116_0914.nids', 'Level3_LRX_N0Q_20200116_0910.nids', 'Level3_LRX_N0Q_20200116_0905.nids', 'Level3_LRX_N0Q_20200116_0900.nids', 'Level3_LRX_N0Q_20200116_0856.nids', 'Level3_LRX_N0Q_20200116_0851.nids', 'Level3_LRX_N0Q_20200116_0846.nids', 'Level3_LRX_N0Q_20200116_0842.nids', 'Level3_LRX_N0Q_20200116_0837.nids', 'Level3_LRX_N0Q_20200116_0832.nids', 'Level3_LRX_N0Q_20200116_0828.nids', 'Level3_LRX_N0Q_20200116_0823.nids', 'Level3_LRX_N0Q_20200116_0818.nids', 'Level3_LRX_N0Q_20200116_0814.nids', 'Level3_LRX_N0Q_20200116_0809.nids', 'Level3_LRX_N0Q_20200116_0804.nids', 'Level3_LRX_N0Q_20200116_0800.nids', 'Level3_LRX_N0Q_20200116_0755.nids', 'Level3_LRX_N0Q_20200116_0750.nids', 'Level3_LRX_N0Q_20200116_0746.nids', 'Level3_LRX_N0Q_20200116_0741.nids', 'Level3_LRX_N0Q_20200116_0736.nids', 'Level3_LRX_N0Q_20200116_0732.nids', 'Level3_LRX_N0Q_20200116_0727.nids', 'Level3_LRX_N0Q_20200116_0722.nids', 'Level3_LRX_N0Q_20200116_0718.nids', 'Level3_LRX_N0Q_20200116_0713.nids', 'Level3_LRX_N0Q_20200116_0708.nids', 'Level3_LRX_N0Q_20200116_0704.nids', 'Level3_LRX_N0Q_20200116_0659.nids', 'Level3_LRX_N0Q_20200116_0654.nids', 'Level3_LRX_N0Q_20200116_0650.nids', 'Level3_LRX_N0Q_20200116_0645.nids', 'Level3_LRX_N0Q_20200116_0640.nids', 'Level3_LRX_N0Q_20200116_0635.nids', 'Level3_LRX_N0Q_20200116_0631.nids', 'Level3_LRX_N0Q_20200116_0626.nids', 'Level3_LRX_N0Q_20200116_0621.nids', 'Level3_LRX_N0Q_20200116_0617.nids', 'Level3_LRX_N0Q_20200116_0612.nids', 'Level3_LRX_N0Q_20200116_0608.nids', 'Level3_LRX_N0Q_20200116_0603.nids', 'Level3_LRX_N0Q_20200116_0558.nids', 'Level3_LRX_N0Q_20200116_0554.nids', 'Level3_LRX_N0Q_20200116_0549.nids', 'Level3_LRX_N0Q_20200116_0544.nids', 'Level3_LRX_N0Q_20200116_0540.nids', 'Level3_LRX_N0Q_20200116_0535.nids', 'Level3_LRX_N0Q_20200116_0530.nids', 'Level3_LRX_N0Q_20200116_0526.nids', 'Level3_LRX_N0Q_20200116_0521.nids', 'Level3_LRX_N0Q_20200116_0516.nids', 'Level3_LRX_N0Q_20200116_0512.nids', 'Level3_LRX_N0Q_20200116_0507.nids', 'Level3_LRX_N0Q_20200116_0502.nids', 'Level3_LRX_N0Q_20200116_0458.nids', 'Level3_LRX_N0Q_20200116_0453.nids', 'Level3_LRX_N0Q_20200116_0449.nids', 'Level3_LRX_N0Q_20200116_0444.nids', 'Level3_LRX_N0Q_20200116_0439.nids', 'Level3_LRX_N0Q_20200116_0435.nids', 'Level3_LRX_N0Q_20200116_0430.nids', 'Level3_LRX_N0Q_20200116_0425.nids', 'Level3_LRX_N0Q_20200116_0421.nids', 'Level3_LRX_N0Q_20200116_0416.nids', 'Level3_LRX_N0Q_20200116_0411.nids', 'Level3_LRX_N0Q_20200116_0407.nids', 'Level3_LRX_N0Q_20200116_0402.nids', 'Level3_LRX_N0Q_20200116_0357.nids', 'Level3_LRX_N0Q_20200116_0353.nids', 'Level3_LRX_N0Q_20200116_0348.nids', 'Level3_LRX_N0Q_20200116_0343.nids', 'Level3_LRX_N0Q_20200116_0339.nids', 'Level3_LRX_N0Q_20200116_0334.nids', 'Level3_LRX_N0Q_20200116_0329.nids', 'Level3_LRX_N0Q_20200116_0325.nids', 'Level3_LRX_N0Q_20200116_0320.nids', 'Level3_LRX_N0Q_20200116_0315.nids', 'Level3_LRX_N0Q_20200116_0310.nids', 'Level3_LRX_N0Q_20200116_0306.nids', 'Level3_LRX_N0Q_20200116_0301.nids', 'Level3_LRX_N0Q_20200116_0257.nids', 'Level3_LRX_N0Q_20200116_0252.nids', 'Level3_LRX_N0Q_20200116_0247.nids', 'Level3_LRX_N0Q_20200116_0243.nids', 'Level3_LRX_N0Q_20200116_0238.nids', 'Level3_LRX_N0Q_20200116_0234.nids', 'Level3_LRX_N0Q_20200116_0229.nids', 'Level3_LRX_N0Q_20200116_0225.nids', 'Level3_LRX_N0Q_20200116_0220.nids', 'Level3_LRX_N0Q_20200116_0215.nids', 'Level3_LRX_N0Q_20200116_0211.nids', 'Level3_LRX_N0Q_20200116_0206.nids', 'Level3_LRX_N0Q_20200116_0202.nids', 'Level3_LRX_N0Q_20200116_0152.nids', 'Level3_LRX_N0Q_20200116_0142.nids', 'Level3_LRX_N0Q_20200116_0100.nids', 'Level3_LRX_N0Q_20200116_0050.nids', 'Level3_LRX_N0Q_20200116_0040.nids', 'Level3_LRX_N0Q_20200116_0031.nids', 'Level3_LRX_N0Q_20200116_0021.nids', 'Level3_LRX_N0Q_20200116_0012.nids', 'Level3_LRX_N0Q_20200116_0002.nids']"
      ]
     },
     "execution_count": 4,
     "metadata": {},
     "output_type": "execute_result"
    }
   ],
   "source": [
    "cat.datasets"
   ]
  },
  {
   "cell_type": "markdown",
   "metadata": {},
   "source": [
    "<a href=\"#top\">Top</a>\n",
    "<hr style=\"height:2px;\">"
   ]
  },
  {
   "cell_type": "markdown",
   "metadata": {},
   "source": [
    "<a name=\"filtering\"></a>\n",
    "## 2. Filtering Data"
   ]
  },
  {
   "cell_type": "markdown",
   "metadata": {},
   "source": [
    "We *could* manually look through that list above and figure out what dataset we're looking for and generate that name (or index). Siphon provides some helpers to simplify this process, provided the names of the dataset follow a pattern with the timestamp in the name:"
   ]
  },
  {
   "cell_type": "code",
   "execution_count": 5,
   "metadata": {},
   "outputs": [
    {
     "data": {
      "text/plain": [
       "Level3_LRX_N0Q_20200116_1830.nids"
      ]
     },
     "execution_count": 5,
     "metadata": {},
     "output_type": "execute_result"
    }
   ],
   "source": [
    "request_time = date.replace(hour=18, minute=30, second=0, microsecond=0)\n",
    "ds = cat.datasets.filter_time_nearest(request_time)\n",
    "ds"
   ]
  },
  {
   "cell_type": "markdown",
   "metadata": {},
   "source": [
    "We can also find the list of datasets within a time range:"
   ]
  },
  {
   "cell_type": "code",
   "execution_count": 6,
   "metadata": {},
   "outputs": [
    {
     "name": "stdout",
     "output_type": "stream",
     "text": [
      "[Level3_LRX_N0Q_20200116_1930.nids, Level3_LRX_N0Q_20200116_1925.nids, Level3_LRX_N0Q_20200116_1921.nids, Level3_LRX_N0Q_20200116_1916.nids, Level3_LRX_N0Q_20200116_1911.nids, Level3_LRX_N0Q_20200116_1907.nids, Level3_LRX_N0Q_20200116_1902.nids, Level3_LRX_N0Q_20200116_1857.nids, Level3_LRX_N0Q_20200116_1853.nids, Level3_LRX_N0Q_20200116_1848.nids, Level3_LRX_N0Q_20200116_1843.nids, Level3_LRX_N0Q_20200116_1839.nids, Level3_LRX_N0Q_20200116_1834.nids, Level3_LRX_N0Q_20200116_1830.nids]\n"
     ]
    }
   ],
   "source": [
    "datasets = cat.datasets.filter_time_range(request_time, request_time + timedelta(hours=1))\n",
    "print(datasets)"
   ]
  },
  {
   "cell_type": "markdown",
   "metadata": {},
   "source": [
    "<div class=\"alert alert-success\">\n",
    "    <b>EXERCISE</b>:\n",
    "     <ul>\n",
    "        <li>Starting from http://thredds.ucar.edu/, find the level 2 radar data for the Tulsa, OK radar (KINX) for the previous day.</li>\n",
    "        <li>Grab the URL and create a TDSCatalog instance.</li>\n",
    "        <li>Using Siphon, find the data available in the catalog between 12Z and 18Z on the previous day.</li>\n",
    "    </ul>\n",
    "</div>"
   ]
  },
  {
   "cell_type": "code",
   "execution_count": 7,
   "metadata": {},
   "outputs": [],
   "source": [
    "# YOUR CODE GOES HERE"
   ]
  },
  {
   "cell_type": "markdown",
   "metadata": {},
   "source": [
    "<div class=\"alert alert-info\">\n",
    "    <b>SOLUTION</b>\n",
    "</div>"
   ]
  },
  {
   "cell_type": "code",
   "execution_count": 8,
   "metadata": {},
   "outputs": [
    {
     "name": "stdout",
     "output_type": "stream",
     "text": [
      "[Level2_KINX_20200116_1756.ar2v, Level2_KINX_20200116_1748.ar2v, Level2_KINX_20200116_1739.ar2v, Level2_KINX_20200116_1731.ar2v, Level2_KINX_20200116_1723.ar2v, Level2_KINX_20200116_1714.ar2v, Level2_KINX_20200116_1706.ar2v, Level2_KINX_20200116_1658.ar2v, Level2_KINX_20200116_1648.ar2v, Level2_KINX_20200116_1639.ar2v, Level2_KINX_20200116_1631.ar2v, Level2_KINX_20200116_1623.ar2v, Level2_KINX_20200116_1614.ar2v, Level2_KINX_20200116_1606.ar2v, Level2_KINX_20200116_1558.ar2v, Level2_KINX_20200116_1550.ar2v, Level2_KINX_20200116_1541.ar2v, Level2_KINX_20200116_1533.ar2v, Level2_KINX_20200116_1525.ar2v, Level2_KINX_20200116_1516.ar2v, Level2_KINX_20200116_1508.ar2v, Level2_KINX_20200116_1500.ar2v, Level2_KINX_20200116_1452.ar2v, Level2_KINX_20200116_1443.ar2v, Level2_KINX_20200116_1435.ar2v, Level2_KINX_20200116_1427.ar2v, Level2_KINX_20200116_1418.ar2v, Level2_KINX_20200116_1410.ar2v, Level2_KINX_20200116_1402.ar2v, Level2_KINX_20200116_1354.ar2v, Level2_KINX_20200116_1345.ar2v, Level2_KINX_20200116_1337.ar2v, Level2_KINX_20200116_1329.ar2v, Level2_KINX_20200116_1320.ar2v, Level2_KINX_20200116_1312.ar2v, Level2_KINX_20200116_1303.ar2v, Level2_KINX_20200116_1255.ar2v, Level2_KINX_20200116_1247.ar2v, Level2_KINX_20200116_1238.ar2v, Level2_KINX_20200116_1230.ar2v, Level2_KINX_20200116_1222.ar2v, Level2_KINX_20200116_1214.ar2v, Level2_KINX_20200116_1205.ar2v]\n"
     ]
    }
   ],
   "source": [
    "# %load solutions/datasets.py\n",
    "\n",
    "# Cell content replaced by load magic replacement.\n",
    "# Solution from above in case you had trouble\n",
    "date = datetime.utcnow() - timedelta(days=1)\n",
    "cat = TDSCatalog(f'https://thredds.ucar.edu/thredds/catalog/nexrad/level2/KINX/{date:%Y%m%d}/catalog.xml')\n",
    "request_time = date.replace(hour=12, minute=0, second=0, microsecond=0)\n",
    "datasets = cat.datasets.filter_time_range(request_time, request_time + timedelta(hours=6))\n",
    "print(datasets)\n"
   ]
  },
  {
   "cell_type": "markdown",
   "metadata": {},
   "source": [
    "<a href=\"#top\">Top</a>\n",
    "<hr style=\"height:2px;\">"
   ]
  },
  {
   "cell_type": "markdown",
   "metadata": {},
   "source": [
    "<a name=\"dataaccess\"></a>\n",
    "## 3. Use Siphon to Perform Remote Data Access\n",
    "\n",
    "Accessing catalogs is only part of the story; Siphon is much more useful if you're trying to access/download datasets.\n",
    "\n",
    "For instance, using our data that we just retrieved:"
   ]
  },
  {
   "cell_type": "code",
   "execution_count": 9,
   "metadata": {},
   "outputs": [],
   "source": [
    "# Solution from above in case you had trouble\n",
    "date = datetime.utcnow() - timedelta(days=1)\n",
    "cat = TDSCatalog(f'https://thredds.ucar.edu/thredds/catalog/nexrad/level2/KINX/{date:%Y%m%d}/catalog.xml')\n",
    "request_time = date.replace(hour=12, minute=0, second=0, microsecond=0)\n",
    "datasets = cat.datasets.filter_time_range(request_time, request_time + timedelta(hours=6))"
   ]
  },
  {
   "cell_type": "code",
   "execution_count": 10,
   "metadata": {},
   "outputs": [],
   "source": [
    "ds = datasets[0]"
   ]
  },
  {
   "cell_type": "markdown",
   "metadata": {
    "slideshow": {
     "slide_type": "fragment"
    }
   },
   "source": [
    "We can ask Siphon to download the file locally:"
   ]
  },
  {
   "cell_type": "code",
   "execution_count": 11,
   "metadata": {},
   "outputs": [],
   "source": [
    "ds.download()"
   ]
  },
  {
   "cell_type": "markdown",
   "metadata": {},
   "source": [
    "Look in your file explorer panel or run the cell below to verify that we did actually download the file!"
   ]
  },
  {
   "cell_type": "code",
   "execution_count": 12,
   "metadata": {},
   "outputs": [
    {
     "data": {
      "text/plain": [
       "['Level2_KINX_20200116_1756.ar2v', 'solutions', 'Siphon Overview.ipynb']"
      ]
     },
     "execution_count": 12,
     "metadata": {},
     "output_type": "execute_result"
    }
   ],
   "source": [
    "import os; os.listdir()"
   ]
  },
  {
   "cell_type": "markdown",
   "metadata": {
    "slideshow": {
     "slide_type": "subslide"
    }
   },
   "source": [
    "Or better yet, get a file-like object that lets us `read` from the file as if it were local:"
   ]
  },
  {
   "cell_type": "code",
   "execution_count": 13,
   "metadata": {},
   "outputs": [
    {
     "name": "stdout",
     "output_type": "stream",
     "text": [
      "3465268\n"
     ]
    }
   ],
   "source": [
    "fobj = ds.remote_open()\n",
    "data = fobj.read()\n",
    "print(len(data))"
   ]
  },
  {
   "cell_type": "markdown",
   "metadata": {},
   "source": [
    "This is handy if you have Python code to read a particular format."
   ]
  },
  {
   "cell_type": "markdown",
   "metadata": {
    "slideshow": {
     "slide_type": "subslide"
    }
   },
   "source": [
    "It's also possible to get access to the file through services that provide netCDF4-like access, but for the remote file. This access allows downloading information only for variables of interest, or for (index-based) subsets of that data:"
   ]
  },
  {
   "cell_type": "code",
   "execution_count": 14,
   "metadata": {},
   "outputs": [],
   "source": [
    "nc = ds.remote_access()"
   ]
  },
  {
   "cell_type": "markdown",
   "metadata": {},
   "source": [
    "By default this uses CDMRemote (if available), but it's also possible to ask for OPeNDAP (using netCDF4-python). There is even XArray support which is great with the declarative plotting interface - more on that later."
   ]
  },
  {
   "cell_type": "code",
   "execution_count": 15,
   "metadata": {},
   "outputs": [
    {
     "name": "stdout",
     "output_type": "stream",
     "text": [
      "['Reflectivity_HI', 'timeR_HI', 'elevationR_HI', 'azimuthR_HI', 'distanceR_HI', 'numRadialsR_HI', 'numGatesR_HI', 'Reflectivity', 'timeR', 'elevationR', 'azimuthR', 'distanceR', 'numRadialsR', 'numGatesR', 'RadialVelocity_HI', 'timeV_HI', 'elevationV_HI', 'azimuthV_HI', 'distanceV_HI', 'numRadialsV_HI', 'numGatesV_HI', 'RadialVelocity', 'timeV', 'elevationV', 'azimuthV', 'distanceV', 'numRadialsV', 'numGatesV', 'SpectrumWidth_HI', 'SpectrumWidth', 'DifferentialReflectivity_HI', 'timeD_HI', 'elevationD_HI', 'azimuthD_HI', 'distanceD_HI', 'numRadialsD_HI', 'numGatesD_HI', 'DifferentialReflectivity', 'timeD', 'elevationD', 'azimuthD', 'distanceD', 'numRadialsD', 'numGatesD', 'CorrelationCoefficient_HI', 'timeC_HI', 'elevationC_HI', 'azimuthC_HI', 'distanceC_HI', 'numRadialsC_HI', 'numGatesC_HI', 'CorrelationCoefficient', 'timeC', 'elevationC', 'azimuthC', 'distanceC', 'numRadialsC', 'numGatesC', 'DifferentialPhase_HI', 'timeP_HI', 'elevationP_HI', 'azimuthP_HI', 'distanceP_HI', 'numRadialsP_HI', 'numGatesP_HI', 'DifferentialPhase', 'timeP', 'elevationP', 'azimuthP', 'distanceP', 'numRadialsP', 'numGatesP']\n"
     ]
    }
   ],
   "source": [
    "print(list(nc.variables))"
   ]
  },
  {
   "cell_type": "markdown",
   "metadata": {},
   "source": [
    "<a href=\"#top\">Top</a>\n",
    "<hr style=\"height:2px;\">"
   ]
  }
 ],
 "metadata": {
  "kernelspec": {
   "display_name": "Python 3",
   "language": "python",
   "name": "python3"
  },
  "language_info": {
   "codemirror_mode": {
    "name": "ipython",
    "version": 3
   },
   "file_extension": ".py",
   "mimetype": "text/x-python",
   "name": "python",
   "nbconvert_exporter": "python",
   "pygments_lexer": "ipython3",
   "version": "3.7.6"
  }
 },
 "nbformat": 4,
 "nbformat_minor": 4
}
