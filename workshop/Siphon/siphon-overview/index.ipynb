{
 "cells": [
  {
   "cell_type": "markdown",
   "metadata": {},
   "source": [
    "<a name=\"top\"></a>\n",
    "<div style=\"width:1000 px\">\n",
    "\n",
    "<div style=\"float:right; width:98 px; height:98px;\">\n",
    "<img src=\"https://raw.githubusercontent.com/Unidata/MetPy/master/src/metpy/plots/_static/unidata_150x150.png\" alt=\"Unidata Logo\" style=\"height: 98px;\">\n",
    "</div>\n",
    "\n",
    "<h1>Siphon Overview</h1>\n",
    "<h3>Unidata Python Workshop</h3>\n",
    "\n",
    "<div style=\"clear:both\"></div>\n",
    "</div>\n",
    "\n",
    "<hr style=\"height:2px;\">\n",
    "\n",
    "<div style=\"float:right; width:250 px\"><img src=\"https://unidata.github.io/siphon/latest/_static/siphon_150x150.png\" alt=\"TDS\" style=\"height: 200px;\"></div>\n",
    "\n",
    "### Questions\n",
    "1. What is a THREDDS Data Server (TDS)?\n",
    "1. How can I use Siphon to access a TDS?\n",
    "\n",
    "### Objectives\n",
    "1. <a href=\"#threddsintro\">Use Siphon to Access a THREDDS Catalog</a>\n",
    "1. <a href=\"#filtering\">Filtering Data</a>\n",
    "1. <a href=\"#dataaccess\">Use Siphon to Perform Remote Data Access</a>"
   ]
  },
  {
   "cell_type": "markdown",
   "metadata": {},
   "source": [
    "<a name=\"threddsintro\"></a>\n",
    "## 1. Use Siphon to Access a THREDDS Catalog\n",
    "\n",
    "THREDDS is a server for providing remote access to datasets and a variety of server-side services. THREDDS make data access more uniform regardless of the on-disk format.\n",
    " * Data Access Services:\n",
    "   - HTTP Download\n",
    "   - Web Mapping/Coverage Service (WMS/WCS)\n",
    "   - OPeNDAP\n",
    "   - NetCDF Subset Service\n",
    "   - CDMRemote\n",
    "   \n",
    "There is a server with real-time data setup at [http://thredds.ucar.edu](http://thredds.ucar.edu) that we'll use to explore the capability of THREDDS and learn how to access data. Let's open that link and explore in the browser what's available on THREDDS. Explore the NEXRAD level 3 data specifically.\n",
    "\n",
    "### THREDDS Catalogs\n",
    "- XML descriptions of data and metadata\n",
    "- Access methods\n",
    "- Easily processed with `siphon.catalog.TDSCatalog`"
   ]
  },
  {
   "cell_type": "code",
   "execution_count": 1,
   "metadata": {},
   "outputs": [],
   "source": [
    "from datetime import datetime, timedelta\n",
    "\n",
    "from siphon.catalog import TDSCatalog"
   ]
  },
  {
   "cell_type": "markdown",
   "metadata": {},
   "source": [
    "Let's get data from yesterday at this time. We'll use the timedelta object to do this in an easy way."
   ]
  },
  {
   "cell_type": "code",
   "execution_count": 2,
   "metadata": {},
   "outputs": [
    {
     "name": "stdout",
     "output_type": "stream",
     "text": [
      "2020-01-10 16:52:41.310595\n"
     ]
    }
   ],
   "source": [
    "date = datetime.utcnow() - timedelta(days=1)\n",
    "print(date)"
   ]
  },
  {
   "cell_type": "markdown",
   "metadata": {},
   "source": [
    "We'll then go find the URL for the level 3 radar data. Let's get the N0Q (tilt 1 base reflectivity) for the LRX radar. Notice that we change the `html` extension to `xml`. Siphon will do that for us, but issue a warning."
   ]
  },
  {
   "cell_type": "code",
   "execution_count": 3,
   "metadata": {},
   "outputs": [],
   "source": [
    "cat = TDSCatalog('http://thredds.ucar.edu/thredds/catalog/nexrad/level3/'\n",
    "                 f'N0Q/LRX/{date:%Y%m%d}/catalog.xml')"
   ]
  },
  {
   "cell_type": "code",
   "execution_count": 4,
   "metadata": {},
   "outputs": [
    {
     "data": {
      "text/plain": [
       "['Level3_LRX_N0Q_20200110_2354.nids', 'Level3_LRX_N0Q_20200110_2345.nids', 'Level3_LRX_N0Q_20200110_2335.nids', 'Level3_LRX_N0Q_20200110_2326.nids', 'Level3_LRX_N0Q_20200110_2316.nids', 'Level3_LRX_N0Q_20200110_2306.nids', 'Level3_LRX_N0Q_20200110_2257.nids', 'Level3_LRX_N0Q_20200110_2247.nids', 'Level3_LRX_N0Q_20200110_2238.nids', 'Level3_LRX_N0Q_20200110_2228.nids', 'Level3_LRX_N0Q_20200110_2218.nids', 'Level3_LRX_N0Q_20200110_2209.nids', 'Level3_LRX_N0Q_20200110_2159.nids', 'Level3_LRX_N0Q_20200110_2150.nids', 'Level3_LRX_N0Q_20200110_2140.nids', 'Level3_LRX_N0Q_20200110_2130.nids', 'Level3_LRX_N0Q_20200110_2114.nids', 'Level3_LRX_N0Q_20200110_2104.nids', 'Level3_LRX_N0Q_20200110_2054.nids', 'Level3_LRX_N0Q_20200110_2045.nids', 'Level3_LRX_N0Q_20200110_2035.nids', 'Level3_LRX_N0Q_20200110_2026.nids', 'Level3_LRX_N0Q_20200110_2016.nids', 'Level3_LRX_N0Q_20200110_2006.nids', 'Level3_LRX_N0Q_20200110_1957.nids', 'Level3_LRX_N0Q_20200110_1952.nids', 'Level3_LRX_N0Q_20200110_1945.nids', 'Level3_LRX_N0Q_20200110_1938.nids', 'Level3_LRX_N0Q_20200110_1931.nids', 'Level3_LRX_N0Q_20200110_1924.nids', 'Level3_LRX_N0Q_20200110_1917.nids', 'Level3_LRX_N0Q_20200110_1910.nids', 'Level3_LRX_N0Q_20200110_1903.nids', 'Level3_LRX_N0Q_20200110_1856.nids', 'Level3_LRX_N0Q_20200110_1849.nids', 'Level3_LRX_N0Q_20200110_1842.nids', 'Level3_LRX_N0Q_20200110_1834.nids', 'Level3_LRX_N0Q_20200110_1827.nids', 'Level3_LRX_N0Q_20200110_1820.nids', 'Level3_LRX_N0Q_20200110_1813.nids', 'Level3_LRX_N0Q_20200110_1806.nids', 'Level3_LRX_N0Q_20200110_1759.nids', 'Level3_LRX_N0Q_20200110_1752.nids', 'Level3_LRX_N0Q_20200110_1745.nids', 'Level3_LRX_N0Q_20200110_1738.nids', 'Level3_LRX_N0Q_20200110_1731.nids', 'Level3_LRX_N0Q_20200110_1724.nids', 'Level3_LRX_N0Q_20200110_1717.nids', 'Level3_LRX_N0Q_20200110_1710.nids', 'Level3_LRX_N0Q_20200110_1703.nids', 'Level3_LRX_N0Q_20200110_1656.nids', 'Level3_LRX_N0Q_20200110_1647.nids', 'Level3_LRX_N0Q_20200110_1640.nids', 'Level3_LRX_N0Q_20200110_1633.nids', 'Level3_LRX_N0Q_20200110_1626.nids', 'Level3_LRX_N0Q_20200110_1618.nids', 'Level3_LRX_N0Q_20200110_1611.nids', 'Level3_LRX_N0Q_20200110_1604.nids', 'Level3_LRX_N0Q_20200110_1557.nids', 'Level3_LRX_N0Q_20200110_1550.nids', 'Level3_LRX_N0Q_20200110_1543.nids', 'Level3_LRX_N0Q_20200110_1536.nids', 'Level3_LRX_N0Q_20200110_1529.nids', 'Level3_LRX_N0Q_20200110_1522.nids', 'Level3_LRX_N0Q_20200110_1515.nids', 'Level3_LRX_N0Q_20200110_1508.nids', 'Level3_LRX_N0Q_20200110_1501.nids', 'Level3_LRX_N0Q_20200110_1454.nids', 'Level3_LRX_N0Q_20200110_1447.nids', 'Level3_LRX_N0Q_20200110_1440.nids', 'Level3_LRX_N0Q_20200110_1433.nids', 'Level3_LRX_N0Q_20200110_1426.nids', 'Level3_LRX_N0Q_20200110_1419.nids', 'Level3_LRX_N0Q_20200110_1412.nids', 'Level3_LRX_N0Q_20200110_1405.nids', 'Level3_LRX_N0Q_20200110_1358.nids', 'Level3_LRX_N0Q_20200110_1351.nids', 'Level3_LRX_N0Q_20200110_1344.nids', 'Level3_LRX_N0Q_20200110_1337.nids', 'Level3_LRX_N0Q_20200110_1330.nids', 'Level3_LRX_N0Q_20200110_1323.nids', 'Level3_LRX_N0Q_20200110_1316.nids', 'Level3_LRX_N0Q_20200110_1309.nids', 'Level3_LRX_N0Q_20200110_1302.nids', 'Level3_LRX_N0Q_20200110_1255.nids', 'Level3_LRX_N0Q_20200110_1248.nids', 'Level3_LRX_N0Q_20200110_1241.nids', 'Level3_LRX_N0Q_20200110_1234.nids', 'Level3_LRX_N0Q_20200110_1227.nids', 'Level3_LRX_N0Q_20200110_1220.nids', 'Level3_LRX_N0Q_20200110_1213.nids', 'Level3_LRX_N0Q_20200110_1206.nids', 'Level3_LRX_N0Q_20200110_1159.nids', 'Level3_LRX_N0Q_20200110_1152.nids', 'Level3_LRX_N0Q_20200110_1145.nids', 'Level3_LRX_N0Q_20200110_1138.nids', 'Level3_LRX_N0Q_20200110_1131.nids', 'Level3_LRX_N0Q_20200110_1124.nids', 'Level3_LRX_N0Q_20200110_1117.nids', 'Level3_LRX_N0Q_20200110_1110.nids', 'Level3_LRX_N0Q_20200110_1103.nids', 'Level3_LRX_N0Q_20200110_1056.nids', 'Level3_LRX_N0Q_20200110_1049.nids', 'Level3_LRX_N0Q_20200110_1042.nids', 'Level3_LRX_N0Q_20200110_1035.nids', 'Level3_LRX_N0Q_20200110_1028.nids', 'Level3_LRX_N0Q_20200110_1021.nids', 'Level3_LRX_N0Q_20200110_1014.nids', 'Level3_LRX_N0Q_20200110_1007.nids', 'Level3_LRX_N0Q_20200110_1000.nids', 'Level3_LRX_N0Q_20200110_0953.nids', 'Level3_LRX_N0Q_20200110_0946.nids', 'Level3_LRX_N0Q_20200110_0939.nids', 'Level3_LRX_N0Q_20200110_0932.nids', 'Level3_LRX_N0Q_20200110_0925.nids', 'Level3_LRX_N0Q_20200110_0918.nids', 'Level3_LRX_N0Q_20200110_0911.nids', 'Level3_LRX_N0Q_20200110_0904.nids', 'Level3_LRX_N0Q_20200110_0857.nids', 'Level3_LRX_N0Q_20200110_0850.nids', 'Level3_LRX_N0Q_20200110_0841.nids', 'Level3_LRX_N0Q_20200110_0834.nids', 'Level3_LRX_N0Q_20200110_0827.nids', 'Level3_LRX_N0Q_20200110_0820.nids', 'Level3_LRX_N0Q_20200110_0813.nids', 'Level3_LRX_N0Q_20200110_0806.nids', 'Level3_LRX_N0Q_20200110_0759.nids', 'Level3_LRX_N0Q_20200110_0752.nids', 'Level3_LRX_N0Q_20200110_0745.nids', 'Level3_LRX_N0Q_20200110_0738.nids', 'Level3_LRX_N0Q_20200110_0731.nids', 'Level3_LRX_N0Q_20200110_0724.nids', 'Level3_LRX_N0Q_20200110_0717.nids', 'Level3_LRX_N0Q_20200110_0710.nids', 'Level3_LRX_N0Q_20200110_0703.nids', 'Level3_LRX_N0Q_20200110_0656.nids', 'Level3_LRX_N0Q_20200110_0649.nids', 'Level3_LRX_N0Q_20200110_0642.nids', 'Level3_LRX_N0Q_20200110_0635.nids', 'Level3_LRX_N0Q_20200110_0628.nids', 'Level3_LRX_N0Q_20200110_0621.nids', 'Level3_LRX_N0Q_20200110_0614.nids', 'Level3_LRX_N0Q_20200110_0607.nids', 'Level3_LRX_N0Q_20200110_0600.nids', 'Level3_LRX_N0Q_20200110_0553.nids', 'Level3_LRX_N0Q_20200110_0546.nids', 'Level3_LRX_N0Q_20200110_0539.nids', 'Level3_LRX_N0Q_20200110_0532.nids', 'Level3_LRX_N0Q_20200110_0525.nids', 'Level3_LRX_N0Q_20200110_0518.nids', 'Level3_LRX_N0Q_20200110_0511.nids', 'Level3_LRX_N0Q_20200110_0504.nids', 'Level3_LRX_N0Q_20200110_0457.nids', 'Level3_LRX_N0Q_20200110_0450.nids', 'Level3_LRX_N0Q_20200110_0443.nids', 'Level3_LRX_N0Q_20200110_0436.nids', 'Level3_LRX_N0Q_20200110_0429.nids', 'Level3_LRX_N0Q_20200110_0422.nids', 'Level3_LRX_N0Q_20200110_0415.nids', 'Level3_LRX_N0Q_20200110_0408.nids', 'Level3_LRX_N0Q_20200110_0401.nids', 'Level3_LRX_N0Q_20200110_0354.nids', 'Level3_LRX_N0Q_20200110_0347.nids', 'Level3_LRX_N0Q_20200110_0340.nids', 'Level3_LRX_N0Q_20200110_0333.nids', 'Level3_LRX_N0Q_20200110_0326.nids', 'Level3_LRX_N0Q_20200110_0319.nids', 'Level3_LRX_N0Q_20200110_0312.nids', 'Level3_LRX_N0Q_20200110_0305.nids', 'Level3_LRX_N0Q_20200110_0258.nids', 'Level3_LRX_N0Q_20200110_0251.nids', 'Level3_LRX_N0Q_20200110_0244.nids', 'Level3_LRX_N0Q_20200110_0237.nids', 'Level3_LRX_N0Q_20200110_0230.nids', 'Level3_LRX_N0Q_20200110_0223.nids', 'Level3_LRX_N0Q_20200110_0215.nids', 'Level3_LRX_N0Q_20200110_0208.nids', 'Level3_LRX_N0Q_20200110_0201.nids', 'Level3_LRX_N0Q_20200110_0154.nids', 'Level3_LRX_N0Q_20200110_0147.nids', 'Level3_LRX_N0Q_20200110_0140.nids', 'Level3_LRX_N0Q_20200110_0133.nids', 'Level3_LRX_N0Q_20200110_0126.nids', 'Level3_LRX_N0Q_20200110_0119.nids', 'Level3_LRX_N0Q_20200110_0112.nids', 'Level3_LRX_N0Q_20200110_0105.nids', 'Level3_LRX_N0Q_20200110_0058.nids', 'Level3_LRX_N0Q_20200110_0051.nids', 'Level3_LRX_N0Q_20200110_0044.nids', 'Level3_LRX_N0Q_20200110_0035.nids', 'Level3_LRX_N0Q_20200110_0028.nids', 'Level3_LRX_N0Q_20200110_0021.nids', 'Level3_LRX_N0Q_20200110_0014.nids', 'Level3_LRX_N0Q_20200110_0007.nids', 'Level3_LRX_N0Q_20200110_0000.nids']"
      ]
     },
     "execution_count": 4,
     "metadata": {},
     "output_type": "execute_result"
    }
   ],
   "source": [
    "cat.datasets"
   ]
  },
  {
   "cell_type": "markdown",
   "metadata": {},
   "source": [
    "<a href=\"#top\">Top</a>\n",
    "<hr style=\"height:2px;\">"
   ]
  },
  {
   "cell_type": "markdown",
   "metadata": {},
   "source": [
    "<a name=\"filtering\"></a>\n",
    "## 2. Filtering Data"
   ]
  },
  {
   "cell_type": "markdown",
   "metadata": {},
   "source": [
    "We *could* manually look through that list above and figure out what dataset we're looking for and generate that name (or index). Siphon provides some helpers to simplify this process, provided the names of the dataset follow a pattern with the timestamp in the name:"
   ]
  },
  {
   "cell_type": "code",
   "execution_count": 5,
   "metadata": {},
   "outputs": [
    {
     "data": {
      "text/plain": [
       "Level3_LRX_N0Q_20200110_1827.nids"
      ]
     },
     "execution_count": 5,
     "metadata": {},
     "output_type": "execute_result"
    }
   ],
   "source": [
    "request_time = date.replace(hour=18, minute=30, second=0, microsecond=0)\n",
    "ds = cat.datasets.filter_time_nearest(request_time)\n",
    "ds"
   ]
  },
  {
   "cell_type": "markdown",
   "metadata": {},
   "source": [
    "We can also find the list of datasets within a time range:"
   ]
  },
  {
   "cell_type": "code",
   "execution_count": 6,
   "metadata": {},
   "outputs": [
    {
     "name": "stdout",
     "output_type": "stream",
     "text": [
      "[Level3_LRX_N0Q_20200110_1924.nids, Level3_LRX_N0Q_20200110_1917.nids, Level3_LRX_N0Q_20200110_1910.nids, Level3_LRX_N0Q_20200110_1903.nids, Level3_LRX_N0Q_20200110_1856.nids, Level3_LRX_N0Q_20200110_1849.nids, Level3_LRX_N0Q_20200110_1842.nids, Level3_LRX_N0Q_20200110_1834.nids]\n"
     ]
    }
   ],
   "source": [
    "datasets = cat.datasets.filter_time_range(request_time, request_time + timedelta(hours=1))\n",
    "print(datasets)"
   ]
  },
  {
   "cell_type": "markdown",
   "metadata": {},
   "source": [
    "<div class=\"alert alert-success\">\n",
    "    <b>EXERCISE</b>:\n",
    "     <ul>\n",
    "        <li>Starting from http://thredds.ucar.edu/, find the level 2 radar data for the Tulsa, OK radar (KINX) for the previous day.</li>\n",
    "        <li>Grab the URL and create a TDSCatalog instance.</li>\n",
    "        <li>Using Siphon, find the data available in the catalog between 12Z and 18Z on the previous day.</li>\n",
    "    </ul>\n",
    "</div>"
   ]
  },
  {
   "cell_type": "code",
   "execution_count": 7,
   "metadata": {},
   "outputs": [],
   "source": [
    "# YOUR CODE GOES HERE"
   ]
  },
  {
   "cell_type": "markdown",
   "metadata": {},
   "source": [
    "<div class=\"alert alert-info\">\n",
    "    <b>SOLUTION</b>\n",
    "</div>"
   ]
  },
  {
   "cell_type": "code",
   "execution_count": 8,
   "metadata": {},
   "outputs": [
    {
     "name": "stdout",
     "output_type": "stream",
     "text": [
      "[Level2_KINX_20200110_1755.ar2v, Level2_KINX_20200110_1748.ar2v, Level2_KINX_20200110_1743.ar2v, Level2_KINX_20200110_1737.ar2v, Level2_KINX_20200110_1731.ar2v, Level2_KINX_20200110_1725.ar2v, Level2_KINX_20200110_1719.ar2v, Level2_KINX_20200110_1713.ar2v, Level2_KINX_20200110_1707.ar2v, Level2_KINX_20200110_1701.ar2v, Level2_KINX_20200110_1655.ar2v, Level2_KINX_20200110_1649.ar2v, Level2_KINX_20200110_1643.ar2v, Level2_KINX_20200110_1637.ar2v, Level2_KINX_20200110_1631.ar2v, Level2_KINX_20200110_1625.ar2v, Level2_KINX_20200110_1620.ar2v, Level2_KINX_20200110_1614.ar2v, Level2_KINX_20200110_1608.ar2v, Level2_KINX_20200110_1601.ar2v, Level2_KINX_20200110_1555.ar2v, Level2_KINX_20200110_1548.ar2v, Level2_KINX_20200110_1541.ar2v, Level2_KINX_20200110_1535.ar2v, Level2_KINX_20200110_1529.ar2v, Level2_KINX_20200110_1523.ar2v, Level2_KINX_20200110_1517.ar2v, Level2_KINX_20200110_1512.ar2v, Level2_KINX_20200110_1505.ar2v, Level2_KINX_20200110_1459.ar2v, Level2_KINX_20200110_1454.ar2v, Level2_KINX_20200110_1449.ar2v, Level2_KINX_20200110_1444.ar2v, Level2_KINX_20200110_1439.ar2v, Level2_KINX_20200110_1433.ar2v, Level2_KINX_20200110_1428.ar2v, Level2_KINX_20200110_1423.ar2v, Level2_KINX_20200110_1418.ar2v, Level2_KINX_20200110_1413.ar2v, Level2_KINX_20200110_1407.ar2v, Level2_KINX_20200110_1402.ar2v, Level2_KINX_20200110_1357.ar2v, Level2_KINX_20200110_1352.ar2v, Level2_KINX_20200110_1343.ar2v, Level2_KINX_20200110_1335.ar2v, Level2_KINX_20200110_1327.ar2v, Level2_KINX_20200110_1318.ar2v, Level2_KINX_20200110_1310.ar2v, Level2_KINX_20200110_1302.ar2v, Level2_KINX_20200110_1254.ar2v, Level2_KINX_20200110_1245.ar2v, Level2_KINX_20200110_1240.ar2v, Level2_KINX_20200110_1235.ar2v, Level2_KINX_20200110_1229.ar2v, Level2_KINX_20200110_1224.ar2v, Level2_KINX_20200110_1219.ar2v, Level2_KINX_20200110_1213.ar2v, Level2_KINX_20200110_1208.ar2v, Level2_KINX_20200110_1202.ar2v]\n"
     ]
    }
   ],
   "source": [
    "# %load solutions/datasets.py\n",
    "\n",
    "# Cell content replaced by load magic replacement.\n",
    "# Solution from above in case you had trouble\n",
    "date = datetime.utcnow() - timedelta(days=1)\n",
    "cat = TDSCatalog(f'https://thredds.ucar.edu/thredds/catalog/nexrad/level2/KINX/{date:%Y%m%d}/catalog.xml')\n",
    "request_time = date.replace(hour=12, minute=0, second=0, microsecond=0)\n",
    "datasets = cat.datasets.filter_time_range(request_time, request_time + timedelta(hours=6))\n",
    "print(datasets)\n"
   ]
  },
  {
   "cell_type": "markdown",
   "metadata": {},
   "source": [
    "<a href=\"#top\">Top</a>\n",
    "<hr style=\"height:2px;\">"
   ]
  },
  {
   "cell_type": "markdown",
   "metadata": {},
   "source": [
    "<a name=\"dataaccess\"></a>\n",
    "## 3. Use Siphon to Perform Remote Data Access\n",
    "\n",
    "Accessing catalogs is only part of the story; Siphon is much more useful if you're trying to access/download datasets.\n",
    "\n",
    "For instance, using our data that we just retrieved:"
   ]
  },
  {
   "cell_type": "code",
   "execution_count": 9,
   "metadata": {},
   "outputs": [],
   "source": [
    "# Solution from above in case you had trouble\n",
    "date = datetime.utcnow() - timedelta(days=1)\n",
    "cat = TDSCatalog(f'https://thredds.ucar.edu/thredds/catalog/nexrad/level2/KINX/{date:%Y%m%d}/catalog.xml')\n",
    "request_time = date.replace(hour=12, minute=0, second=0, microsecond=0)\n",
    "datasets = cat.datasets.filter_time_range(request_time, request_time + timedelta(hours=6))"
   ]
  },
  {
   "cell_type": "code",
   "execution_count": 10,
   "metadata": {},
   "outputs": [],
   "source": [
    "ds = datasets[0]"
   ]
  },
  {
   "cell_type": "markdown",
   "metadata": {
    "slideshow": {
     "slide_type": "fragment"
    }
   },
   "source": [
    "We can ask Siphon to download the file locally:"
   ]
  },
  {
   "cell_type": "code",
   "execution_count": 11,
   "metadata": {},
   "outputs": [],
   "source": [
    "ds.download()"
   ]
  },
  {
   "cell_type": "markdown",
   "metadata": {},
   "source": [
    "Look in your file explorer panel or run the cell below to verify that we did actually download the file!"
   ]
  },
  {
   "cell_type": "code",
   "execution_count": 12,
   "metadata": {},
   "outputs": [
    {
     "data": {
      "text/plain": [
       "['solutions', 'Siphon Overview.ipynb', 'Level2_KINX_20200110_1755.ar2v']"
      ]
     },
     "execution_count": 12,
     "metadata": {},
     "output_type": "execute_result"
    }
   ],
   "source": [
    "import os; os.listdir()"
   ]
  },
  {
   "cell_type": "markdown",
   "metadata": {
    "slideshow": {
     "slide_type": "subslide"
    }
   },
   "source": [
    "Or better yet, get a file-like object that lets us `read` from the file as if it were local:"
   ]
  },
  {
   "cell_type": "code",
   "execution_count": 13,
   "metadata": {},
   "outputs": [
    {
     "name": "stdout",
     "output_type": "stream",
     "text": [
      "13568222\n"
     ]
    }
   ],
   "source": [
    "fobj = ds.remote_open()\n",
    "data = fobj.read()\n",
    "print(len(data))"
   ]
  },
  {
   "cell_type": "markdown",
   "metadata": {},
   "source": [
    "This is handy if you have Python code to read a particular format."
   ]
  },
  {
   "cell_type": "markdown",
   "metadata": {
    "slideshow": {
     "slide_type": "subslide"
    }
   },
   "source": [
    "It's also possible to get access to the file through services that provide netCDF4-like access, but for the remote file. This access allows downloading information only for variables of interest, or for (index-based) subsets of that data:"
   ]
  },
  {
   "cell_type": "code",
   "execution_count": 14,
   "metadata": {},
   "outputs": [],
   "source": [
    "nc = ds.remote_access()"
   ]
  },
  {
   "cell_type": "markdown",
   "metadata": {},
   "source": [
    "By default this uses CDMRemote (if available), but it's also possible to ask for OPeNDAP (using netCDF4-python). There is even XArray support which is great with the declarative plotting interface - more on that later."
   ]
  },
  {
   "cell_type": "code",
   "execution_count": 15,
   "metadata": {},
   "outputs": [
    {
     "name": "stdout",
     "output_type": "stream",
     "text": [
      "['Reflectivity_HI', 'timeR_HI', 'elevationR_HI', 'azimuthR_HI', 'distanceR_HI', 'numRadialsR_HI', 'numGatesR_HI', 'Reflectivity', 'timeR', 'elevationR', 'azimuthR', 'distanceR', 'numRadialsR', 'numGatesR', 'RadialVelocity_HI', 'timeV_HI', 'elevationV_HI', 'azimuthV_HI', 'distanceV_HI', 'numRadialsV_HI', 'numGatesV_HI', 'RadialVelocity', 'timeV', 'elevationV', 'azimuthV', 'distanceV', 'numRadialsV', 'numGatesV', 'SpectrumWidth_HI', 'SpectrumWidth', 'DifferentialReflectivity_HI', 'timeD_HI', 'elevationD_HI', 'azimuthD_HI', 'distanceD_HI', 'numRadialsD_HI', 'numGatesD_HI', 'DifferentialReflectivity', 'timeD', 'elevationD', 'azimuthD', 'distanceD', 'numRadialsD', 'numGatesD', 'CorrelationCoefficient_HI', 'timeC_HI', 'elevationC_HI', 'azimuthC_HI', 'distanceC_HI', 'numRadialsC_HI', 'numGatesC_HI', 'CorrelationCoefficient', 'timeC', 'elevationC', 'azimuthC', 'distanceC', 'numRadialsC', 'numGatesC', 'DifferentialPhase_HI', 'timeP_HI', 'elevationP_HI', 'azimuthP_HI', 'distanceP_HI', 'numRadialsP_HI', 'numGatesP_HI', 'DifferentialPhase', 'timeP', 'elevationP', 'azimuthP', 'distanceP', 'numRadialsP', 'numGatesP']\n"
     ]
    }
   ],
   "source": [
    "print(list(nc.variables))"
   ]
  },
  {
   "cell_type": "markdown",
   "metadata": {},
   "source": [
    "<a href=\"#top\">Top</a>\n",
    "<hr style=\"height:2px;\">"
   ]
  }
 ],
 "metadata": {
  "kernelspec": {
   "display_name": "Python 3",
   "language": "python",
   "name": "python3"
  },
  "language_info": {
   "codemirror_mode": {
    "name": "ipython",
    "version": 3
   },
   "file_extension": ".py",
   "mimetype": "text/x-python",
   "name": "python",
   "nbconvert_exporter": "python",
   "pygments_lexer": "ipython3",
   "version": "3.7.6"
  }
 },
 "nbformat": 4,
 "nbformat_minor": 4
}
