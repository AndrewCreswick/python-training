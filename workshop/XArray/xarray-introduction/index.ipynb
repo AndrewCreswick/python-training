{
 "cells": [
  {
   "cell_type": "markdown",
   "metadata": {},
   "source": [
    "<div style=\"width:1000 px\">\n",
    "\n",
    "<div style=\"float:right; width:98 px; height:98px;\">\n",
    "<img src=\"https://raw.githubusercontent.com/Unidata/MetPy/master/src/metpy/plots/_static/unidata_150x150.png\" alt=\"Unidata Logo\" style=\"height: 98px;\">\n",
    "</div>\n",
    "\n",
    "<h1>XArray Introduction</h1>\n",
    "<h3>Unidata Python Workshop</h3>\n",
    "\n",
    "<div style=\"clear:both\"></div>\n",
    "</div>\n",
    "\n",
    "<hr style=\"height:2px;\">\n",
    "\n",
    "<div style=\"float:right; width:250 px\"><img src=\"http://xarray.pydata.org/en/stable/_static/dataset-diagram-logo.png\" alt=\"NumPy Logo\" style=\"height: 250px;\"></div>\n",
    "\n",
    "### Questions\n",
    "1. What is XArray?\n",
    "2. How does XArray fit in with Numpy and Pandas?\n",
    "\n",
    "### Objectives\n",
    "1. Create a `DataArray`.\n",
    "2. Open netCDF data using XArray\n",
    "3. Subset the data."
   ]
  },
  {
   "cell_type": "markdown",
   "metadata": {},
   "source": [
    "## XArray\n",
    "\n",
    "XArray expands on the capabilities on NumPy arrays, providing a lot of streamlined data manipulation. It is similar in that respect to Pandas, but whereas Pandas excels at working with tabular data, XArray is focused on N-dimensional arrays of data (i.e. grids). Its interface is based largely on the netCDF data model (variables, attributes, and dimensions), but it goes beyond the traditional netCDF interfaces to provide functionality similar to netCDF-java's Common Data Model (CDM). "
   ]
  },
  {
   "cell_type": "markdown",
   "metadata": {},
   "source": [
    "### `DataArray`\n",
    "\n",
    "The `DataArray` is one of the basic building blocks of XArray. It provides a NumPy ndarray-like object that expands to provide two critical pieces of functionality:\n",
    "\n",
    "1. Coordinate names and values are stored with the data, making slicing and indexing much more powerful\n",
    "2. It has a built-in container for attributes"
   ]
  },
  {
   "cell_type": "code",
   "execution_count": 1,
   "metadata": {
    "slideshow": {
     "slide_type": "subslide"
    }
   },
   "outputs": [],
   "source": [
    "# Convention for import to get shortened namespace\n",
    "import numpy as np\n",
    "import xarray as xr"
   ]
  },
  {
   "cell_type": "code",
   "execution_count": 2,
   "metadata": {
    "slideshow": {
     "slide_type": "fragment"
    }
   },
   "outputs": [
    {
     "data": {
      "text/plain": [
       "array([[[282.68817921, 282.24347653, 282.00433206, 283.39577491],\n",
       "        [282.65269635, 278.20777131, 284.57105394, 285.94543946],\n",
       "        [278.44482839, 278.77152984, 295.92289769, 276.28288639]],\n",
       "\n",
       "       [[280.03242977, 282.69090937, 281.46945786, 282.2721796 ],\n",
       "        [284.35431245, 284.16517857, 285.86574039, 288.78161215],\n",
       "        [288.49955699, 287.86675153, 278.6812936 , 284.25135671]],\n",
       "\n",
       "       [[278.93132196, 280.83648625, 277.45221925, 286.67408558],\n",
       "        [291.51784017, 282.07670345, 272.25074072, 286.24714989],\n",
       "        [271.72192378, 278.83843742, 288.14061453, 287.08091786]],\n",
       "\n",
       "       [[280.81255328, 274.05427135, 277.8218263 , 282.1994321 ],\n",
       "        [282.94749443, 280.09751444, 283.03742121, 277.77991956],\n",
       "        [282.74057656, 276.34475437, 283.15528428, 289.2015222 ]],\n",
       "\n",
       "       [[279.36607253, 291.64494336, 282.33708063, 281.43707927],\n",
       "        [285.90456045, 285.44785636, 284.99471823, 278.8268282 ],\n",
       "        [283.72835342, 287.08191486, 284.27432848, 282.90513263]]])"
      ]
     },
     "execution_count": 2,
     "metadata": {},
     "output_type": "execute_result"
    }
   ],
   "source": [
    "# Create some sample \"temperature\" data\n",
    "data = 283 + 5 * np.random.randn(5, 3, 4)\n",
    "data"
   ]
  },
  {
   "cell_type": "markdown",
   "metadata": {},
   "source": [
    "Here we create a basic `DataArray` by passing it just a numpy array of random data. Note that XArray generates some basic dimension names for us."
   ]
  },
  {
   "cell_type": "code",
   "execution_count": 3,
   "metadata": {},
   "outputs": [
    {
     "data": {
      "text/html": [
       "<pre>&lt;xarray.DataArray (dim_0: 5, dim_1: 3, dim_2: 4)&gt;\n",
       "array([[[282.68817921, 282.24347653, 282.00433206, 283.39577491],\n",
       "        [282.65269635, 278.20777131, 284.57105394, 285.94543946],\n",
       "        [278.44482839, 278.77152984, 295.92289769, 276.28288639]],\n",
       "\n",
       "       [[280.03242977, 282.69090937, 281.46945786, 282.2721796 ],\n",
       "        [284.35431245, 284.16517857, 285.86574039, 288.78161215],\n",
       "        [288.49955699, 287.86675153, 278.6812936 , 284.25135671]],\n",
       "\n",
       "       [[278.93132196, 280.83648625, 277.45221925, 286.67408558],\n",
       "        [291.51784017, 282.07670345, 272.25074072, 286.24714989],\n",
       "        [271.72192378, 278.83843742, 288.14061453, 287.08091786]],\n",
       "\n",
       "       [[280.81255328, 274.05427135, 277.8218263 , 282.1994321 ],\n",
       "        [282.94749443, 280.09751444, 283.03742121, 277.77991956],\n",
       "        [282.74057656, 276.34475437, 283.15528428, 289.2015222 ]],\n",
       "\n",
       "       [[279.36607253, 291.64494336, 282.33708063, 281.43707927],\n",
       "        [285.90456045, 285.44785636, 284.99471823, 278.8268282 ],\n",
       "        [283.72835342, 287.08191486, 284.27432848, 282.90513263]]])\n",
       "Dimensions without coordinates: dim_0, dim_1, dim_2</pre>"
      ],
      "text/plain": [
       "<xarray.DataArray (dim_0: 5, dim_1: 3, dim_2: 4)>\n",
       "array([[[282.68817921, 282.24347653, 282.00433206, 283.39577491],\n",
       "        [282.65269635, 278.20777131, 284.57105394, 285.94543946],\n",
       "        [278.44482839, 278.77152984, 295.92289769, 276.28288639]],\n",
       "\n",
       "       [[280.03242977, 282.69090937, 281.46945786, 282.2721796 ],\n",
       "        [284.35431245, 284.16517857, 285.86574039, 288.78161215],\n",
       "        [288.49955699, 287.86675153, 278.6812936 , 284.25135671]],\n",
       "\n",
       "       [[278.93132196, 280.83648625, 277.45221925, 286.67408558],\n",
       "        [291.51784017, 282.07670345, 272.25074072, 286.24714989],\n",
       "        [271.72192378, 278.83843742, 288.14061453, 287.08091786]],\n",
       "\n",
       "       [[280.81255328, 274.05427135, 277.8218263 , 282.1994321 ],\n",
       "        [282.94749443, 280.09751444, 283.03742121, 277.77991956],\n",
       "        [282.74057656, 276.34475437, 283.15528428, 289.2015222 ]],\n",
       "\n",
       "       [[279.36607253, 291.64494336, 282.33708063, 281.43707927],\n",
       "        [285.90456045, 285.44785636, 284.99471823, 278.8268282 ],\n",
       "        [283.72835342, 287.08191486, 284.27432848, 282.90513263]]])\n",
       "Dimensions without coordinates: dim_0, dim_1, dim_2"
      ]
     },
     "execution_count": 3,
     "metadata": {},
     "output_type": "execute_result"
    }
   ],
   "source": [
    "temp = xr.DataArray(data)\n",
    "temp"
   ]
  },
  {
   "cell_type": "markdown",
   "metadata": {},
   "source": [
    "We can also pass in our own dimension names:"
   ]
  },
  {
   "cell_type": "code",
   "execution_count": 4,
   "metadata": {},
   "outputs": [
    {
     "data": {
      "text/html": [
       "<pre>&lt;xarray.DataArray (time: 5, lat: 3, lon: 4)&gt;\n",
       "array([[[282.68817921, 282.24347653, 282.00433206, 283.39577491],\n",
       "        [282.65269635, 278.20777131, 284.57105394, 285.94543946],\n",
       "        [278.44482839, 278.77152984, 295.92289769, 276.28288639]],\n",
       "\n",
       "       [[280.03242977, 282.69090937, 281.46945786, 282.2721796 ],\n",
       "        [284.35431245, 284.16517857, 285.86574039, 288.78161215],\n",
       "        [288.49955699, 287.86675153, 278.6812936 , 284.25135671]],\n",
       "\n",
       "       [[278.93132196, 280.83648625, 277.45221925, 286.67408558],\n",
       "        [291.51784017, 282.07670345, 272.25074072, 286.24714989],\n",
       "        [271.72192378, 278.83843742, 288.14061453, 287.08091786]],\n",
       "\n",
       "       [[280.81255328, 274.05427135, 277.8218263 , 282.1994321 ],\n",
       "        [282.94749443, 280.09751444, 283.03742121, 277.77991956],\n",
       "        [282.74057656, 276.34475437, 283.15528428, 289.2015222 ]],\n",
       "\n",
       "       [[279.36607253, 291.64494336, 282.33708063, 281.43707927],\n",
       "        [285.90456045, 285.44785636, 284.99471823, 278.8268282 ],\n",
       "        [283.72835342, 287.08191486, 284.27432848, 282.90513263]]])\n",
       "Dimensions without coordinates: time, lat, lon</pre>"
      ],
      "text/plain": [
       "<xarray.DataArray (time: 5, lat: 3, lon: 4)>\n",
       "array([[[282.68817921, 282.24347653, 282.00433206, 283.39577491],\n",
       "        [282.65269635, 278.20777131, 284.57105394, 285.94543946],\n",
       "        [278.44482839, 278.77152984, 295.92289769, 276.28288639]],\n",
       "\n",
       "       [[280.03242977, 282.69090937, 281.46945786, 282.2721796 ],\n",
       "        [284.35431245, 284.16517857, 285.86574039, 288.78161215],\n",
       "        [288.49955699, 287.86675153, 278.6812936 , 284.25135671]],\n",
       "\n",
       "       [[278.93132196, 280.83648625, 277.45221925, 286.67408558],\n",
       "        [291.51784017, 282.07670345, 272.25074072, 286.24714989],\n",
       "        [271.72192378, 278.83843742, 288.14061453, 287.08091786]],\n",
       "\n",
       "       [[280.81255328, 274.05427135, 277.8218263 , 282.1994321 ],\n",
       "        [282.94749443, 280.09751444, 283.03742121, 277.77991956],\n",
       "        [282.74057656, 276.34475437, 283.15528428, 289.2015222 ]],\n",
       "\n",
       "       [[279.36607253, 291.64494336, 282.33708063, 281.43707927],\n",
       "        [285.90456045, 285.44785636, 284.99471823, 278.8268282 ],\n",
       "        [283.72835342, 287.08191486, 284.27432848, 282.90513263]]])\n",
       "Dimensions without coordinates: time, lat, lon"
      ]
     },
     "execution_count": 4,
     "metadata": {},
     "output_type": "execute_result"
    }
   ],
   "source": [
    "temp = xr.DataArray(data, dims=['time', 'lat', 'lon'])\n",
    "temp"
   ]
  },
  {
   "cell_type": "markdown",
   "metadata": {},
   "source": [
    "This is already improved upon from a numpy array, because we have names for each of the dimensions (or axes in NumPy parlance). Even better, we can take arrays representing the values for the coordinates for each of these dimensions and associate them with the data when we create the `DataArray`."
   ]
  },
  {
   "cell_type": "code",
   "execution_count": 5,
   "metadata": {},
   "outputs": [
    {
     "data": {
      "text/plain": [
       "DatetimeIndex(['2018-01-01', '2018-01-02', '2018-01-03', '2018-01-04',\n",
       "               '2018-01-05'],\n",
       "              dtype='datetime64[ns]', freq='D')"
      ]
     },
     "execution_count": 5,
     "metadata": {},
     "output_type": "execute_result"
    }
   ],
   "source": [
    "# Use pandas to create an array of datetimes\n",
    "import pandas as pd\n",
    "times = pd.date_range('2018-01-01', periods=5)\n",
    "times"
   ]
  },
  {
   "cell_type": "code",
   "execution_count": 6,
   "metadata": {},
   "outputs": [],
   "source": [
    "# Sample lon/lats\n",
    "lons = np.linspace(-120, -60, 4)\n",
    "lats = np.linspace(25, 55, 3)"
   ]
  },
  {
   "cell_type": "markdown",
   "metadata": {},
   "source": [
    "When we create the `DataArray` instance, we pass in the arrays we just created:"
   ]
  },
  {
   "cell_type": "code",
   "execution_count": 7,
   "metadata": {},
   "outputs": [
    {
     "data": {
      "text/html": [
       "<pre>&lt;xarray.DataArray (time: 5, lat: 3, lon: 4)&gt;\n",
       "array([[[282.68817921, 282.24347653, 282.00433206, 283.39577491],\n",
       "        [282.65269635, 278.20777131, 284.57105394, 285.94543946],\n",
       "        [278.44482839, 278.77152984, 295.92289769, 276.28288639]],\n",
       "\n",
       "       [[280.03242977, 282.69090937, 281.46945786, 282.2721796 ],\n",
       "        [284.35431245, 284.16517857, 285.86574039, 288.78161215],\n",
       "        [288.49955699, 287.86675153, 278.6812936 , 284.25135671]],\n",
       "\n",
       "       [[278.93132196, 280.83648625, 277.45221925, 286.67408558],\n",
       "        [291.51784017, 282.07670345, 272.25074072, 286.24714989],\n",
       "        [271.72192378, 278.83843742, 288.14061453, 287.08091786]],\n",
       "\n",
       "       [[280.81255328, 274.05427135, 277.8218263 , 282.1994321 ],\n",
       "        [282.94749443, 280.09751444, 283.03742121, 277.77991956],\n",
       "        [282.74057656, 276.34475437, 283.15528428, 289.2015222 ]],\n",
       "\n",
       "       [[279.36607253, 291.64494336, 282.33708063, 281.43707927],\n",
       "        [285.90456045, 285.44785636, 284.99471823, 278.8268282 ],\n",
       "        [283.72835342, 287.08191486, 284.27432848, 282.90513263]]])\n",
       "Coordinates:\n",
       "  * time     (time) datetime64[ns] 2018-01-01 2018-01-02 ... 2018-01-05\n",
       "  * lat      (lat) float64 25.0 40.0 55.0\n",
       "  * lon      (lon) float64 -120.0 -100.0 -80.0 -60.0</pre>"
      ],
      "text/plain": [
       "<xarray.DataArray (time: 5, lat: 3, lon: 4)>\n",
       "array([[[282.68817921, 282.24347653, 282.00433206, 283.39577491],\n",
       "        [282.65269635, 278.20777131, 284.57105394, 285.94543946],\n",
       "        [278.44482839, 278.77152984, 295.92289769, 276.28288639]],\n",
       "\n",
       "       [[280.03242977, 282.69090937, 281.46945786, 282.2721796 ],\n",
       "        [284.35431245, 284.16517857, 285.86574039, 288.78161215],\n",
       "        [288.49955699, 287.86675153, 278.6812936 , 284.25135671]],\n",
       "\n",
       "       [[278.93132196, 280.83648625, 277.45221925, 286.67408558],\n",
       "        [291.51784017, 282.07670345, 272.25074072, 286.24714989],\n",
       "        [271.72192378, 278.83843742, 288.14061453, 287.08091786]],\n",
       "\n",
       "       [[280.81255328, 274.05427135, 277.8218263 , 282.1994321 ],\n",
       "        [282.94749443, 280.09751444, 283.03742121, 277.77991956],\n",
       "        [282.74057656, 276.34475437, 283.15528428, 289.2015222 ]],\n",
       "\n",
       "       [[279.36607253, 291.64494336, 282.33708063, 281.43707927],\n",
       "        [285.90456045, 285.44785636, 284.99471823, 278.8268282 ],\n",
       "        [283.72835342, 287.08191486, 284.27432848, 282.90513263]]])\n",
       "Coordinates:\n",
       "  * time     (time) datetime64[ns] 2018-01-01 2018-01-02 ... 2018-01-05\n",
       "  * lat      (lat) float64 25.0 40.0 55.0\n",
       "  * lon      (lon) float64 -120.0 -100.0 -80.0 -60.0"
      ]
     },
     "execution_count": 7,
     "metadata": {},
     "output_type": "execute_result"
    }
   ],
   "source": [
    "temp = xr.DataArray(data, coords=[times, lats, lons], dims=['time', 'lat', 'lon'])\n",
    "temp"
   ]
  },
  {
   "cell_type": "markdown",
   "metadata": {},
   "source": [
    "...and we can also set some attribute metadata:"
   ]
  },
  {
   "cell_type": "code",
   "execution_count": 8,
   "metadata": {},
   "outputs": [
    {
     "data": {
      "text/html": [
       "<pre>&lt;xarray.DataArray (time: 5, lat: 3, lon: 4)&gt;\n",
       "array([[[282.68817921, 282.24347653, 282.00433206, 283.39577491],\n",
       "        [282.65269635, 278.20777131, 284.57105394, 285.94543946],\n",
       "        [278.44482839, 278.77152984, 295.92289769, 276.28288639]],\n",
       "\n",
       "       [[280.03242977, 282.69090937, 281.46945786, 282.2721796 ],\n",
       "        [284.35431245, 284.16517857, 285.86574039, 288.78161215],\n",
       "        [288.49955699, 287.86675153, 278.6812936 , 284.25135671]],\n",
       "\n",
       "       [[278.93132196, 280.83648625, 277.45221925, 286.67408558],\n",
       "        [291.51784017, 282.07670345, 272.25074072, 286.24714989],\n",
       "        [271.72192378, 278.83843742, 288.14061453, 287.08091786]],\n",
       "\n",
       "       [[280.81255328, 274.05427135, 277.8218263 , 282.1994321 ],\n",
       "        [282.94749443, 280.09751444, 283.03742121, 277.77991956],\n",
       "        [282.74057656, 276.34475437, 283.15528428, 289.2015222 ]],\n",
       "\n",
       "       [[279.36607253, 291.64494336, 282.33708063, 281.43707927],\n",
       "        [285.90456045, 285.44785636, 284.99471823, 278.8268282 ],\n",
       "        [283.72835342, 287.08191486, 284.27432848, 282.90513263]]])\n",
       "Coordinates:\n",
       "  * time     (time) datetime64[ns] 2018-01-01 2018-01-02 ... 2018-01-05\n",
       "  * lat      (lat) float64 25.0 40.0 55.0\n",
       "  * lon      (lon) float64 -120.0 -100.0 -80.0 -60.0\n",
       "Attributes:\n",
       "    units:          kelvin\n",
       "    standard_name:  air_temperature</pre>"
      ],
      "text/plain": [
       "<xarray.DataArray (time: 5, lat: 3, lon: 4)>\n",
       "array([[[282.68817921, 282.24347653, 282.00433206, 283.39577491],\n",
       "        [282.65269635, 278.20777131, 284.57105394, 285.94543946],\n",
       "        [278.44482839, 278.77152984, 295.92289769, 276.28288639]],\n",
       "\n",
       "       [[280.03242977, 282.69090937, 281.46945786, 282.2721796 ],\n",
       "        [284.35431245, 284.16517857, 285.86574039, 288.78161215],\n",
       "        [288.49955699, 287.86675153, 278.6812936 , 284.25135671]],\n",
       "\n",
       "       [[278.93132196, 280.83648625, 277.45221925, 286.67408558],\n",
       "        [291.51784017, 282.07670345, 272.25074072, 286.24714989],\n",
       "        [271.72192378, 278.83843742, 288.14061453, 287.08091786]],\n",
       "\n",
       "       [[280.81255328, 274.05427135, 277.8218263 , 282.1994321 ],\n",
       "        [282.94749443, 280.09751444, 283.03742121, 277.77991956],\n",
       "        [282.74057656, 276.34475437, 283.15528428, 289.2015222 ]],\n",
       "\n",
       "       [[279.36607253, 291.64494336, 282.33708063, 281.43707927],\n",
       "        [285.90456045, 285.44785636, 284.99471823, 278.8268282 ],\n",
       "        [283.72835342, 287.08191486, 284.27432848, 282.90513263]]])\n",
       "Coordinates:\n",
       "  * time     (time) datetime64[ns] 2018-01-01 2018-01-02 ... 2018-01-05\n",
       "  * lat      (lat) float64 25.0 40.0 55.0\n",
       "  * lon      (lon) float64 -120.0 -100.0 -80.0 -60.0\n",
       "Attributes:\n",
       "    units:          kelvin\n",
       "    standard_name:  air_temperature"
      ]
     },
     "execution_count": 8,
     "metadata": {},
     "output_type": "execute_result"
    }
   ],
   "source": [
    "temp.attrs['units'] = 'kelvin'\n",
    "temp.attrs['standard_name'] = 'air_temperature'\n",
    "\n",
    "temp"
   ]
  },
  {
   "cell_type": "markdown",
   "metadata": {},
   "source": [
    "Notice what happens if we perform a mathematical operaton with the `DataArray`: the coordinate values persist, but the attributes are lost. This is done because it is very challenging to know if the attribute metadata is still correct or appropriate after arbitrary arithmetic operations."
   ]
  },
  {
   "cell_type": "code",
   "execution_count": 9,
   "metadata": {},
   "outputs": [
    {
     "data": {
      "text/html": [
       "<pre>&lt;xarray.DataArray (time: 5, lat: 3, lon: 4)&gt;\n",
       "array([[[ 9.53817921,  9.09347653,  8.85433206, 10.24577491],\n",
       "        [ 9.50269635,  5.05777131, 11.42105394, 12.79543946],\n",
       "        [ 5.29482839,  5.62152984, 22.77289769,  3.13288639]],\n",
       "\n",
       "       [[ 6.88242977,  9.54090937,  8.31945786,  9.1221796 ],\n",
       "        [11.20431245, 11.01517857, 12.71574039, 15.63161215],\n",
       "        [15.34955699, 14.71675153,  5.5312936 , 11.10135671]],\n",
       "\n",
       "       [[ 5.78132196,  7.68648625,  4.30221925, 13.52408558],\n",
       "        [18.36784017,  8.92670345, -0.89925928, 13.09714989],\n",
       "        [-1.42807622,  5.68843742, 14.99061453, 13.93091786]],\n",
       "\n",
       "       [[ 7.66255328,  0.90427135,  4.6718263 ,  9.0494321 ],\n",
       "        [ 9.79749443,  6.94751444,  9.88742121,  4.62991956],\n",
       "        [ 9.59057656,  3.19475437, 10.00528428, 16.0515222 ]],\n",
       "\n",
       "       [[ 6.21607253, 18.49494336,  9.18708063,  8.28707927],\n",
       "        [12.75456045, 12.29785636, 11.84471823,  5.6768282 ],\n",
       "        [10.57835342, 13.93191486, 11.12432848,  9.75513263]]])\n",
       "Coordinates:\n",
       "  * time     (time) datetime64[ns] 2018-01-01 2018-01-02 ... 2018-01-05\n",
       "  * lat      (lat) float64 25.0 40.0 55.0\n",
       "  * lon      (lon) float64 -120.0 -100.0 -80.0 -60.0</pre>"
      ],
      "text/plain": [
       "<xarray.DataArray (time: 5, lat: 3, lon: 4)>\n",
       "array([[[ 9.53817921,  9.09347653,  8.85433206, 10.24577491],\n",
       "        [ 9.50269635,  5.05777131, 11.42105394, 12.79543946],\n",
       "        [ 5.29482839,  5.62152984, 22.77289769,  3.13288639]],\n",
       "\n",
       "       [[ 6.88242977,  9.54090937,  8.31945786,  9.1221796 ],\n",
       "        [11.20431245, 11.01517857, 12.71574039, 15.63161215],\n",
       "        [15.34955699, 14.71675153,  5.5312936 , 11.10135671]],\n",
       "\n",
       "       [[ 5.78132196,  7.68648625,  4.30221925, 13.52408558],\n",
       "        [18.36784017,  8.92670345, -0.89925928, 13.09714989],\n",
       "        [-1.42807622,  5.68843742, 14.99061453, 13.93091786]],\n",
       "\n",
       "       [[ 7.66255328,  0.90427135,  4.6718263 ,  9.0494321 ],\n",
       "        [ 9.79749443,  6.94751444,  9.88742121,  4.62991956],\n",
       "        [ 9.59057656,  3.19475437, 10.00528428, 16.0515222 ]],\n",
       "\n",
       "       [[ 6.21607253, 18.49494336,  9.18708063,  8.28707927],\n",
       "        [12.75456045, 12.29785636, 11.84471823,  5.6768282 ],\n",
       "        [10.57835342, 13.93191486, 11.12432848,  9.75513263]]])\n",
       "Coordinates:\n",
       "  * time     (time) datetime64[ns] 2018-01-01 2018-01-02 ... 2018-01-05\n",
       "  * lat      (lat) float64 25.0 40.0 55.0\n",
       "  * lon      (lon) float64 -120.0 -100.0 -80.0 -60.0"
      ]
     },
     "execution_count": 9,
     "metadata": {},
     "output_type": "execute_result"
    }
   ],
   "source": [
    "# For example, convert Kelvin to Celsius\n",
    "temp - 273.15"
   ]
  },
  {
   "cell_type": "markdown",
   "metadata": {},
   "source": [
    "### Selection\n",
    "We can use the `.sel` method to select portions of our data based on these coordinate values, rather than using indices (this is similar to the CDM)."
   ]
  },
  {
   "cell_type": "code",
   "execution_count": 10,
   "metadata": {},
   "outputs": [
    {
     "data": {
      "text/html": [
       "<pre>&lt;xarray.DataArray (lat: 3, lon: 4)&gt;\n",
       "array([[280.03242977, 282.69090937, 281.46945786, 282.2721796 ],\n",
       "       [284.35431245, 284.16517857, 285.86574039, 288.78161215],\n",
       "       [288.49955699, 287.86675153, 278.6812936 , 284.25135671]])\n",
       "Coordinates:\n",
       "    time     datetime64[ns] 2018-01-02\n",
       "  * lat      (lat) float64 25.0 40.0 55.0\n",
       "  * lon      (lon) float64 -120.0 -100.0 -80.0 -60.0\n",
       "Attributes:\n",
       "    units:          kelvin\n",
       "    standard_name:  air_temperature</pre>"
      ],
      "text/plain": [
       "<xarray.DataArray (lat: 3, lon: 4)>\n",
       "array([[280.03242977, 282.69090937, 281.46945786, 282.2721796 ],\n",
       "       [284.35431245, 284.16517857, 285.86574039, 288.78161215],\n",
       "       [288.49955699, 287.86675153, 278.6812936 , 284.25135671]])\n",
       "Coordinates:\n",
       "    time     datetime64[ns] 2018-01-02\n",
       "  * lat      (lat) float64 25.0 40.0 55.0\n",
       "  * lon      (lon) float64 -120.0 -100.0 -80.0 -60.0\n",
       "Attributes:\n",
       "    units:          kelvin\n",
       "    standard_name:  air_temperature"
      ]
     },
     "execution_count": 10,
     "metadata": {},
     "output_type": "execute_result"
    }
   ],
   "source": [
    "temp.sel(time='2018-01-02')"
   ]
  },
  {
   "cell_type": "markdown",
   "metadata": {},
   "source": [
    "`.sel` has the flexibility to also perform nearest neighbor sampling, taking an optional tolerance:"
   ]
  },
  {
   "cell_type": "code",
   "execution_count": 11,
   "metadata": {},
   "outputs": [
    {
     "data": {
      "text/html": [
       "<pre>&lt;xarray.DataArray (lat: 3, lon: 4)&gt;\n",
       "array([[279.36607253, 291.64494336, 282.33708063, 281.43707927],\n",
       "       [285.90456045, 285.44785636, 284.99471823, 278.8268282 ],\n",
       "       [283.72835342, 287.08191486, 284.27432848, 282.90513263]])\n",
       "Coordinates:\n",
       "    time     datetime64[ns] 2018-01-05\n",
       "  * lat      (lat) float64 25.0 40.0 55.0\n",
       "  * lon      (lon) float64 -120.0 -100.0 -80.0 -60.0\n",
       "Attributes:\n",
       "    units:          kelvin\n",
       "    standard_name:  air_temperature</pre>"
      ],
      "text/plain": [
       "<xarray.DataArray (lat: 3, lon: 4)>\n",
       "array([[279.36607253, 291.64494336, 282.33708063, 281.43707927],\n",
       "       [285.90456045, 285.44785636, 284.99471823, 278.8268282 ],\n",
       "       [283.72835342, 287.08191486, 284.27432848, 282.90513263]])\n",
       "Coordinates:\n",
       "    time     datetime64[ns] 2018-01-05\n",
       "  * lat      (lat) float64 25.0 40.0 55.0\n",
       "  * lon      (lon) float64 -120.0 -100.0 -80.0 -60.0\n",
       "Attributes:\n",
       "    units:          kelvin\n",
       "    standard_name:  air_temperature"
      ]
     },
     "execution_count": 11,
     "metadata": {},
     "output_type": "execute_result"
    }
   ],
   "source": [
    "from datetime import timedelta\n",
    "temp.sel(time='2018-01-07', method='nearest', tolerance=timedelta(days=2))"
   ]
  },
  {
   "cell_type": "markdown",
   "metadata": {},
   "source": [
    "<div class=\"alert alert-success\">\n",
    "    <b>EXERCISE</b>:\n",
    "   \n",
    ".interp() works similarly to .sel(). Using .interp(), get an interpolated time series \"forecast\" for Boulder (40°N, 105°W) or your favorite latitude/longitude location. (Documentation for interp <a href=\"http://xarray.pydata.org/en/stable/interpolation.html\">here</a>).\n",
    "</div>\n"
   ]
  },
  {
   "cell_type": "code",
   "execution_count": 12,
   "metadata": {},
   "outputs": [],
   "source": [
    "# YOUR CODE GOES HERE"
   ]
  },
  {
   "cell_type": "markdown",
   "metadata": {},
   "source": [
    "<div class=\"alert alert-info\">\n",
    "    <b>SOLUTION</b>\n",
    "</div>"
   ]
  },
  {
   "cell_type": "code",
   "execution_count": 13,
   "metadata": {},
   "outputs": [
    {
     "data": {
      "text/html": [
       "<pre>&lt;xarray.DataArray (time: 5)&gt;\n",
       "array([279.31900257, 284.21246204, 284.43698763, 280.81000944,\n",
       "       285.56203238])\n",
       "Coordinates:\n",
       "  * time     (time) datetime64[ns] 2018-01-01 2018-01-02 ... 2018-01-05\n",
       "    lon      int64 -105\n",
       "    lat      int64 40\n",
       "Attributes:\n",
       "    units:          kelvin\n",
       "    standard_name:  air_temperature</pre>"
      ],
      "text/plain": [
       "<xarray.DataArray (time: 5)>\n",
       "array([279.31900257, 284.21246204, 284.43698763, 280.81000944,\n",
       "       285.56203238])\n",
       "Coordinates:\n",
       "  * time     (time) datetime64[ns] 2018-01-01 2018-01-02 ... 2018-01-05\n",
       "    lon      int64 -105\n",
       "    lat      int64 40\n",
       "Attributes:\n",
       "    units:          kelvin\n",
       "    standard_name:  air_temperature"
      ]
     },
     "execution_count": 13,
     "metadata": {},
     "output_type": "execute_result"
    }
   ],
   "source": [
    "# %load solutions/interp_solution.py\n",
    "\n",
    "# Cell content replaced by load magic replacement.\n",
    "temp.interp(lon=-105, lat=40)\n"
   ]
  },
  {
   "cell_type": "markdown",
   "metadata": {},
   "source": [
    "### Slicing with Selection"
   ]
  },
  {
   "cell_type": "code",
   "execution_count": 14,
   "metadata": {},
   "outputs": [
    {
     "data": {
      "text/html": [
       "<pre>&lt;xarray.DataArray (time: 3, lat: 2, lon: 2)&gt;\n",
       "array([[[282.24347653, 282.00433206],\n",
       "        [278.20777131, 284.57105394]],\n",
       "\n",
       "       [[282.69090937, 281.46945786],\n",
       "        [284.16517857, 285.86574039]],\n",
       "\n",
       "       [[280.83648625, 277.45221925],\n",
       "        [282.07670345, 272.25074072]]])\n",
       "Coordinates:\n",
       "  * time     (time) datetime64[ns] 2018-01-01 2018-01-02 2018-01-03\n",
       "  * lat      (lat) float64 25.0 40.0\n",
       "  * lon      (lon) float64 -100.0 -80.0\n",
       "Attributes:\n",
       "    units:          kelvin\n",
       "    standard_name:  air_temperature</pre>"
      ],
      "text/plain": [
       "<xarray.DataArray (time: 3, lat: 2, lon: 2)>\n",
       "array([[[282.24347653, 282.00433206],\n",
       "        [278.20777131, 284.57105394]],\n",
       "\n",
       "       [[282.69090937, 281.46945786],\n",
       "        [284.16517857, 285.86574039]],\n",
       "\n",
       "       [[280.83648625, 277.45221925],\n",
       "        [282.07670345, 272.25074072]]])\n",
       "Coordinates:\n",
       "  * time     (time) datetime64[ns] 2018-01-01 2018-01-02 2018-01-03\n",
       "  * lat      (lat) float64 25.0 40.0\n",
       "  * lon      (lon) float64 -100.0 -80.0\n",
       "Attributes:\n",
       "    units:          kelvin\n",
       "    standard_name:  air_temperature"
      ]
     },
     "execution_count": 14,
     "metadata": {},
     "output_type": "execute_result"
    }
   ],
   "source": [
    "temp.sel(time=slice('2018-01-01', '2018-01-03'), lon=slice(-110, -70), lat=slice(25, 45))"
   ]
  },
  {
   "cell_type": "markdown",
   "metadata": {},
   "source": [
    "### `.loc`\n",
    "\n",
    "All of these operations can also be done within square brackets on the `.loc` attribute of the `DataArray`. This permits a much more numpy-looking syntax, though you lose the ability to specify the names of the various dimensions. Instead, the slicing must be done in the correct order."
   ]
  },
  {
   "cell_type": "code",
   "execution_count": 15,
   "metadata": {},
   "outputs": [
    {
     "data": {
      "text/html": [
       "<pre>&lt;xarray.DataArray (lat: 3, lon: 4)&gt;\n",
       "array([[280.03242977, 282.69090937, 281.46945786, 282.2721796 ],\n",
       "       [284.35431245, 284.16517857, 285.86574039, 288.78161215],\n",
       "       [288.49955699, 287.86675153, 278.6812936 , 284.25135671]])\n",
       "Coordinates:\n",
       "    time     datetime64[ns] 2018-01-02\n",
       "  * lat      (lat) float64 25.0 40.0 55.0\n",
       "  * lon      (lon) float64 -120.0 -100.0 -80.0 -60.0\n",
       "Attributes:\n",
       "    units:          kelvin\n",
       "    standard_name:  air_temperature</pre>"
      ],
      "text/plain": [
       "<xarray.DataArray (lat: 3, lon: 4)>\n",
       "array([[280.03242977, 282.69090937, 281.46945786, 282.2721796 ],\n",
       "       [284.35431245, 284.16517857, 285.86574039, 288.78161215],\n",
       "       [288.49955699, 287.86675153, 278.6812936 , 284.25135671]])\n",
       "Coordinates:\n",
       "    time     datetime64[ns] 2018-01-02\n",
       "  * lat      (lat) float64 25.0 40.0 55.0\n",
       "  * lon      (lon) float64 -120.0 -100.0 -80.0 -60.0\n",
       "Attributes:\n",
       "    units:          kelvin\n",
       "    standard_name:  air_temperature"
      ]
     },
     "execution_count": 15,
     "metadata": {},
     "output_type": "execute_result"
    }
   ],
   "source": [
    "# As done above\n",
    "temp.loc['2018-01-02']"
   ]
  },
  {
   "cell_type": "code",
   "execution_count": 16,
   "metadata": {},
   "outputs": [
    {
     "data": {
      "text/html": [
       "<pre>&lt;xarray.DataArray (time: 3, lat: 2, lon: 2)&gt;\n",
       "array([[[282.24347653, 282.00433206],\n",
       "        [278.20777131, 284.57105394]],\n",
       "\n",
       "       [[282.69090937, 281.46945786],\n",
       "        [284.16517857, 285.86574039]],\n",
       "\n",
       "       [[280.83648625, 277.45221925],\n",
       "        [282.07670345, 272.25074072]]])\n",
       "Coordinates:\n",
       "  * time     (time) datetime64[ns] 2018-01-01 2018-01-02 2018-01-03\n",
       "  * lat      (lat) float64 25.0 40.0\n",
       "  * lon      (lon) float64 -100.0 -80.0\n",
       "Attributes:\n",
       "    units:          kelvin\n",
       "    standard_name:  air_temperature</pre>"
      ],
      "text/plain": [
       "<xarray.DataArray (time: 3, lat: 2, lon: 2)>\n",
       "array([[[282.24347653, 282.00433206],\n",
       "        [278.20777131, 284.57105394]],\n",
       "\n",
       "       [[282.69090937, 281.46945786],\n",
       "        [284.16517857, 285.86574039]],\n",
       "\n",
       "       [[280.83648625, 277.45221925],\n",
       "        [282.07670345, 272.25074072]]])\n",
       "Coordinates:\n",
       "  * time     (time) datetime64[ns] 2018-01-01 2018-01-02 2018-01-03\n",
       "  * lat      (lat) float64 25.0 40.0\n",
       "  * lon      (lon) float64 -100.0 -80.0\n",
       "Attributes:\n",
       "    units:          kelvin\n",
       "    standard_name:  air_temperature"
      ]
     },
     "execution_count": 16,
     "metadata": {},
     "output_type": "execute_result"
    }
   ],
   "source": [
    "temp.loc['2018-01-01':'2018-01-03', 25:45, -110:-70]"
   ]
  },
  {
   "cell_type": "markdown",
   "metadata": {},
   "source": [
    "This does not work however:\n",
    "```python\n",
    "temp.loc[-110:-70, 25:45,'2018-01-01':'2018-01-03']\n",
    "```"
   ]
  },
  {
   "cell_type": "markdown",
   "metadata": {
    "slideshow": {
     "slide_type": "subslide"
    }
   },
   "source": [
    "## Opening netCDF data\n",
    "With its close ties to the netCDF data model, XArray also supports netCDF as a first-class file format. This means it has easy support for opening netCDF datasets, so long as they conform to some of XArray's limitations (such as 1-dimensional coordinates)."
   ]
  },
  {
   "cell_type": "code",
   "execution_count": 17,
   "metadata": {},
   "outputs": [
    {
     "data": {
      "text/html": [
       "<pre>&lt;xarray.Dataset&gt;\n",
       "Dimensions:                       (isobaric1: 29, time1: 1, x: 268, y: 119)\n",
       "Coordinates:\n",
       "  * time1                         (time1) datetime64[ns] 1993-03-13\n",
       "  * isobaric1                     (isobaric1) float32 100.0 125.0 ... 1000.0\n",
       "  * y                             (y) float32 -3116.548 -3084.0852 ... 714.08594\n",
       "  * x                             (x) float32 -3324.4707 ... 5343.1504\n",
       "Data variables:\n",
       "    u-component_of_wind_isobaric  (time1, isobaric1, y, x) float32 ...\n",
       "    LambertConformal_Projection   int32 ...\n",
       "    lat                           (y, x) float64 ...\n",
       "    lon                           (y, x) float64 ...\n",
       "    Geopotential_height_isobaric  (time1, isobaric1, y, x) float32 ...\n",
       "    v-component_of_wind_isobaric  (time1, isobaric1, y, x) float32 ...\n",
       "    Temperature_isobaric          (time1, isobaric1, y, x) float32 ...\n",
       "Attributes:\n",
       "    Originating_or_generating_Center:     US National Weather Service, Nation...\n",
       "    Originating_or_generating_Subcenter:  North American Regional Reanalysis ...\n",
       "    GRIB_table_version:                   0,131\n",
       "    Generating_process_or_model:          North American Regional Reanalysis ...\n",
       "    Conventions:                          CF-1.6\n",
       "    history:                              Read using CDM IOSP GribCollection v3\n",
       "    featureType:                          GRID\n",
       "    History:                              Translated to CF-1.0 Conventions by...\n",
       "    geospatial_lat_min:                   10.753308882144761\n",
       "    geospatial_lat_max:                   46.8308828962289\n",
       "    geospatial_lon_min:                   -153.88242040519995\n",
       "    geospatial_lon_max:                   -42.666108129242815</pre>"
      ],
      "text/plain": [
       "<xarray.Dataset>\n",
       "Dimensions:                       (isobaric1: 29, time1: 1, x: 268, y: 119)\n",
       "Coordinates:\n",
       "  * time1                         (time1) datetime64[ns] 1993-03-13\n",
       "  * isobaric1                     (isobaric1) float32 100.0 125.0 ... 1000.0\n",
       "  * y                             (y) float32 -3116.548 -3084.0852 ... 714.08594\n",
       "  * x                             (x) float32 -3324.4707 ... 5343.1504\n",
       "Data variables:\n",
       "    u-component_of_wind_isobaric  (time1, isobaric1, y, x) float32 ...\n",
       "    LambertConformal_Projection   int32 ...\n",
       "    lat                           (y, x) float64 ...\n",
       "    lon                           (y, x) float64 ...\n",
       "    Geopotential_height_isobaric  (time1, isobaric1, y, x) float32 ...\n",
       "    v-component_of_wind_isobaric  (time1, isobaric1, y, x) float32 ...\n",
       "    Temperature_isobaric          (time1, isobaric1, y, x) float32 ...\n",
       "Attributes:\n",
       "    Originating_or_generating_Center:     US National Weather Service, Nation...\n",
       "    Originating_or_generating_Subcenter:  North American Regional Reanalysis ...\n",
       "    GRIB_table_version:                   0,131\n",
       "    Generating_process_or_model:          North American Regional Reanalysis ...\n",
       "    Conventions:                          CF-1.6\n",
       "    history:                              Read using CDM IOSP GribCollection v3\n",
       "    featureType:                          GRID\n",
       "    History:                              Translated to CF-1.0 Conventions by...\n",
       "    geospatial_lat_min:                   10.753308882144761\n",
       "    geospatial_lat_max:                   46.8308828962289\n",
       "    geospatial_lon_min:                   -153.88242040519995\n",
       "    geospatial_lon_max:                   -42.666108129242815"
      ]
     },
     "execution_count": 17,
     "metadata": {},
     "output_type": "execute_result"
    }
   ],
   "source": [
    "# Open sample North American Reanalysis data in netCDF format\n",
    "ds = xr.open_dataset('../../data/NARR_19930313_0000.nc')\n",
    "ds"
   ]
  },
  {
   "cell_type": "markdown",
   "metadata": {},
   "source": [
    "This returns a `Dataset` object, which is a container that contains one or more `DataArray`s, which can also optionally share coordinates. We can then pull out individual fields:"
   ]
  },
  {
   "cell_type": "code",
   "execution_count": 18,
   "metadata": {},
   "outputs": [
    {
     "data": {
      "text/html": [
       "<pre>&lt;xarray.DataArray &#x27;isobaric1&#x27; (isobaric1: 29)&gt;\n",
       "array([ 100.,  125.,  150.,  175.,  200.,  225.,  250.,  275.,  300.,  350.,\n",
       "        400.,  450.,  500.,  550.,  600.,  650.,  700.,  725.,  750.,  775.,\n",
       "        800.,  825.,  850.,  875.,  900.,  925.,  950.,  975., 1000.],\n",
       "      dtype=float32)\n",
       "Coordinates:\n",
       "  * isobaric1  (isobaric1) float32 100.0 125.0 150.0 ... 950.0 975.0 1000.0\n",
       "Attributes:\n",
       "    units:                   hPa\n",
       "    long_name:               Isobaric surface\n",
       "    positive:                down\n",
       "    Grib_level_type:         100\n",
       "    _CoordinateAxisType:     Pressure\n",
       "    _CoordinateZisPositive:  down</pre>"
      ],
      "text/plain": [
       "<xarray.DataArray 'isobaric1' (isobaric1: 29)>\n",
       "array([ 100.,  125.,  150.,  175.,  200.,  225.,  250.,  275.,  300.,  350.,\n",
       "        400.,  450.,  500.,  550.,  600.,  650.,  700.,  725.,  750.,  775.,\n",
       "        800.,  825.,  850.,  875.,  900.,  925.,  950.,  975., 1000.],\n",
       "      dtype=float32)\n",
       "Coordinates:\n",
       "  * isobaric1  (isobaric1) float32 100.0 125.0 150.0 ... 950.0 975.0 1000.0\n",
       "Attributes:\n",
       "    units:                   hPa\n",
       "    long_name:               Isobaric surface\n",
       "    positive:                down\n",
       "    Grib_level_type:         100\n",
       "    _CoordinateAxisType:     Pressure\n",
       "    _CoordinateZisPositive:  down"
      ]
     },
     "execution_count": 18,
     "metadata": {},
     "output_type": "execute_result"
    }
   ],
   "source": [
    "ds.isobaric1"
   ]
  },
  {
   "cell_type": "markdown",
   "metadata": {},
   "source": [
    "or"
   ]
  },
  {
   "cell_type": "code",
   "execution_count": 19,
   "metadata": {},
   "outputs": [
    {
     "data": {
      "text/html": [
       "<pre>&lt;xarray.DataArray &#x27;isobaric1&#x27; (isobaric1: 29)&gt;\n",
       "array([ 100.,  125.,  150.,  175.,  200.,  225.,  250.,  275.,  300.,  350.,\n",
       "        400.,  450.,  500.,  550.,  600.,  650.,  700.,  725.,  750.,  775.,\n",
       "        800.,  825.,  850.,  875.,  900.,  925.,  950.,  975., 1000.],\n",
       "      dtype=float32)\n",
       "Coordinates:\n",
       "  * isobaric1  (isobaric1) float32 100.0 125.0 150.0 ... 950.0 975.0 1000.0\n",
       "Attributes:\n",
       "    units:                   hPa\n",
       "    long_name:               Isobaric surface\n",
       "    positive:                down\n",
       "    Grib_level_type:         100\n",
       "    _CoordinateAxisType:     Pressure\n",
       "    _CoordinateZisPositive:  down</pre>"
      ],
      "text/plain": [
       "<xarray.DataArray 'isobaric1' (isobaric1: 29)>\n",
       "array([ 100.,  125.,  150.,  175.,  200.,  225.,  250.,  275.,  300.,  350.,\n",
       "        400.,  450.,  500.,  550.,  600.,  650.,  700.,  725.,  750.,  775.,\n",
       "        800.,  825.,  850.,  875.,  900.,  925.,  950.,  975., 1000.],\n",
       "      dtype=float32)\n",
       "Coordinates:\n",
       "  * isobaric1  (isobaric1) float32 100.0 125.0 150.0 ... 950.0 975.0 1000.0\n",
       "Attributes:\n",
       "    units:                   hPa\n",
       "    long_name:               Isobaric surface\n",
       "    positive:                down\n",
       "    Grib_level_type:         100\n",
       "    _CoordinateAxisType:     Pressure\n",
       "    _CoordinateZisPositive:  down"
      ]
     },
     "execution_count": 19,
     "metadata": {},
     "output_type": "execute_result"
    }
   ],
   "source": [
    "ds['isobaric1']"
   ]
  },
  {
   "cell_type": "markdown",
   "metadata": {},
   "source": [
    "`Dataset`s also support much of the same subsetting operations as `DataArray`, but will perform the operation on all data:"
   ]
  },
  {
   "cell_type": "code",
   "execution_count": 20,
   "metadata": {},
   "outputs": [
    {
     "data": {
      "text/html": [
       "<pre>&lt;xarray.Dataset&gt;\n",
       "Dimensions:                       (time1: 1, x: 268, y: 119)\n",
       "Coordinates:\n",
       "  * time1                         (time1) datetime64[ns] 1993-03-13\n",
       "    isobaric1                     float32 1000.0\n",
       "  * y                             (y) float32 -3116.548 -3084.0852 ... 714.08594\n",
       "  * x                             (x) float32 -3324.4707 ... 5343.1504\n",
       "Data variables:\n",
       "    u-component_of_wind_isobaric  (time1, y, x) float32 ...\n",
       "    LambertConformal_Projection   int32 ...\n",
       "    lat                           (y, x) float64 ...\n",
       "    lon                           (y, x) float64 ...\n",
       "    Geopotential_height_isobaric  (time1, y, x) float32 ...\n",
       "    v-component_of_wind_isobaric  (time1, y, x) float32 ...\n",
       "    Temperature_isobaric          (time1, y, x) float32 ...\n",
       "Attributes:\n",
       "    Originating_or_generating_Center:     US National Weather Service, Nation...\n",
       "    Originating_or_generating_Subcenter:  North American Regional Reanalysis ...\n",
       "    GRIB_table_version:                   0,131\n",
       "    Generating_process_or_model:          North American Regional Reanalysis ...\n",
       "    Conventions:                          CF-1.6\n",
       "    history:                              Read using CDM IOSP GribCollection v3\n",
       "    featureType:                          GRID\n",
       "    History:                              Translated to CF-1.0 Conventions by...\n",
       "    geospatial_lat_min:                   10.753308882144761\n",
       "    geospatial_lat_max:                   46.8308828962289\n",
       "    geospatial_lon_min:                   -153.88242040519995\n",
       "    geospatial_lon_max:                   -42.666108129242815</pre>"
      ],
      "text/plain": [
       "<xarray.Dataset>\n",
       "Dimensions:                       (time1: 1, x: 268, y: 119)\n",
       "Coordinates:\n",
       "  * time1                         (time1) datetime64[ns] 1993-03-13\n",
       "    isobaric1                     float32 1000.0\n",
       "  * y                             (y) float32 -3116.548 -3084.0852 ... 714.08594\n",
       "  * x                             (x) float32 -3324.4707 ... 5343.1504\n",
       "Data variables:\n",
       "    u-component_of_wind_isobaric  (time1, y, x) float32 ...\n",
       "    LambertConformal_Projection   int32 ...\n",
       "    lat                           (y, x) float64 ...\n",
       "    lon                           (y, x) float64 ...\n",
       "    Geopotential_height_isobaric  (time1, y, x) float32 ...\n",
       "    v-component_of_wind_isobaric  (time1, y, x) float32 ...\n",
       "    Temperature_isobaric          (time1, y, x) float32 ...\n",
       "Attributes:\n",
       "    Originating_or_generating_Center:     US National Weather Service, Nation...\n",
       "    Originating_or_generating_Subcenter:  North American Regional Reanalysis ...\n",
       "    GRIB_table_version:                   0,131\n",
       "    Generating_process_or_model:          North American Regional Reanalysis ...\n",
       "    Conventions:                          CF-1.6\n",
       "    history:                              Read using CDM IOSP GribCollection v3\n",
       "    featureType:                          GRID\n",
       "    History:                              Translated to CF-1.0 Conventions by...\n",
       "    geospatial_lat_min:                   10.753308882144761\n",
       "    geospatial_lat_max:                   46.8308828962289\n",
       "    geospatial_lon_min:                   -153.88242040519995\n",
       "    geospatial_lon_max:                   -42.666108129242815"
      ]
     },
     "execution_count": 20,
     "metadata": {},
     "output_type": "execute_result"
    }
   ],
   "source": [
    "ds_1000 = ds.sel(isobaric1=1000.0)\n",
    "ds_1000"
   ]
  },
  {
   "cell_type": "code",
   "execution_count": 21,
   "metadata": {},
   "outputs": [
    {
     "data": {
      "text/html": [
       "<pre>&lt;xarray.DataArray &#x27;Temperature_isobaric&#x27; (time1: 1, y: 119, x: 268)&gt;\n",
       "array([[[294.09436, 294.1256 , ..., 298.6725 , 298.71936],\n",
       "        [294.07874, 294.14124, ..., 298.6256 , 298.5475 ],\n",
       "        ...,\n",
       "        [276.86   , 276.84436, ..., 289.11   , 289.01624],\n",
       "        [277.01624, 276.82874, ..., 289.0475 , 288.96936]]], dtype=float32)\n",
       "Coordinates:\n",
       "  * time1      (time1) datetime64[ns] 1993-03-13\n",
       "    isobaric1  float32 1000.0\n",
       "  * y          (y) float32 -3116.548 -3084.0852 -3051.622 ... 681.6229 714.08594\n",
       "  * x          (x) float32 -3324.4707 -3292.0078 ... 5310.6875 5343.1504\n",
       "Attributes:\n",
       "    long_name:           Temperature @ Isobaric surface\n",
       "    units:               K\n",
       "    description:         Temperature\n",
       "    grid_mapping:        LambertConformal_Projection\n",
       "    Grib_Variable_Id:    VAR_7-15-131-11_L100\n",
       "    Grib1_Center:        7\n",
       "    Grib1_Subcenter:     15\n",
       "    Grib1_TableVersion:  131\n",
       "    Grib1_Parameter:     11\n",
       "    Grib1_Level_Type:    100\n",
       "    Grib1_Level_Desc:    Isobaric surface</pre>"
      ],
      "text/plain": [
       "<xarray.DataArray 'Temperature_isobaric' (time1: 1, y: 119, x: 268)>\n",
       "array([[[294.09436, 294.1256 , ..., 298.6725 , 298.71936],\n",
       "        [294.07874, 294.14124, ..., 298.6256 , 298.5475 ],\n",
       "        ...,\n",
       "        [276.86   , 276.84436, ..., 289.11   , 289.01624],\n",
       "        [277.01624, 276.82874, ..., 289.0475 , 288.96936]]], dtype=float32)\n",
       "Coordinates:\n",
       "  * time1      (time1) datetime64[ns] 1993-03-13\n",
       "    isobaric1  float32 1000.0\n",
       "  * y          (y) float32 -3116.548 -3084.0852 -3051.622 ... 681.6229 714.08594\n",
       "  * x          (x) float32 -3324.4707 -3292.0078 ... 5310.6875 5343.1504\n",
       "Attributes:\n",
       "    long_name:           Temperature @ Isobaric surface\n",
       "    units:               K\n",
       "    description:         Temperature\n",
       "    grid_mapping:        LambertConformal_Projection\n",
       "    Grib_Variable_Id:    VAR_7-15-131-11_L100\n",
       "    Grib1_Center:        7\n",
       "    Grib1_Subcenter:     15\n",
       "    Grib1_TableVersion:  131\n",
       "    Grib1_Parameter:     11\n",
       "    Grib1_Level_Type:    100\n",
       "    Grib1_Level_Desc:    Isobaric surface"
      ]
     },
     "execution_count": 21,
     "metadata": {},
     "output_type": "execute_result"
    }
   ],
   "source": [
    "ds_1000.Temperature_isobaric"
   ]
  },
  {
   "cell_type": "markdown",
   "metadata": {},
   "source": [
    "### Aggregation operations\n",
    "\n",
    "Not only can you use the named dimensions for manual slicing and indexing of data, but you can also use it to control aggregation operations, like `sum`:"
   ]
  },
  {
   "cell_type": "code",
   "execution_count": 22,
   "metadata": {},
   "outputs": [
    {
     "data": {
      "text/html": [
       "<pre>&lt;xarray.DataArray &#x27;u-component_of_wind_isobaric&#x27; (time1: 1, isobaric1: 29)&gt;\n",
       "array([[ 8.673963 , 10.212325 , 11.556413 , 12.254429 , 13.372146 ,\n",
       "        15.472462 , 16.091969 , 15.846294 , 15.195834 , 13.936979 ,\n",
       "        12.93888  , 12.060708 , 10.972139 ,  9.722328 ,  8.853286 ,\n",
       "         8.257241 ,  7.679721 ,  7.4516497,  7.2352104,  7.039894 ,\n",
       "         6.883371 ,  6.7821493,  6.7088237,  6.6865997,  6.7247376,\n",
       "         6.745023 ,  6.6859775,  6.5107226,  5.972262 ]], dtype=float32)\n",
       "Coordinates:\n",
       "  * time1      (time1) datetime64[ns] 1993-03-13\n",
       "  * isobaric1  (isobaric1) float32 100.0 125.0 150.0 ... 950.0 975.0 1000.0</pre>"
      ],
      "text/plain": [
       "<xarray.DataArray 'u-component_of_wind_isobaric' (time1: 1, isobaric1: 29)>\n",
       "array([[ 8.673963 , 10.212325 , 11.556413 , 12.254429 , 13.372146 ,\n",
       "        15.472462 , 16.091969 , 15.846294 , 15.195834 , 13.936979 ,\n",
       "        12.93888  , 12.060708 , 10.972139 ,  9.722328 ,  8.853286 ,\n",
       "         8.257241 ,  7.679721 ,  7.4516497,  7.2352104,  7.039894 ,\n",
       "         6.883371 ,  6.7821493,  6.7088237,  6.6865997,  6.7247376,\n",
       "         6.745023 ,  6.6859775,  6.5107226,  5.972262 ]], dtype=float32)\n",
       "Coordinates:\n",
       "  * time1      (time1) datetime64[ns] 1993-03-13\n",
       "  * isobaric1  (isobaric1) float32 100.0 125.0 150.0 ... 950.0 975.0 1000.0"
      ]
     },
     "execution_count": 22,
     "metadata": {},
     "output_type": "execute_result"
    }
   ],
   "source": [
    "u_winds = ds['u-component_of_wind_isobaric']\n",
    "u_winds.std(dim=['x', 'y'])"
   ]
  },
  {
   "cell_type": "markdown",
   "metadata": {},
   "source": [
    "<div class=\"alert alert-success\">\n",
    "    <b>EXERCISE</b>:\n",
    "\n",
    "Using the sample dataset, calculate the mean temperature profile (temperature as a function of pressure) over Colorado within this dataset. For this exercise, consider the bounds of Colorado to be:\n",
    "     <ul>\n",
    "         <li>x: -182km to 424km</li>\n",
    "         <li>y: -1450km to -990km</li>\n",
    "    </ul>\n",
    "    \n",
    "(37°N to 41°N and 102°W to 109°W projected to Lambert Conformal projection coordinates)\n",
    "</div>"
   ]
  },
  {
   "cell_type": "code",
   "execution_count": 23,
   "metadata": {},
   "outputs": [],
   "source": [
    "# YOUR CODE GOES HERE"
   ]
  },
  {
   "cell_type": "markdown",
   "metadata": {},
   "source": [
    "<div class=\"alert alert-info\">\n",
    "    <b>SOLUTION</b>\n",
    "</div>"
   ]
  },
  {
   "cell_type": "code",
   "execution_count": 24,
   "metadata": {},
   "outputs": [
    {
     "data": {
      "text/html": [
       "<pre>&lt;xarray.DataArray &#x27;Temperature_isobaric&#x27; (time1: 1, isobaric1: 29)&gt;\n",
       "array([[215.078  , 215.76935, 217.243  , 217.82663, 215.83487, 216.10933,\n",
       "        219.99902, 224.66118, 228.80576, 234.88701, 238.78503, 242.66309,\n",
       "        246.44807, 249.26636, 250.84995, 253.37354, 257.0429 , 259.08398,\n",
       "        260.97955, 262.98364, 264.82138, 266.5198 , 268.22467, 269.7471 ,\n",
       "        271.18216, 272.66815, 274.13037, 275.54718, 276.97675]],\n",
       "      dtype=float32)\n",
       "Coordinates:\n",
       "  * time1      (time1) datetime64[ns] 1993-03-13\n",
       "  * isobaric1  (isobaric1) float32 100.0 125.0 150.0 ... 950.0 975.0 1000.0</pre>"
      ],
      "text/plain": [
       "<xarray.DataArray 'Temperature_isobaric' (time1: 1, isobaric1: 29)>\n",
       "array([[215.078  , 215.76935, 217.243  , 217.82663, 215.83487, 216.10933,\n",
       "        219.99902, 224.66118, 228.80576, 234.88701, 238.78503, 242.66309,\n",
       "        246.44807, 249.26636, 250.84995, 253.37354, 257.0429 , 259.08398,\n",
       "        260.97955, 262.98364, 264.82138, 266.5198 , 268.22467, 269.7471 ,\n",
       "        271.18216, 272.66815, 274.13037, 275.54718, 276.97675]],\n",
       "      dtype=float32)\n",
       "Coordinates:\n",
       "  * time1      (time1) datetime64[ns] 1993-03-13\n",
       "  * isobaric1  (isobaric1) float32 100.0 125.0 150.0 ... 950.0 975.0 1000.0"
      ]
     },
     "execution_count": 24,
     "metadata": {},
     "output_type": "execute_result"
    }
   ],
   "source": [
    "# %load solutions/mean_profile.py\n",
    "\n",
    "# Cell content replaced by load magic replacement.\n",
    "temps = ds.Temperature_isobaric\n",
    "co_temps = temps.sel(x=slice(-182, 424), y=slice(-1450, -990))\n",
    "prof = co_temps.mean(dim=['x', 'y'])\n",
    "prof\n"
   ]
  },
  {
   "cell_type": "markdown",
   "metadata": {},
   "source": [
    "## Resources\n",
    "\n",
    "There is much more in the XArray library. To learn more, visit the [XArray Documentation](http://xarray.pydata.org/en/stable/index.html)"
   ]
  }
 ],
 "metadata": {
  "kernelspec": {
   "display_name": "Python 3",
   "language": "python",
   "name": "python3"
  },
  "language_info": {
   "codemirror_mode": {
    "name": "ipython",
    "version": 3
   },
   "file_extension": ".py",
   "mimetype": "text/x-python",
   "name": "python",
   "nbconvert_exporter": "python",
   "pygments_lexer": "ipython3",
   "version": "3.7.6"
  }
 },
 "nbformat": 4,
 "nbformat_minor": 4
}
