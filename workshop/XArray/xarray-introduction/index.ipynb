{
 "cells": [
  {
   "cell_type": "markdown",
   "metadata": {},
   "source": [
    "<div style=\"width:1000 px\">\n",
    "\n",
    "<div style=\"float:right; width:98 px; height:98px;\">\n",
    "<img src=\"https://raw.githubusercontent.com/Unidata/MetPy/master/src/metpy/plots/_static/unidata_150x150.png\" alt=\"Unidata Logo\" style=\"height: 98px;\">\n",
    "</div>\n",
    "\n",
    "<h1>XArray Introduction</h1>\n",
    "<h3>Unidata Python Workshop</h3>\n",
    "\n",
    "<div style=\"clear:both\"></div>\n",
    "</div>\n",
    "\n",
    "<hr style=\"height:2px;\">\n",
    "\n",
    "<div style=\"float:right; width:250 px\"><img src=\"http://xarray.pydata.org/en/stable/_static/dataset-diagram-logo.png\" alt=\"NumPy Logo\" style=\"height: 250px;\"></div>\n",
    "\n",
    "\n",
    "## Overview:\n",
    "\n",
    "* **Teaching:** 25 minutes\n",
    "* **Exercises:** 20 minutes\n",
    "\n",
    "### Questions\n",
    "1. What is XArray?\n",
    "2. How does XArray fit in with Numpy and Pandas?\n",
    "\n",
    "### Objectives\n",
    "1. Create a `DataArray`.\n",
    "2. Open netCDF data using XArray\n",
    "3. Subset the data."
   ]
  },
  {
   "cell_type": "markdown",
   "metadata": {},
   "source": [
    "## XArray\n",
    "\n",
    "XArray expands on the capabilities on NumPy arrays, providing a lot of streamlined data manipulation. It is similar in that respect to Pandas, but whereas Pandas excels at working with tabular data, XArray is focused on N-dimensional arrays of data (i.e. grids). Its interface is based largely on the netCDF data model (variables, attributes, and dimensions), but it goes beyond the traditional netCDF interfaces to provide functionality similar to netCDF-java's Common Data Model (CDM). "
   ]
  },
  {
   "cell_type": "markdown",
   "metadata": {},
   "source": [
    "### `DataArray`\n",
    "\n",
    "The `DataArray` is one of the basic building blocks of XArray. It provides a NumPy ndarray-like object that expands to provide two critical pieces of functionality:\n",
    "\n",
    "1. Coordinate names and values are stored with the data, making slicing and indexing much more powerful\n",
    "2. It has a built-in container for attributes"
   ]
  },
  {
   "cell_type": "code",
   "execution_count": 1,
   "metadata": {
    "slideshow": {
     "slide_type": "subslide"
    }
   },
   "outputs": [],
   "source": [
    "# Convention for import to get shortened namespace\n",
    "import numpy as np\n",
    "import xarray as xr"
   ]
  },
  {
   "cell_type": "code",
   "execution_count": 2,
   "metadata": {
    "slideshow": {
     "slide_type": "fragment"
    }
   },
   "outputs": [
    {
     "data": {
      "text/plain": [
       "array([[[286.9100422 , 281.83569989, 288.89917227, 280.15355858],\n",
       "        [283.27036547, 290.49264675, 284.81486207, 277.6929079 ],\n",
       "        [280.01429776, 281.12456178, 285.25094295, 283.70574945]],\n",
       "\n",
       "       [[276.96142245, 278.91070382, 285.85242033, 285.60793756],\n",
       "        [280.41447776, 283.04016881, 275.37612746, 278.06018679],\n",
       "        [276.59066251, 281.62962056, 281.90413197, 273.49135933]],\n",
       "\n",
       "       [[285.78019911, 278.98378302, 282.22578485, 278.79011629],\n",
       "        [277.79019713, 282.47436956, 289.29524457, 287.72756779],\n",
       "        [284.00133677, 281.92310278, 289.566802  , 279.39431415]],\n",
       "\n",
       "       [[290.46377388, 288.90288835, 281.79887015, 279.75545871],\n",
       "        [286.54449099, 283.53475937, 279.20122113, 280.5227505 ],\n",
       "        [289.53647842, 284.73948562, 278.45027775, 277.82324715]],\n",
       "\n",
       "       [[283.65144617, 287.9525305 , 285.31704011, 284.42015021],\n",
       "        [281.76256663, 287.04701713, 290.48615949, 292.24640637],\n",
       "        [279.14944817, 292.78853944, 283.62247647, 284.67503993]]])"
      ]
     },
     "execution_count": 2,
     "metadata": {},
     "output_type": "execute_result"
    }
   ],
   "source": [
    "# Create some sample \"temperature\" data\n",
    "data = 283 + 5 * np.random.randn(5, 3, 4)\n",
    "data"
   ]
  },
  {
   "cell_type": "markdown",
   "metadata": {},
   "source": [
    "Here we create a basic `DataArray` by passing it just a numpy array of random data. Note that XArray generates some basic dimension names for us."
   ]
  },
  {
   "cell_type": "code",
   "execution_count": 3,
   "metadata": {},
   "outputs": [
    {
     "data": {
      "text/html": [
       "<pre>&lt;xarray.DataArray (dim_0: 5, dim_1: 3, dim_2: 4)&gt;\n",
       "array([[[286.9100422 , 281.83569989, 288.89917227, 280.15355858],\n",
       "        [283.27036547, 290.49264675, 284.81486207, 277.6929079 ],\n",
       "        [280.01429776, 281.12456178, 285.25094295, 283.70574945]],\n",
       "\n",
       "       [[276.96142245, 278.91070382, 285.85242033, 285.60793756],\n",
       "        [280.41447776, 283.04016881, 275.37612746, 278.06018679],\n",
       "        [276.59066251, 281.62962056, 281.90413197, 273.49135933]],\n",
       "\n",
       "       [[285.78019911, 278.98378302, 282.22578485, 278.79011629],\n",
       "        [277.79019713, 282.47436956, 289.29524457, 287.72756779],\n",
       "        [284.00133677, 281.92310278, 289.566802  , 279.39431415]],\n",
       "\n",
       "       [[290.46377388, 288.90288835, 281.79887015, 279.75545871],\n",
       "        [286.54449099, 283.53475937, 279.20122113, 280.5227505 ],\n",
       "        [289.53647842, 284.73948562, 278.45027775, 277.82324715]],\n",
       "\n",
       "       [[283.65144617, 287.9525305 , 285.31704011, 284.42015021],\n",
       "        [281.76256663, 287.04701713, 290.48615949, 292.24640637],\n",
       "        [279.14944817, 292.78853944, 283.62247647, 284.67503993]]])\n",
       "Dimensions without coordinates: dim_0, dim_1, dim_2</pre>"
      ],
      "text/plain": [
       "<xarray.DataArray (dim_0: 5, dim_1: 3, dim_2: 4)>\n",
       "array([[[286.9100422 , 281.83569989, 288.89917227, 280.15355858],\n",
       "        [283.27036547, 290.49264675, 284.81486207, 277.6929079 ],\n",
       "        [280.01429776, 281.12456178, 285.25094295, 283.70574945]],\n",
       "\n",
       "       [[276.96142245, 278.91070382, 285.85242033, 285.60793756],\n",
       "        [280.41447776, 283.04016881, 275.37612746, 278.06018679],\n",
       "        [276.59066251, 281.62962056, 281.90413197, 273.49135933]],\n",
       "\n",
       "       [[285.78019911, 278.98378302, 282.22578485, 278.79011629],\n",
       "        [277.79019713, 282.47436956, 289.29524457, 287.72756779],\n",
       "        [284.00133677, 281.92310278, 289.566802  , 279.39431415]],\n",
       "\n",
       "       [[290.46377388, 288.90288835, 281.79887015, 279.75545871],\n",
       "        [286.54449099, 283.53475937, 279.20122113, 280.5227505 ],\n",
       "        [289.53647842, 284.73948562, 278.45027775, 277.82324715]],\n",
       "\n",
       "       [[283.65144617, 287.9525305 , 285.31704011, 284.42015021],\n",
       "        [281.76256663, 287.04701713, 290.48615949, 292.24640637],\n",
       "        [279.14944817, 292.78853944, 283.62247647, 284.67503993]]])\n",
       "Dimensions without coordinates: dim_0, dim_1, dim_2"
      ]
     },
     "execution_count": 3,
     "metadata": {},
     "output_type": "execute_result"
    }
   ],
   "source": [
    "temp = xr.DataArray(data)\n",
    "temp"
   ]
  },
  {
   "cell_type": "markdown",
   "metadata": {},
   "source": [
    "We can also pass in our own dimension names:"
   ]
  },
  {
   "cell_type": "code",
   "execution_count": 4,
   "metadata": {},
   "outputs": [
    {
     "data": {
      "text/html": [
       "<pre>&lt;xarray.DataArray (time: 5, lat: 3, lon: 4)&gt;\n",
       "array([[[286.9100422 , 281.83569989, 288.89917227, 280.15355858],\n",
       "        [283.27036547, 290.49264675, 284.81486207, 277.6929079 ],\n",
       "        [280.01429776, 281.12456178, 285.25094295, 283.70574945]],\n",
       "\n",
       "       [[276.96142245, 278.91070382, 285.85242033, 285.60793756],\n",
       "        [280.41447776, 283.04016881, 275.37612746, 278.06018679],\n",
       "        [276.59066251, 281.62962056, 281.90413197, 273.49135933]],\n",
       "\n",
       "       [[285.78019911, 278.98378302, 282.22578485, 278.79011629],\n",
       "        [277.79019713, 282.47436956, 289.29524457, 287.72756779],\n",
       "        [284.00133677, 281.92310278, 289.566802  , 279.39431415]],\n",
       "\n",
       "       [[290.46377388, 288.90288835, 281.79887015, 279.75545871],\n",
       "        [286.54449099, 283.53475937, 279.20122113, 280.5227505 ],\n",
       "        [289.53647842, 284.73948562, 278.45027775, 277.82324715]],\n",
       "\n",
       "       [[283.65144617, 287.9525305 , 285.31704011, 284.42015021],\n",
       "        [281.76256663, 287.04701713, 290.48615949, 292.24640637],\n",
       "        [279.14944817, 292.78853944, 283.62247647, 284.67503993]]])\n",
       "Dimensions without coordinates: time, lat, lon</pre>"
      ],
      "text/plain": [
       "<xarray.DataArray (time: 5, lat: 3, lon: 4)>\n",
       "array([[[286.9100422 , 281.83569989, 288.89917227, 280.15355858],\n",
       "        [283.27036547, 290.49264675, 284.81486207, 277.6929079 ],\n",
       "        [280.01429776, 281.12456178, 285.25094295, 283.70574945]],\n",
       "\n",
       "       [[276.96142245, 278.91070382, 285.85242033, 285.60793756],\n",
       "        [280.41447776, 283.04016881, 275.37612746, 278.06018679],\n",
       "        [276.59066251, 281.62962056, 281.90413197, 273.49135933]],\n",
       "\n",
       "       [[285.78019911, 278.98378302, 282.22578485, 278.79011629],\n",
       "        [277.79019713, 282.47436956, 289.29524457, 287.72756779],\n",
       "        [284.00133677, 281.92310278, 289.566802  , 279.39431415]],\n",
       "\n",
       "       [[290.46377388, 288.90288835, 281.79887015, 279.75545871],\n",
       "        [286.54449099, 283.53475937, 279.20122113, 280.5227505 ],\n",
       "        [289.53647842, 284.73948562, 278.45027775, 277.82324715]],\n",
       "\n",
       "       [[283.65144617, 287.9525305 , 285.31704011, 284.42015021],\n",
       "        [281.76256663, 287.04701713, 290.48615949, 292.24640637],\n",
       "        [279.14944817, 292.78853944, 283.62247647, 284.67503993]]])\n",
       "Dimensions without coordinates: time, lat, lon"
      ]
     },
     "execution_count": 4,
     "metadata": {},
     "output_type": "execute_result"
    }
   ],
   "source": [
    "temp = xr.DataArray(data, dims=['time', 'lat', 'lon'])\n",
    "temp"
   ]
  },
  {
   "cell_type": "markdown",
   "metadata": {},
   "source": [
    "This is already improved upon from a numpy array, because we have names for each of the dimensions (or axes in NumPy parlance). Even better, we can take arrays representing the values for the coordinates for each of these dimensions and associate them with the data when we create the `DataArray`."
   ]
  },
  {
   "cell_type": "code",
   "execution_count": 5,
   "metadata": {},
   "outputs": [
    {
     "data": {
      "text/plain": [
       "DatetimeIndex(['2018-01-01', '2018-01-02', '2018-01-03', '2018-01-04',\n",
       "               '2018-01-05'],\n",
       "              dtype='datetime64[ns]', freq='D')"
      ]
     },
     "execution_count": 5,
     "metadata": {},
     "output_type": "execute_result"
    }
   ],
   "source": [
    "# Use pandas to create an array of datetimes\n",
    "import pandas as pd\n",
    "times = pd.date_range('2018-01-01', periods=5)\n",
    "times"
   ]
  },
  {
   "cell_type": "code",
   "execution_count": 6,
   "metadata": {},
   "outputs": [],
   "source": [
    "# Sample lon/lats\n",
    "lons = np.linspace(-120, -60, 4)\n",
    "lats = np.linspace(25, 55, 3)"
   ]
  },
  {
   "cell_type": "markdown",
   "metadata": {},
   "source": [
    "When we create the `DataArray` instance, we pass in the arrays we just created:"
   ]
  },
  {
   "cell_type": "code",
   "execution_count": 7,
   "metadata": {},
   "outputs": [
    {
     "data": {
      "text/html": [
       "<pre>&lt;xarray.DataArray (time: 5, lat: 3, lon: 4)&gt;\n",
       "array([[[286.9100422 , 281.83569989, 288.89917227, 280.15355858],\n",
       "        [283.27036547, 290.49264675, 284.81486207, 277.6929079 ],\n",
       "        [280.01429776, 281.12456178, 285.25094295, 283.70574945]],\n",
       "\n",
       "       [[276.96142245, 278.91070382, 285.85242033, 285.60793756],\n",
       "        [280.41447776, 283.04016881, 275.37612746, 278.06018679],\n",
       "        [276.59066251, 281.62962056, 281.90413197, 273.49135933]],\n",
       "\n",
       "       [[285.78019911, 278.98378302, 282.22578485, 278.79011629],\n",
       "        [277.79019713, 282.47436956, 289.29524457, 287.72756779],\n",
       "        [284.00133677, 281.92310278, 289.566802  , 279.39431415]],\n",
       "\n",
       "       [[290.46377388, 288.90288835, 281.79887015, 279.75545871],\n",
       "        [286.54449099, 283.53475937, 279.20122113, 280.5227505 ],\n",
       "        [289.53647842, 284.73948562, 278.45027775, 277.82324715]],\n",
       "\n",
       "       [[283.65144617, 287.9525305 , 285.31704011, 284.42015021],\n",
       "        [281.76256663, 287.04701713, 290.48615949, 292.24640637],\n",
       "        [279.14944817, 292.78853944, 283.62247647, 284.67503993]]])\n",
       "Coordinates:\n",
       "  * time     (time) datetime64[ns] 2018-01-01 2018-01-02 ... 2018-01-05\n",
       "  * lat      (lat) float64 25.0 40.0 55.0\n",
       "  * lon      (lon) float64 -120.0 -100.0 -80.0 -60.0</pre>"
      ],
      "text/plain": [
       "<xarray.DataArray (time: 5, lat: 3, lon: 4)>\n",
       "array([[[286.9100422 , 281.83569989, 288.89917227, 280.15355858],\n",
       "        [283.27036547, 290.49264675, 284.81486207, 277.6929079 ],\n",
       "        [280.01429776, 281.12456178, 285.25094295, 283.70574945]],\n",
       "\n",
       "       [[276.96142245, 278.91070382, 285.85242033, 285.60793756],\n",
       "        [280.41447776, 283.04016881, 275.37612746, 278.06018679],\n",
       "        [276.59066251, 281.62962056, 281.90413197, 273.49135933]],\n",
       "\n",
       "       [[285.78019911, 278.98378302, 282.22578485, 278.79011629],\n",
       "        [277.79019713, 282.47436956, 289.29524457, 287.72756779],\n",
       "        [284.00133677, 281.92310278, 289.566802  , 279.39431415]],\n",
       "\n",
       "       [[290.46377388, 288.90288835, 281.79887015, 279.75545871],\n",
       "        [286.54449099, 283.53475937, 279.20122113, 280.5227505 ],\n",
       "        [289.53647842, 284.73948562, 278.45027775, 277.82324715]],\n",
       "\n",
       "       [[283.65144617, 287.9525305 , 285.31704011, 284.42015021],\n",
       "        [281.76256663, 287.04701713, 290.48615949, 292.24640637],\n",
       "        [279.14944817, 292.78853944, 283.62247647, 284.67503993]]])\n",
       "Coordinates:\n",
       "  * time     (time) datetime64[ns] 2018-01-01 2018-01-02 ... 2018-01-05\n",
       "  * lat      (lat) float64 25.0 40.0 55.0\n",
       "  * lon      (lon) float64 -120.0 -100.0 -80.0 -60.0"
      ]
     },
     "execution_count": 7,
     "metadata": {},
     "output_type": "execute_result"
    }
   ],
   "source": [
    "temp = xr.DataArray(data, coords=[times, lats, lons], dims=['time', 'lat', 'lon'])\n",
    "temp"
   ]
  },
  {
   "cell_type": "markdown",
   "metadata": {},
   "source": [
    "...and we can also set some attribute metadata:"
   ]
  },
  {
   "cell_type": "code",
   "execution_count": 8,
   "metadata": {},
   "outputs": [
    {
     "data": {
      "text/html": [
       "<pre>&lt;xarray.DataArray (time: 5, lat: 3, lon: 4)&gt;\n",
       "array([[[286.9100422 , 281.83569989, 288.89917227, 280.15355858],\n",
       "        [283.27036547, 290.49264675, 284.81486207, 277.6929079 ],\n",
       "        [280.01429776, 281.12456178, 285.25094295, 283.70574945]],\n",
       "\n",
       "       [[276.96142245, 278.91070382, 285.85242033, 285.60793756],\n",
       "        [280.41447776, 283.04016881, 275.37612746, 278.06018679],\n",
       "        [276.59066251, 281.62962056, 281.90413197, 273.49135933]],\n",
       "\n",
       "       [[285.78019911, 278.98378302, 282.22578485, 278.79011629],\n",
       "        [277.79019713, 282.47436956, 289.29524457, 287.72756779],\n",
       "        [284.00133677, 281.92310278, 289.566802  , 279.39431415]],\n",
       "\n",
       "       [[290.46377388, 288.90288835, 281.79887015, 279.75545871],\n",
       "        [286.54449099, 283.53475937, 279.20122113, 280.5227505 ],\n",
       "        [289.53647842, 284.73948562, 278.45027775, 277.82324715]],\n",
       "\n",
       "       [[283.65144617, 287.9525305 , 285.31704011, 284.42015021],\n",
       "        [281.76256663, 287.04701713, 290.48615949, 292.24640637],\n",
       "        [279.14944817, 292.78853944, 283.62247647, 284.67503993]]])\n",
       "Coordinates:\n",
       "  * time     (time) datetime64[ns] 2018-01-01 2018-01-02 ... 2018-01-05\n",
       "  * lat      (lat) float64 25.0 40.0 55.0\n",
       "  * lon      (lon) float64 -120.0 -100.0 -80.0 -60.0\n",
       "Attributes:\n",
       "    units:          kelvin\n",
       "    standard_name:  air_temperature</pre>"
      ],
      "text/plain": [
       "<xarray.DataArray (time: 5, lat: 3, lon: 4)>\n",
       "array([[[286.9100422 , 281.83569989, 288.89917227, 280.15355858],\n",
       "        [283.27036547, 290.49264675, 284.81486207, 277.6929079 ],\n",
       "        [280.01429776, 281.12456178, 285.25094295, 283.70574945]],\n",
       "\n",
       "       [[276.96142245, 278.91070382, 285.85242033, 285.60793756],\n",
       "        [280.41447776, 283.04016881, 275.37612746, 278.06018679],\n",
       "        [276.59066251, 281.62962056, 281.90413197, 273.49135933]],\n",
       "\n",
       "       [[285.78019911, 278.98378302, 282.22578485, 278.79011629],\n",
       "        [277.79019713, 282.47436956, 289.29524457, 287.72756779],\n",
       "        [284.00133677, 281.92310278, 289.566802  , 279.39431415]],\n",
       "\n",
       "       [[290.46377388, 288.90288835, 281.79887015, 279.75545871],\n",
       "        [286.54449099, 283.53475937, 279.20122113, 280.5227505 ],\n",
       "        [289.53647842, 284.73948562, 278.45027775, 277.82324715]],\n",
       "\n",
       "       [[283.65144617, 287.9525305 , 285.31704011, 284.42015021],\n",
       "        [281.76256663, 287.04701713, 290.48615949, 292.24640637],\n",
       "        [279.14944817, 292.78853944, 283.62247647, 284.67503993]]])\n",
       "Coordinates:\n",
       "  * time     (time) datetime64[ns] 2018-01-01 2018-01-02 ... 2018-01-05\n",
       "  * lat      (lat) float64 25.0 40.0 55.0\n",
       "  * lon      (lon) float64 -120.0 -100.0 -80.0 -60.0\n",
       "Attributes:\n",
       "    units:          kelvin\n",
       "    standard_name:  air_temperature"
      ]
     },
     "execution_count": 8,
     "metadata": {},
     "output_type": "execute_result"
    }
   ],
   "source": [
    "temp.attrs['units'] = 'kelvin'\n",
    "temp.attrs['standard_name'] = 'air_temperature'\n",
    "\n",
    "temp"
   ]
  },
  {
   "cell_type": "markdown",
   "metadata": {},
   "source": [
    "Notice what happens if we perform a mathematical operaton with the `DataArray`: the coordinate values persist, but the attributes are lost. This is done because it is very challenging to know if the attribute metadata is still correct or appropriate after arbitrary arithmetic operations."
   ]
  },
  {
   "cell_type": "code",
   "execution_count": 9,
   "metadata": {},
   "outputs": [
    {
     "data": {
      "text/html": [
       "<pre>&lt;xarray.DataArray (time: 5, lat: 3, lon: 4)&gt;\n",
       "array([[[13.7600422 ,  8.68569989, 15.74917227,  7.00355858],\n",
       "        [10.12036547, 17.34264675, 11.66486207,  4.5429079 ],\n",
       "        [ 6.86429776,  7.97456178, 12.10094295, 10.55574945]],\n",
       "\n",
       "       [[ 3.81142245,  5.76070382, 12.70242033, 12.45793756],\n",
       "        [ 7.26447776,  9.89016881,  2.22612746,  4.91018679],\n",
       "        [ 3.44066251,  8.47962056,  8.75413197,  0.34135933]],\n",
       "\n",
       "       [[12.63019911,  5.83378302,  9.07578485,  5.64011629],\n",
       "        [ 4.64019713,  9.32436956, 16.14524457, 14.57756779],\n",
       "        [10.85133677,  8.77310278, 16.416802  ,  6.24431415]],\n",
       "\n",
       "       [[17.31377388, 15.75288835,  8.64887015,  6.60545871],\n",
       "        [13.39449099, 10.38475937,  6.05122113,  7.3727505 ],\n",
       "        [16.38647842, 11.58948562,  5.30027775,  4.67324715]],\n",
       "\n",
       "       [[10.50144617, 14.8025305 , 12.16704011, 11.27015021],\n",
       "        [ 8.61256663, 13.89701713, 17.33615949, 19.09640637],\n",
       "        [ 5.99944817, 19.63853944, 10.47247647, 11.52503993]]])\n",
       "Coordinates:\n",
       "  * time     (time) datetime64[ns] 2018-01-01 2018-01-02 ... 2018-01-05\n",
       "  * lat      (lat) float64 25.0 40.0 55.0\n",
       "  * lon      (lon) float64 -120.0 -100.0 -80.0 -60.0</pre>"
      ],
      "text/plain": [
       "<xarray.DataArray (time: 5, lat: 3, lon: 4)>\n",
       "array([[[13.7600422 ,  8.68569989, 15.74917227,  7.00355858],\n",
       "        [10.12036547, 17.34264675, 11.66486207,  4.5429079 ],\n",
       "        [ 6.86429776,  7.97456178, 12.10094295, 10.55574945]],\n",
       "\n",
       "       [[ 3.81142245,  5.76070382, 12.70242033, 12.45793756],\n",
       "        [ 7.26447776,  9.89016881,  2.22612746,  4.91018679],\n",
       "        [ 3.44066251,  8.47962056,  8.75413197,  0.34135933]],\n",
       "\n",
       "       [[12.63019911,  5.83378302,  9.07578485,  5.64011629],\n",
       "        [ 4.64019713,  9.32436956, 16.14524457, 14.57756779],\n",
       "        [10.85133677,  8.77310278, 16.416802  ,  6.24431415]],\n",
       "\n",
       "       [[17.31377388, 15.75288835,  8.64887015,  6.60545871],\n",
       "        [13.39449099, 10.38475937,  6.05122113,  7.3727505 ],\n",
       "        [16.38647842, 11.58948562,  5.30027775,  4.67324715]],\n",
       "\n",
       "       [[10.50144617, 14.8025305 , 12.16704011, 11.27015021],\n",
       "        [ 8.61256663, 13.89701713, 17.33615949, 19.09640637],\n",
       "        [ 5.99944817, 19.63853944, 10.47247647, 11.52503993]]])\n",
       "Coordinates:\n",
       "  * time     (time) datetime64[ns] 2018-01-01 2018-01-02 ... 2018-01-05\n",
       "  * lat      (lat) float64 25.0 40.0 55.0\n",
       "  * lon      (lon) float64 -120.0 -100.0 -80.0 -60.0"
      ]
     },
     "execution_count": 9,
     "metadata": {},
     "output_type": "execute_result"
    }
   ],
   "source": [
    "# For example, convert Kelvin to Celsius\n",
    "temp - 273.15"
   ]
  },
  {
   "cell_type": "markdown",
   "metadata": {},
   "source": [
    "### Selection\n",
    "We can use the `.sel` method to select portions of our data based on these coordinate values, rather than using indices (this is similar to the CDM)."
   ]
  },
  {
   "cell_type": "code",
   "execution_count": 10,
   "metadata": {},
   "outputs": [
    {
     "data": {
      "text/html": [
       "<pre>&lt;xarray.DataArray (lat: 3, lon: 4)&gt;\n",
       "array([[276.96142245, 278.91070382, 285.85242033, 285.60793756],\n",
       "       [280.41447776, 283.04016881, 275.37612746, 278.06018679],\n",
       "       [276.59066251, 281.62962056, 281.90413197, 273.49135933]])\n",
       "Coordinates:\n",
       "    time     datetime64[ns] 2018-01-02\n",
       "  * lat      (lat) float64 25.0 40.0 55.0\n",
       "  * lon      (lon) float64 -120.0 -100.0 -80.0 -60.0\n",
       "Attributes:\n",
       "    units:          kelvin\n",
       "    standard_name:  air_temperature</pre>"
      ],
      "text/plain": [
       "<xarray.DataArray (lat: 3, lon: 4)>\n",
       "array([[276.96142245, 278.91070382, 285.85242033, 285.60793756],\n",
       "       [280.41447776, 283.04016881, 275.37612746, 278.06018679],\n",
       "       [276.59066251, 281.62962056, 281.90413197, 273.49135933]])\n",
       "Coordinates:\n",
       "    time     datetime64[ns] 2018-01-02\n",
       "  * lat      (lat) float64 25.0 40.0 55.0\n",
       "  * lon      (lon) float64 -120.0 -100.0 -80.0 -60.0\n",
       "Attributes:\n",
       "    units:          kelvin\n",
       "    standard_name:  air_temperature"
      ]
     },
     "execution_count": 10,
     "metadata": {},
     "output_type": "execute_result"
    }
   ],
   "source": [
    "temp.sel(time='2018-01-02')"
   ]
  },
  {
   "cell_type": "markdown",
   "metadata": {},
   "source": [
    "`.sel` has the flexibility to also perform nearest neighbor sampling, taking an optional tolerance:"
   ]
  },
  {
   "cell_type": "code",
   "execution_count": 11,
   "metadata": {},
   "outputs": [
    {
     "data": {
      "text/html": [
       "<pre>&lt;xarray.DataArray (lat: 3, lon: 4)&gt;\n",
       "array([[283.65144617, 287.9525305 , 285.31704011, 284.42015021],\n",
       "       [281.76256663, 287.04701713, 290.48615949, 292.24640637],\n",
       "       [279.14944817, 292.78853944, 283.62247647, 284.67503993]])\n",
       "Coordinates:\n",
       "    time     datetime64[ns] 2018-01-05\n",
       "  * lat      (lat) float64 25.0 40.0 55.0\n",
       "  * lon      (lon) float64 -120.0 -100.0 -80.0 -60.0\n",
       "Attributes:\n",
       "    units:          kelvin\n",
       "    standard_name:  air_temperature</pre>"
      ],
      "text/plain": [
       "<xarray.DataArray (lat: 3, lon: 4)>\n",
       "array([[283.65144617, 287.9525305 , 285.31704011, 284.42015021],\n",
       "       [281.76256663, 287.04701713, 290.48615949, 292.24640637],\n",
       "       [279.14944817, 292.78853944, 283.62247647, 284.67503993]])\n",
       "Coordinates:\n",
       "    time     datetime64[ns] 2018-01-05\n",
       "  * lat      (lat) float64 25.0 40.0 55.0\n",
       "  * lon      (lon) float64 -120.0 -100.0 -80.0 -60.0\n",
       "Attributes:\n",
       "    units:          kelvin\n",
       "    standard_name:  air_temperature"
      ]
     },
     "execution_count": 11,
     "metadata": {},
     "output_type": "execute_result"
    }
   ],
   "source": [
    "from datetime import timedelta\n",
    "temp.sel(time='2018-01-07', method='nearest', tolerance=timedelta(days=2))"
   ]
  },
  {
   "cell_type": "markdown",
   "metadata": {},
   "source": [
    "### Exercise\n",
    "`.interp()` works similarly to `.sel()`. Using `.interp()`, get an interpolated time series \"forecast\" for Boulder (40°N, 105°W) or your favorite latitude/longitude location. (Documentation for <a href=\"http://xarray.pydata.org/en/stable/interpolation.html\">interp</a>)."
   ]
  },
  {
   "cell_type": "code",
   "execution_count": 12,
   "metadata": {},
   "outputs": [],
   "source": [
    "# Your code goes here\n"
   ]
  },
  {
   "cell_type": "markdown",
   "metadata": {},
   "source": [
    "#### Solution"
   ]
  },
  {
   "cell_type": "code",
   "execution_count": 13,
   "metadata": {},
   "outputs": [
    {
     "data": {
      "text/html": [
       "<pre>&lt;xarray.DataArray (time: 5)&gt;\n",
       "array([288.68707643, 282.38374605, 281.30332645, 284.28719227,\n",
       "       285.72590451])\n",
       "Coordinates:\n",
       "  * time     (time) datetime64[ns] 2018-01-01 2018-01-02 ... 2018-01-05\n",
       "    lon      int64 -105\n",
       "    lat      int64 40\n",
       "Attributes:\n",
       "    units:          kelvin\n",
       "    standard_name:  air_temperature</pre>"
      ],
      "text/plain": [
       "<xarray.DataArray (time: 5)>\n",
       "array([288.68707643, 282.38374605, 281.30332645, 284.28719227,\n",
       "       285.72590451])\n",
       "Coordinates:\n",
       "  * time     (time) datetime64[ns] 2018-01-01 2018-01-02 ... 2018-01-05\n",
       "    lon      int64 -105\n",
       "    lat      int64 40\n",
       "Attributes:\n",
       "    units:          kelvin\n",
       "    standard_name:  air_temperature"
      ]
     },
     "execution_count": 13,
     "metadata": {},
     "output_type": "execute_result"
    }
   ],
   "source": [
    "# %load solutions/interp_solution.py\n",
    "\n",
    "\n",
    "# Cell content replaced by load magic replacement.\n",
    "temp.interp(lon=-105, lat=40)\n"
   ]
  },
  {
   "cell_type": "markdown",
   "metadata": {},
   "source": [
    "### Slicing with Selection"
   ]
  },
  {
   "cell_type": "code",
   "execution_count": 14,
   "metadata": {},
   "outputs": [
    {
     "data": {
      "text/html": [
       "<pre>&lt;xarray.DataArray (time: 3, lat: 2, lon: 2)&gt;\n",
       "array([[[281.83569989, 288.89917227],\n",
       "        [290.49264675, 284.81486207]],\n",
       "\n",
       "       [[278.91070382, 285.85242033],\n",
       "        [283.04016881, 275.37612746]],\n",
       "\n",
       "       [[278.98378302, 282.22578485],\n",
       "        [282.47436956, 289.29524457]]])\n",
       "Coordinates:\n",
       "  * time     (time) datetime64[ns] 2018-01-01 2018-01-02 2018-01-03\n",
       "  * lat      (lat) float64 25.0 40.0\n",
       "  * lon      (lon) float64 -100.0 -80.0\n",
       "Attributes:\n",
       "    units:          kelvin\n",
       "    standard_name:  air_temperature</pre>"
      ],
      "text/plain": [
       "<xarray.DataArray (time: 3, lat: 2, lon: 2)>\n",
       "array([[[281.83569989, 288.89917227],\n",
       "        [290.49264675, 284.81486207]],\n",
       "\n",
       "       [[278.91070382, 285.85242033],\n",
       "        [283.04016881, 275.37612746]],\n",
       "\n",
       "       [[278.98378302, 282.22578485],\n",
       "        [282.47436956, 289.29524457]]])\n",
       "Coordinates:\n",
       "  * time     (time) datetime64[ns] 2018-01-01 2018-01-02 2018-01-03\n",
       "  * lat      (lat) float64 25.0 40.0\n",
       "  * lon      (lon) float64 -100.0 -80.0\n",
       "Attributes:\n",
       "    units:          kelvin\n",
       "    standard_name:  air_temperature"
      ]
     },
     "execution_count": 14,
     "metadata": {},
     "output_type": "execute_result"
    }
   ],
   "source": [
    "temp.sel(time=slice('2018-01-01', '2018-01-03'), lon=slice(-110, -70), lat=slice(25, 45))"
   ]
  },
  {
   "cell_type": "markdown",
   "metadata": {},
   "source": [
    "### `.loc`\n",
    "\n",
    "All of these operations can also be done within square brackets on the `.loc` attribute of the `DataArray`. This permits a much more numpy-looking syntax, though you lose the ability to specify the names of the various dimensions. Instead, the slicing must be done in the correct order."
   ]
  },
  {
   "cell_type": "code",
   "execution_count": 15,
   "metadata": {},
   "outputs": [
    {
     "data": {
      "text/html": [
       "<pre>&lt;xarray.DataArray (lat: 3, lon: 4)&gt;\n",
       "array([[276.96142245, 278.91070382, 285.85242033, 285.60793756],\n",
       "       [280.41447776, 283.04016881, 275.37612746, 278.06018679],\n",
       "       [276.59066251, 281.62962056, 281.90413197, 273.49135933]])\n",
       "Coordinates:\n",
       "    time     datetime64[ns] 2018-01-02\n",
       "  * lat      (lat) float64 25.0 40.0 55.0\n",
       "  * lon      (lon) float64 -120.0 -100.0 -80.0 -60.0\n",
       "Attributes:\n",
       "    units:          kelvin\n",
       "    standard_name:  air_temperature</pre>"
      ],
      "text/plain": [
       "<xarray.DataArray (lat: 3, lon: 4)>\n",
       "array([[276.96142245, 278.91070382, 285.85242033, 285.60793756],\n",
       "       [280.41447776, 283.04016881, 275.37612746, 278.06018679],\n",
       "       [276.59066251, 281.62962056, 281.90413197, 273.49135933]])\n",
       "Coordinates:\n",
       "    time     datetime64[ns] 2018-01-02\n",
       "  * lat      (lat) float64 25.0 40.0 55.0\n",
       "  * lon      (lon) float64 -120.0 -100.0 -80.0 -60.0\n",
       "Attributes:\n",
       "    units:          kelvin\n",
       "    standard_name:  air_temperature"
      ]
     },
     "execution_count": 15,
     "metadata": {},
     "output_type": "execute_result"
    }
   ],
   "source": [
    "# As done above\n",
    "temp.loc['2018-01-02']"
   ]
  },
  {
   "cell_type": "code",
   "execution_count": 16,
   "metadata": {},
   "outputs": [
    {
     "data": {
      "text/html": [
       "<pre>&lt;xarray.DataArray (time: 3, lat: 2, lon: 2)&gt;\n",
       "array([[[281.83569989, 288.89917227],\n",
       "        [290.49264675, 284.81486207]],\n",
       "\n",
       "       [[278.91070382, 285.85242033],\n",
       "        [283.04016881, 275.37612746]],\n",
       "\n",
       "       [[278.98378302, 282.22578485],\n",
       "        [282.47436956, 289.29524457]]])\n",
       "Coordinates:\n",
       "  * time     (time) datetime64[ns] 2018-01-01 2018-01-02 2018-01-03\n",
       "  * lat      (lat) float64 25.0 40.0\n",
       "  * lon      (lon) float64 -100.0 -80.0\n",
       "Attributes:\n",
       "    units:          kelvin\n",
       "    standard_name:  air_temperature</pre>"
      ],
      "text/plain": [
       "<xarray.DataArray (time: 3, lat: 2, lon: 2)>\n",
       "array([[[281.83569989, 288.89917227],\n",
       "        [290.49264675, 284.81486207]],\n",
       "\n",
       "       [[278.91070382, 285.85242033],\n",
       "        [283.04016881, 275.37612746]],\n",
       "\n",
       "       [[278.98378302, 282.22578485],\n",
       "        [282.47436956, 289.29524457]]])\n",
       "Coordinates:\n",
       "  * time     (time) datetime64[ns] 2018-01-01 2018-01-02 2018-01-03\n",
       "  * lat      (lat) float64 25.0 40.0\n",
       "  * lon      (lon) float64 -100.0 -80.0\n",
       "Attributes:\n",
       "    units:          kelvin\n",
       "    standard_name:  air_temperature"
      ]
     },
     "execution_count": 16,
     "metadata": {},
     "output_type": "execute_result"
    }
   ],
   "source": [
    "temp.loc['2018-01-01':'2018-01-03', 25:45, -110:-70]"
   ]
  },
  {
   "cell_type": "code",
   "execution_count": 17,
   "metadata": {},
   "outputs": [],
   "source": [
    "# This *doesn't* work however:\n",
    "#temp.loc[-110:-70, 25:45,'2018-01-01':'2018-01-03']"
   ]
  },
  {
   "cell_type": "markdown",
   "metadata": {
    "slideshow": {
     "slide_type": "subslide"
    }
   },
   "source": [
    "## Opening netCDF data\n",
    "With its close ties to the netCDF data model, XArray also supports netCDF as a first-class file format. This means it has easy support for opening netCDF datasets, so long as they conform to some of XArray's limitations (such as 1-dimensional coordinates)."
   ]
  },
  {
   "cell_type": "code",
   "execution_count": 18,
   "metadata": {},
   "outputs": [
    {
     "data": {
      "text/html": [
       "<pre>&lt;xarray.Dataset&gt;\n",
       "Dimensions:                       (isobaric1: 29, time1: 1, x: 268, y: 119)\n",
       "Coordinates:\n",
       "  * time1                         (time1) datetime64[ns] 1993-03-13\n",
       "  * isobaric1                     (isobaric1) float32 100.0 125.0 ... 1000.0\n",
       "  * y                             (y) float32 -3116.548 -3084.0852 ... 714.08594\n",
       "  * x                             (x) float32 -3324.4707 ... 5343.1504\n",
       "Data variables:\n",
       "    u-component_of_wind_isobaric  (time1, isobaric1, y, x) float32 ...\n",
       "    LambertConformal_Projection   int32 ...\n",
       "    lat                           (y, x) float64 ...\n",
       "    lon                           (y, x) float64 ...\n",
       "    Geopotential_height_isobaric  (time1, isobaric1, y, x) float32 ...\n",
       "    v-component_of_wind_isobaric  (time1, isobaric1, y, x) float32 ...\n",
       "    Temperature_isobaric          (time1, isobaric1, y, x) float32 ...\n",
       "Attributes:\n",
       "    Originating_or_generating_Center:     US National Weather Service, Nation...\n",
       "    Originating_or_generating_Subcenter:  North American Regional Reanalysis ...\n",
       "    GRIB_table_version:                   0,131\n",
       "    Generating_process_or_model:          North American Regional Reanalysis ...\n",
       "    Conventions:                          CF-1.6\n",
       "    history:                              Read using CDM IOSP GribCollection v3\n",
       "    featureType:                          GRID\n",
       "    History:                              Translated to CF-1.0 Conventions by...\n",
       "    geospatial_lat_min:                   10.753308882144761\n",
       "    geospatial_lat_max:                   46.8308828962289\n",
       "    geospatial_lon_min:                   -153.88242040519995\n",
       "    geospatial_lon_max:                   -42.666108129242815</pre>"
      ],
      "text/plain": [
       "<xarray.Dataset>\n",
       "Dimensions:                       (isobaric1: 29, time1: 1, x: 268, y: 119)\n",
       "Coordinates:\n",
       "  * time1                         (time1) datetime64[ns] 1993-03-13\n",
       "  * isobaric1                     (isobaric1) float32 100.0 125.0 ... 1000.0\n",
       "  * y                             (y) float32 -3116.548 -3084.0852 ... 714.08594\n",
       "  * x                             (x) float32 -3324.4707 ... 5343.1504\n",
       "Data variables:\n",
       "    u-component_of_wind_isobaric  (time1, isobaric1, y, x) float32 ...\n",
       "    LambertConformal_Projection   int32 ...\n",
       "    lat                           (y, x) float64 ...\n",
       "    lon                           (y, x) float64 ...\n",
       "    Geopotential_height_isobaric  (time1, isobaric1, y, x) float32 ...\n",
       "    v-component_of_wind_isobaric  (time1, isobaric1, y, x) float32 ...\n",
       "    Temperature_isobaric          (time1, isobaric1, y, x) float32 ...\n",
       "Attributes:\n",
       "    Originating_or_generating_Center:     US National Weather Service, Nation...\n",
       "    Originating_or_generating_Subcenter:  North American Regional Reanalysis ...\n",
       "    GRIB_table_version:                   0,131\n",
       "    Generating_process_or_model:          North American Regional Reanalysis ...\n",
       "    Conventions:                          CF-1.6\n",
       "    history:                              Read using CDM IOSP GribCollection v3\n",
       "    featureType:                          GRID\n",
       "    History:                              Translated to CF-1.0 Conventions by...\n",
       "    geospatial_lat_min:                   10.753308882144761\n",
       "    geospatial_lat_max:                   46.8308828962289\n",
       "    geospatial_lon_min:                   -153.88242040519995\n",
       "    geospatial_lon_max:                   -42.666108129242815"
      ]
     },
     "execution_count": 18,
     "metadata": {},
     "output_type": "execute_result"
    }
   ],
   "source": [
    "# Open sample North American Reanalysis data in netCDF format\n",
    "ds = xr.open_dataset('../../data/NARR_19930313_0000.nc')\n",
    "ds"
   ]
  },
  {
   "cell_type": "markdown",
   "metadata": {},
   "source": [
    "This returns a `Dataset` object, which is a container that contains one or more `DataArray`s, which can also optionally share coordinates. We can then pull out individual fields:"
   ]
  },
  {
   "cell_type": "code",
   "execution_count": 19,
   "metadata": {},
   "outputs": [
    {
     "data": {
      "text/html": [
       "<pre>&lt;xarray.DataArray &#x27;isobaric1&#x27; (isobaric1: 29)&gt;\n",
       "array([ 100.,  125.,  150.,  175.,  200.,  225.,  250.,  275.,  300.,  350.,\n",
       "        400.,  450.,  500.,  550.,  600.,  650.,  700.,  725.,  750.,  775.,\n",
       "        800.,  825.,  850.,  875.,  900.,  925.,  950.,  975., 1000.],\n",
       "      dtype=float32)\n",
       "Coordinates:\n",
       "  * isobaric1  (isobaric1) float32 100.0 125.0 150.0 ... 950.0 975.0 1000.0\n",
       "Attributes:\n",
       "    units:                   hPa\n",
       "    long_name:               Isobaric surface\n",
       "    positive:                down\n",
       "    Grib_level_type:         100\n",
       "    _CoordinateAxisType:     Pressure\n",
       "    _CoordinateZisPositive:  down</pre>"
      ],
      "text/plain": [
       "<xarray.DataArray 'isobaric1' (isobaric1: 29)>\n",
       "array([ 100.,  125.,  150.,  175.,  200.,  225.,  250.,  275.,  300.,  350.,\n",
       "        400.,  450.,  500.,  550.,  600.,  650.,  700.,  725.,  750.,  775.,\n",
       "        800.,  825.,  850.,  875.,  900.,  925.,  950.,  975., 1000.],\n",
       "      dtype=float32)\n",
       "Coordinates:\n",
       "  * isobaric1  (isobaric1) float32 100.0 125.0 150.0 ... 950.0 975.0 1000.0\n",
       "Attributes:\n",
       "    units:                   hPa\n",
       "    long_name:               Isobaric surface\n",
       "    positive:                down\n",
       "    Grib_level_type:         100\n",
       "    _CoordinateAxisType:     Pressure\n",
       "    _CoordinateZisPositive:  down"
      ]
     },
     "execution_count": 19,
     "metadata": {},
     "output_type": "execute_result"
    }
   ],
   "source": [
    "ds.isobaric1"
   ]
  },
  {
   "cell_type": "markdown",
   "metadata": {},
   "source": [
    "or"
   ]
  },
  {
   "cell_type": "code",
   "execution_count": 20,
   "metadata": {},
   "outputs": [
    {
     "data": {
      "text/html": [
       "<pre>&lt;xarray.DataArray &#x27;isobaric1&#x27; (isobaric1: 29)&gt;\n",
       "array([ 100.,  125.,  150.,  175.,  200.,  225.,  250.,  275.,  300.,  350.,\n",
       "        400.,  450.,  500.,  550.,  600.,  650.,  700.,  725.,  750.,  775.,\n",
       "        800.,  825.,  850.,  875.,  900.,  925.,  950.,  975., 1000.],\n",
       "      dtype=float32)\n",
       "Coordinates:\n",
       "  * isobaric1  (isobaric1) float32 100.0 125.0 150.0 ... 950.0 975.0 1000.0\n",
       "Attributes:\n",
       "    units:                   hPa\n",
       "    long_name:               Isobaric surface\n",
       "    positive:                down\n",
       "    Grib_level_type:         100\n",
       "    _CoordinateAxisType:     Pressure\n",
       "    _CoordinateZisPositive:  down</pre>"
      ],
      "text/plain": [
       "<xarray.DataArray 'isobaric1' (isobaric1: 29)>\n",
       "array([ 100.,  125.,  150.,  175.,  200.,  225.,  250.,  275.,  300.,  350.,\n",
       "        400.,  450.,  500.,  550.,  600.,  650.,  700.,  725.,  750.,  775.,\n",
       "        800.,  825.,  850.,  875.,  900.,  925.,  950.,  975., 1000.],\n",
       "      dtype=float32)\n",
       "Coordinates:\n",
       "  * isobaric1  (isobaric1) float32 100.0 125.0 150.0 ... 950.0 975.0 1000.0\n",
       "Attributes:\n",
       "    units:                   hPa\n",
       "    long_name:               Isobaric surface\n",
       "    positive:                down\n",
       "    Grib_level_type:         100\n",
       "    _CoordinateAxisType:     Pressure\n",
       "    _CoordinateZisPositive:  down"
      ]
     },
     "execution_count": 20,
     "metadata": {},
     "output_type": "execute_result"
    }
   ],
   "source": [
    "ds['isobaric1']"
   ]
  },
  {
   "cell_type": "markdown",
   "metadata": {},
   "source": [
    "`Dataset`s also support much of the same subsetting operations as `DataArray`, but will perform the operation on all data:"
   ]
  },
  {
   "cell_type": "code",
   "execution_count": 21,
   "metadata": {},
   "outputs": [
    {
     "data": {
      "text/html": [
       "<pre>&lt;xarray.Dataset&gt;\n",
       "Dimensions:                       (time1: 1, x: 268, y: 119)\n",
       "Coordinates:\n",
       "  * time1                         (time1) datetime64[ns] 1993-03-13\n",
       "    isobaric1                     float32 1000.0\n",
       "  * y                             (y) float32 -3116.548 -3084.0852 ... 714.08594\n",
       "  * x                             (x) float32 -3324.4707 ... 5343.1504\n",
       "Data variables:\n",
       "    u-component_of_wind_isobaric  (time1, y, x) float32 ...\n",
       "    LambertConformal_Projection   int32 ...\n",
       "    lat                           (y, x) float64 ...\n",
       "    lon                           (y, x) float64 ...\n",
       "    Geopotential_height_isobaric  (time1, y, x) float32 ...\n",
       "    v-component_of_wind_isobaric  (time1, y, x) float32 ...\n",
       "    Temperature_isobaric          (time1, y, x) float32 ...\n",
       "Attributes:\n",
       "    Originating_or_generating_Center:     US National Weather Service, Nation...\n",
       "    Originating_or_generating_Subcenter:  North American Regional Reanalysis ...\n",
       "    GRIB_table_version:                   0,131\n",
       "    Generating_process_or_model:          North American Regional Reanalysis ...\n",
       "    Conventions:                          CF-1.6\n",
       "    history:                              Read using CDM IOSP GribCollection v3\n",
       "    featureType:                          GRID\n",
       "    History:                              Translated to CF-1.0 Conventions by...\n",
       "    geospatial_lat_min:                   10.753308882144761\n",
       "    geospatial_lat_max:                   46.8308828962289\n",
       "    geospatial_lon_min:                   -153.88242040519995\n",
       "    geospatial_lon_max:                   -42.666108129242815</pre>"
      ],
      "text/plain": [
       "<xarray.Dataset>\n",
       "Dimensions:                       (time1: 1, x: 268, y: 119)\n",
       "Coordinates:\n",
       "  * time1                         (time1) datetime64[ns] 1993-03-13\n",
       "    isobaric1                     float32 1000.0\n",
       "  * y                             (y) float32 -3116.548 -3084.0852 ... 714.08594\n",
       "  * x                             (x) float32 -3324.4707 ... 5343.1504\n",
       "Data variables:\n",
       "    u-component_of_wind_isobaric  (time1, y, x) float32 ...\n",
       "    LambertConformal_Projection   int32 ...\n",
       "    lat                           (y, x) float64 ...\n",
       "    lon                           (y, x) float64 ...\n",
       "    Geopotential_height_isobaric  (time1, y, x) float32 ...\n",
       "    v-component_of_wind_isobaric  (time1, y, x) float32 ...\n",
       "    Temperature_isobaric          (time1, y, x) float32 ...\n",
       "Attributes:\n",
       "    Originating_or_generating_Center:     US National Weather Service, Nation...\n",
       "    Originating_or_generating_Subcenter:  North American Regional Reanalysis ...\n",
       "    GRIB_table_version:                   0,131\n",
       "    Generating_process_or_model:          North American Regional Reanalysis ...\n",
       "    Conventions:                          CF-1.6\n",
       "    history:                              Read using CDM IOSP GribCollection v3\n",
       "    featureType:                          GRID\n",
       "    History:                              Translated to CF-1.0 Conventions by...\n",
       "    geospatial_lat_min:                   10.753308882144761\n",
       "    geospatial_lat_max:                   46.8308828962289\n",
       "    geospatial_lon_min:                   -153.88242040519995\n",
       "    geospatial_lon_max:                   -42.666108129242815"
      ]
     },
     "execution_count": 21,
     "metadata": {},
     "output_type": "execute_result"
    }
   ],
   "source": [
    "ds_1000 = ds.sel(isobaric1=1000.0)\n",
    "ds_1000"
   ]
  },
  {
   "cell_type": "code",
   "execution_count": 22,
   "metadata": {},
   "outputs": [
    {
     "data": {
      "text/html": [
       "<pre>&lt;xarray.DataArray &#x27;Temperature_isobaric&#x27; (time1: 1, y: 119, x: 268)&gt;\n",
       "array([[[294.09436, 294.1256 , ..., 298.6725 , 298.71936],\n",
       "        [294.07874, 294.14124, ..., 298.6256 , 298.5475 ],\n",
       "        ...,\n",
       "        [276.86   , 276.84436, ..., 289.11   , 289.01624],\n",
       "        [277.01624, 276.82874, ..., 289.0475 , 288.96936]]], dtype=float32)\n",
       "Coordinates:\n",
       "  * time1      (time1) datetime64[ns] 1993-03-13\n",
       "    isobaric1  float32 1000.0\n",
       "  * y          (y) float32 -3116.548 -3084.0852 -3051.622 ... 681.6229 714.08594\n",
       "  * x          (x) float32 -3324.4707 -3292.0078 ... 5310.6875 5343.1504\n",
       "Attributes:\n",
       "    long_name:           Temperature @ Isobaric surface\n",
       "    units:               K\n",
       "    description:         Temperature\n",
       "    grid_mapping:        LambertConformal_Projection\n",
       "    Grib_Variable_Id:    VAR_7-15-131-11_L100\n",
       "    Grib1_Center:        7\n",
       "    Grib1_Subcenter:     15\n",
       "    Grib1_TableVersion:  131\n",
       "    Grib1_Parameter:     11\n",
       "    Grib1_Level_Type:    100\n",
       "    Grib1_Level_Desc:    Isobaric surface</pre>"
      ],
      "text/plain": [
       "<xarray.DataArray 'Temperature_isobaric' (time1: 1, y: 119, x: 268)>\n",
       "array([[[294.09436, 294.1256 , ..., 298.6725 , 298.71936],\n",
       "        [294.07874, 294.14124, ..., 298.6256 , 298.5475 ],\n",
       "        ...,\n",
       "        [276.86   , 276.84436, ..., 289.11   , 289.01624],\n",
       "        [277.01624, 276.82874, ..., 289.0475 , 288.96936]]], dtype=float32)\n",
       "Coordinates:\n",
       "  * time1      (time1) datetime64[ns] 1993-03-13\n",
       "    isobaric1  float32 1000.0\n",
       "  * y          (y) float32 -3116.548 -3084.0852 -3051.622 ... 681.6229 714.08594\n",
       "  * x          (x) float32 -3324.4707 -3292.0078 ... 5310.6875 5343.1504\n",
       "Attributes:\n",
       "    long_name:           Temperature @ Isobaric surface\n",
       "    units:               K\n",
       "    description:         Temperature\n",
       "    grid_mapping:        LambertConformal_Projection\n",
       "    Grib_Variable_Id:    VAR_7-15-131-11_L100\n",
       "    Grib1_Center:        7\n",
       "    Grib1_Subcenter:     15\n",
       "    Grib1_TableVersion:  131\n",
       "    Grib1_Parameter:     11\n",
       "    Grib1_Level_Type:    100\n",
       "    Grib1_Level_Desc:    Isobaric surface"
      ]
     },
     "execution_count": 22,
     "metadata": {},
     "output_type": "execute_result"
    }
   ],
   "source": [
    "ds_1000.Temperature_isobaric"
   ]
  },
  {
   "cell_type": "markdown",
   "metadata": {},
   "source": [
    "### Aggregation operations\n",
    "\n",
    "Not only can you use the named dimensions for manual slicing and indexing of data, but you can also use it to control aggregation operations, like `sum`:"
   ]
  },
  {
   "cell_type": "code",
   "execution_count": 23,
   "metadata": {},
   "outputs": [
    {
     "data": {
      "text/html": [
       "<pre>&lt;xarray.DataArray &#x27;u-component_of_wind_isobaric&#x27; (time1: 1, isobaric1: 29)&gt;\n",
       "array([[ 8.673963 , 10.212325 , 11.556413 , 12.254429 , 13.372146 ,\n",
       "        15.472462 , 16.091969 , 15.846294 , 15.195834 , 13.936979 ,\n",
       "        12.93888  , 12.060708 , 10.972139 ,  9.722328 ,  8.853286 ,\n",
       "         8.257241 ,  7.679721 ,  7.4516497,  7.2352104,  7.039894 ,\n",
       "         6.883371 ,  6.7821493,  6.7088237,  6.6865997,  6.7247376,\n",
       "         6.745023 ,  6.6859775,  6.5107226,  5.972262 ]], dtype=float32)\n",
       "Coordinates:\n",
       "  * time1      (time1) datetime64[ns] 1993-03-13\n",
       "  * isobaric1  (isobaric1) float32 100.0 125.0 150.0 ... 950.0 975.0 1000.0</pre>"
      ],
      "text/plain": [
       "<xarray.DataArray 'u-component_of_wind_isobaric' (time1: 1, isobaric1: 29)>\n",
       "array([[ 8.673963 , 10.212325 , 11.556413 , 12.254429 , 13.372146 ,\n",
       "        15.472462 , 16.091969 , 15.846294 , 15.195834 , 13.936979 ,\n",
       "        12.93888  , 12.060708 , 10.972139 ,  9.722328 ,  8.853286 ,\n",
       "         8.257241 ,  7.679721 ,  7.4516497,  7.2352104,  7.039894 ,\n",
       "         6.883371 ,  6.7821493,  6.7088237,  6.6865997,  6.7247376,\n",
       "         6.745023 ,  6.6859775,  6.5107226,  5.972262 ]], dtype=float32)\n",
       "Coordinates:\n",
       "  * time1      (time1) datetime64[ns] 1993-03-13\n",
       "  * isobaric1  (isobaric1) float32 100.0 125.0 150.0 ... 950.0 975.0 1000.0"
      ]
     },
     "execution_count": 23,
     "metadata": {},
     "output_type": "execute_result"
    }
   ],
   "source": [
    "u_winds = ds['u-component_of_wind_isobaric']\n",
    "u_winds.std(dim=['x', 'y'])"
   ]
  },
  {
   "cell_type": "markdown",
   "metadata": {},
   "source": [
    "### Exercise\n",
    "Using the sample dataset, calculate the mean temperature profile (temperature as a function of pressure) over Colorado within this dataset. For this exercise, consider the bounds of Colorado to be:\n",
    "* x: -182km to 424km\n",
    "* y: -1450km to -990km\n",
    "\n",
    "(37°N to 41°N and 102°W to 109°W projected to Lambert Conformal projection coordinates)"
   ]
  },
  {
   "cell_type": "markdown",
   "metadata": {},
   "source": [
    "#### Solution"
   ]
  },
  {
   "cell_type": "code",
   "execution_count": 24,
   "metadata": {},
   "outputs": [
    {
     "data": {
      "text/html": [
       "<pre>&lt;xarray.DataArray &#x27;Temperature_isobaric&#x27; (time1: 1, isobaric1: 29)&gt;\n",
       "array([[215.078  , 215.76935, 217.243  , 217.82663, 215.83487, 216.10933,\n",
       "        219.99902, 224.66118, 228.80576, 234.88701, 238.78503, 242.66309,\n",
       "        246.44807, 249.26636, 250.84995, 253.37354, 257.0429 , 259.08398,\n",
       "        260.97955, 262.98364, 264.82138, 266.5198 , 268.22467, 269.7471 ,\n",
       "        271.18216, 272.66815, 274.13037, 275.54718, 276.97675]],\n",
       "      dtype=float32)\n",
       "Coordinates:\n",
       "  * time1      (time1) datetime64[ns] 1993-03-13\n",
       "  * isobaric1  (isobaric1) float32 100.0 125.0 150.0 ... 950.0 975.0 1000.0</pre>"
      ],
      "text/plain": [
       "<xarray.DataArray 'Temperature_isobaric' (time1: 1, isobaric1: 29)>\n",
       "array([[215.078  , 215.76935, 217.243  , 217.82663, 215.83487, 216.10933,\n",
       "        219.99902, 224.66118, 228.80576, 234.88701, 238.78503, 242.66309,\n",
       "        246.44807, 249.26636, 250.84995, 253.37354, 257.0429 , 259.08398,\n",
       "        260.97955, 262.98364, 264.82138, 266.5198 , 268.22467, 269.7471 ,\n",
       "        271.18216, 272.66815, 274.13037, 275.54718, 276.97675]],\n",
       "      dtype=float32)\n",
       "Coordinates:\n",
       "  * time1      (time1) datetime64[ns] 1993-03-13\n",
       "  * isobaric1  (isobaric1) float32 100.0 125.0 150.0 ... 950.0 975.0 1000.0"
      ]
     },
     "execution_count": 24,
     "metadata": {},
     "output_type": "execute_result"
    }
   ],
   "source": [
    "# %load solutions/mean_profile.py\n",
    "\n",
    "\n",
    "# Cell content replaced by load magic replacement.\n",
    "temps = ds.Temperature_isobaric\n",
    "co_temps = temps.sel(x=slice(-182, 424), y=slice(-1450, -990))\n",
    "prof = co_temps.mean(dim=['x', 'y'])\n",
    "prof\n"
   ]
  },
  {
   "cell_type": "markdown",
   "metadata": {},
   "source": [
    "## Resources\n",
    "\n",
    "There is much more in the XArray library. To learn more, visit the [XArray Documentation](http://xarray.pydata.org/en/stable/index.html)"
   ]
  }
 ],
 "metadata": {
  "kernelspec": {
   "display_name": "Python 3",
   "language": "python",
   "name": "python3"
  },
  "language_info": {
   "codemirror_mode": {
    "name": "ipython",
    "version": 3
   },
   "file_extension": ".py",
   "mimetype": "text/x-python",
   "name": "python",
   "nbconvert_exporter": "python",
   "pygments_lexer": "ipython3",
   "version": "3.7.6"
  }
 },
 "nbformat": 4,
 "nbformat_minor": 2
}
