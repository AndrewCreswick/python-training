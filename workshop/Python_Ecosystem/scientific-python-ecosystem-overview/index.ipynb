{
 "cells": [
  {
   "cell_type": "markdown",
   "metadata": {},
   "source": [
    "# The Scientific Python Ecosystem\n",
    "\n"
   ]
  },
  {
   "cell_type": "markdown",
   "metadata": {},
   "source": [
    "## Python\n",
    "\n",
    "Python is a interpreted, high-level programming language that is meant to be easily understandable and usable for a multitude of purposes. It is composed of libraries that contain useful tools for you to do quick and efficient data analysis and visualization. These libraries are like Lego blocks - you can pick and choose which ones you want to build your end product. The Scientific Python Ecosystem is composed of key libraries (i.e. NumPy, SciPy, Pandas, Matplotlib) that serve as a basis for most other libraries (i.e. MetPy). In this notebook, we'll briefly touch on several of these foundational libraries of the SciPy Ecosystem."
   ]
  },
  {
   "cell_type": "markdown",
   "metadata": {},
   "source": [
    "### Getting Python: Anaconda\n",
    "\n",
    "Anaconda provides distributions of Python and the main third-party packages either as a full distribution or as a lighter-weight verison, \"Miniconda\". We recommend using Anaconda to build and maintain your Python stack, as it provides command line tools to download and update Python libraries. You can check it out at https://www.anaconda.com/distribution/."
   ]
  },
  {
   "cell_type": "markdown",
   "metadata": {},
   "source": [
    "### Jupyter\n",
    "\n",
    "The Jupyter library provides \"literate programming\" interfaces for Python and other programming languages. This file is displayed using the Jupyter library, either within Jupyter Notebook or Lab. It incorporates code, prose, and other text (equations, HTML) to make a seamless document for your analysis or presentation by working in small blocks. This also allows for quick prototyping and debugging of code as you write!"
   ]
  },
  {
   "cell_type": "markdown",
   "metadata": {},
   "source": [
    "# The Building Blocks of the SciPy World"
   ]
  },
  {
   "cell_type": "markdown",
   "metadata": {},
   "source": [
    "![SciPy Ecosystem](https://github.com/Unidata/python-workshop/raw/gh-pages/images/MetPy_Stack.png)"
   ]
  },
  {
   "cell_type": "markdown",
   "metadata": {},
   "source": [
    "While Python is the basis for everything, this figure demonstrates how packages build on top of each other (causing dependencies). Additionally, packages are constantly under development, so this structure does have some transient nature to it, as the SciPy world continue to expand (see Dask as a recent addition to this framework)."
   ]
  },
  {
   "cell_type": "markdown",
   "metadata": {},
   "source": [
    "## Data Analysis/Computation Libraries"
   ]
  },
  {
   "cell_type": "markdown",
   "metadata": {},
   "source": [
    "### NumPy\n",
    "\n",
    "NumPy is the primary numerical computation library in Python. It works with N-dimensional arrays and matrices and performs basic computations on them."
   ]
  },
  {
   "cell_type": "code",
   "execution_count": 1,
   "metadata": {},
   "outputs": [
    {
     "name": "stdout",
     "output_type": "stream",
     "text": [
      "55.0\n"
     ]
    }
   ],
   "source": [
    "import numpy as np\n",
    "x = np.arange(1,11)\n",
    "y = np.arange(100,110)\n",
    "mean_x_y = np.mean([x,y])\n",
    "print(mean_x_y)"
   ]
  },
  {
   "cell_type": "markdown",
   "metadata": {},
   "source": [
    "### Pandas\n",
    "\n",
    "Pandas is an excellent library for handling tabular data and quickly performing data analysis on it. It can handle many textfile types."
   ]
  },
  {
   "cell_type": "code",
   "execution_count": 2,
   "metadata": {},
   "outputs": [
    {
     "data": {
      "text/html": [
       "<div>\n",
       "<style scoped>\n",
       "    .dataframe tbody tr th:only-of-type {\n",
       "        vertical-align: middle;\n",
       "    }\n",
       "\n",
       "    .dataframe tbody tr th {\n",
       "        vertical-align: top;\n",
       "    }\n",
       "\n",
       "    .dataframe thead th {\n",
       "        text-align: right;\n",
       "    }\n",
       "</style>\n",
       "<table border=\"1\" class=\"dataframe\">\n",
       "  <thead>\n",
       "    <tr style=\"text-align: right;\">\n",
       "      <th></th>\n",
       "      <th>station</th>\n",
       "      <th>valid</th>\n",
       "      <th>tmpc</th>\n",
       "      <th>dwpc</th>\n",
       "      <th>mslp</th>\n",
       "    </tr>\n",
       "  </thead>\n",
       "  <tbody>\n",
       "    <tr>\n",
       "      <th>0</th>\n",
       "      <td>FNL</td>\n",
       "      <td>2017-01-01 00:00</td>\n",
       "      <td>M</td>\n",
       "      <td>M</td>\n",
       "      <td>M</td>\n",
       "    </tr>\n",
       "    <tr>\n",
       "      <th>1</th>\n",
       "      <td>FNL</td>\n",
       "      <td>2017-01-01 00:05</td>\n",
       "      <td>M</td>\n",
       "      <td>M</td>\n",
       "      <td>M</td>\n",
       "    </tr>\n",
       "    <tr>\n",
       "      <th>2</th>\n",
       "      <td>FNL</td>\n",
       "      <td>2017-01-01 00:10</td>\n",
       "      <td>M</td>\n",
       "      <td>M</td>\n",
       "      <td>M</td>\n",
       "    </tr>\n",
       "    <tr>\n",
       "      <th>3</th>\n",
       "      <td>LMO</td>\n",
       "      <td>2017-01-01 00:13</td>\n",
       "      <td>1.00</td>\n",
       "      <td>-7.50</td>\n",
       "      <td>M</td>\n",
       "    </tr>\n",
       "    <tr>\n",
       "      <th>4</th>\n",
       "      <td>FNL</td>\n",
       "      <td>2017-01-01 00:15</td>\n",
       "      <td>-3.00</td>\n",
       "      <td>-9.00</td>\n",
       "      <td>M</td>\n",
       "    </tr>\n",
       "  </tbody>\n",
       "</table>\n",
       "</div>"
      ],
      "text/plain": [
       "  station             valid  tmpc    dwpc    mslp\n",
       "0     FNL  2017-01-01 00:00      M       M      M\n",
       "1     FNL  2017-01-01 00:05      M       M      M\n",
       "2     FNL  2017-01-01 00:10      M       M      M\n",
       "3     LMO  2017-01-01 00:13   1.00   -7.50      M\n",
       "4     FNL  2017-01-01 00:15  -3.00   -9.00      M"
      ]
     },
     "execution_count": 2,
     "metadata": {},
     "output_type": "execute_result"
    }
   ],
   "source": [
    "import pandas as pd\n",
    "df = pd.read_csv('../Pandas/Jan17_CO_ASOS.txt', sep='\\t')\n",
    "df.head()"
   ]
  },
  {
   "cell_type": "markdown",
   "metadata": {},
   "source": [
    "### xarray\n",
    "\n",
    "xarray is a Python library meant to handle N-dimensional arrays with metadata (think netCDF files). With the Dask library, it can work with Big Data efficiently in a Python framework."
   ]
  },
  {
   "cell_type": "code",
   "execution_count": 3,
   "metadata": {},
   "outputs": [
    {
     "data": {
      "text/html": [
       "<pre>&lt;xarray.Dataset&gt;\n",
       "Dimensions:                       (isobaric1: 29, time1: 1, x: 268, y: 119)\n",
       "Coordinates:\n",
       "  * time1                         (time1) datetime64[ns] 1993-03-13\n",
       "  * isobaric1                     (isobaric1) float32 100.0 125.0 ... 1000.0\n",
       "  * y                             (y) float32 -3116.548 -3084.0852 ... 714.08594\n",
       "  * x                             (x) float32 -3324.4707 ... 5343.1504\n",
       "Data variables:\n",
       "    u-component_of_wind_isobaric  (time1, isobaric1, y, x) float32 ...\n",
       "    LambertConformal_Projection   int32 ...\n",
       "    lat                           (y, x) float64 ...\n",
       "    lon                           (y, x) float64 ...\n",
       "    Geopotential_height_isobaric  (time1, isobaric1, y, x) float32 ...\n",
       "    v-component_of_wind_isobaric  (time1, isobaric1, y, x) float32 ...\n",
       "    Temperature_isobaric          (time1, isobaric1, y, x) float32 ...\n",
       "Attributes:\n",
       "    Originating_or_generating_Center:     US National Weather Service, Nation...\n",
       "    Originating_or_generating_Subcenter:  North American Regional Reanalysis ...\n",
       "    GRIB_table_version:                   0,131\n",
       "    Generating_process_or_model:          North American Regional Reanalysis ...\n",
       "    Conventions:                          CF-1.6\n",
       "    history:                              Read using CDM IOSP GribCollection v3\n",
       "    featureType:                          GRID\n",
       "    History:                              Translated to CF-1.0 Conventions by...\n",
       "    geospatial_lat_min:                   10.753308882144761\n",
       "    geospatial_lat_max:                   46.8308828962289\n",
       "    geospatial_lon_min:                   -153.88242040519995\n",
       "    geospatial_lon_max:                   -42.666108129242815</pre>"
      ],
      "text/plain": [
       "<xarray.Dataset>\n",
       "Dimensions:                       (isobaric1: 29, time1: 1, x: 268, y: 119)\n",
       "Coordinates:\n",
       "  * time1                         (time1) datetime64[ns] 1993-03-13\n",
       "  * isobaric1                     (isobaric1) float32 100.0 125.0 ... 1000.0\n",
       "  * y                             (y) float32 -3116.548 -3084.0852 ... 714.08594\n",
       "  * x                             (x) float32 -3324.4707 ... 5343.1504\n",
       "Data variables:\n",
       "    u-component_of_wind_isobaric  (time1, isobaric1, y, x) float32 ...\n",
       "    LambertConformal_Projection   int32 ...\n",
       "    lat                           (y, x) float64 ...\n",
       "    lon                           (y, x) float64 ...\n",
       "    Geopotential_height_isobaric  (time1, isobaric1, y, x) float32 ...\n",
       "    v-component_of_wind_isobaric  (time1, isobaric1, y, x) float32 ...\n",
       "    Temperature_isobaric          (time1, isobaric1, y, x) float32 ...\n",
       "Attributes:\n",
       "    Originating_or_generating_Center:     US National Weather Service, Nation...\n",
       "    Originating_or_generating_Subcenter:  North American Regional Reanalysis ...\n",
       "    GRIB_table_version:                   0,131\n",
       "    Generating_process_or_model:          North American Regional Reanalysis ...\n",
       "    Conventions:                          CF-1.6\n",
       "    history:                              Read using CDM IOSP GribCollection v3\n",
       "    featureType:                          GRID\n",
       "    History:                              Translated to CF-1.0 Conventions by...\n",
       "    geospatial_lat_min:                   10.753308882144761\n",
       "    geospatial_lat_max:                   46.8308828962289\n",
       "    geospatial_lon_min:                   -153.88242040519995\n",
       "    geospatial_lon_max:                   -42.666108129242815"
      ]
     },
     "execution_count": 3,
     "metadata": {},
     "output_type": "execute_result"
    }
   ],
   "source": [
    "import xarray as xr\n",
    "ds = xr.open_dataset('../../data/NARR_19930313_0000.nc')\n",
    "ds"
   ]
  },
  {
   "cell_type": "markdown",
   "metadata": {},
   "source": [
    "### Dask\n",
    "\n",
    "Dask is a parallel-computing library in Python. You can use it on your laptop, cloud environment, or on a high-performance computer (NCAR's Cheyenne for example). It allows for lazy evaluations so that computations only occur after you've chained all of your operations together. Additionally, it has a built-in scheduler to scale with your computational demand to optimize your parellel resources."
   ]
  },
  {
   "cell_type": "markdown",
   "metadata": {},
   "source": [
    "### SciPy\n",
    "\n",
    "The SciPy library has a lot of advanced mathematical functions that are not contained in Numpy, including Fast Fourier Transforms, interpolation methods, and linear algebra operations."
   ]
  },
  {
   "cell_type": "markdown",
   "metadata": {},
   "source": [
    "### Scikit-learn\n",
    "\n",
    "Scikit-learn is the primary machine learning library for Python. It can do simple things like regressions and classifications, or more advanced techniques like random forests. It can perform some neural network operations, but for big data implementations, check out the `keras` library."
   ]
  },
  {
   "cell_type": "markdown",
   "metadata": {},
   "source": [
    "### Scikit-image\n",
    "\n",
    "An image processing library built on NumPy"
   ]
  },
  {
   "cell_type": "markdown",
   "metadata": {},
   "source": [
    "## Visualization Libraries\n",
    "\n",
    "### Matplotlib\n",
    "\n",
    "Matplotlib is one of the core visualization libraries in Python and produces publication-quality figures without much configuration. "
   ]
  },
  {
   "cell_type": "code",
   "execution_count": 4,
   "metadata": {},
   "outputs": [
    {
     "data": {
      "image/png": "[encoded data removed]",
      "text/plain": [
       "<Figure size 432x288 with 1 Axes>"
      ]
     },
     "metadata": {
      "needs_background": "light"
     },
     "output_type": "display_data"
    }
   ],
   "source": [
    "import matplotlib.pyplot as plt\n",
    "plt.plot(x,y)\n",
    "plt.title('Demo of Matplotlib')\n",
    "plt.show()"
   ]
  },
  {
   "cell_type": "markdown",
   "metadata": {},
   "source": [
    "### CartoPy\n",
    "\n",
    "CartoPy is the primary geographical mapping and visualization library in Python, as support for Basemap has been discontinued. It can handle various projections and transformation to/from projections to map data accurately for your problem."
   ]
  },
  {
   "cell_type": "markdown",
   "metadata": {},
   "source": [
    "## Atmospheric Science Libraries"
   ]
  },
  {
   "cell_type": "markdown",
   "metadata": {},
   "source": [
    "### MetPy\n",
    "\n",
    "MetPy is developed at Unidata with support from the user community as a replacement for GEMPAK. Its primary functions are to read in data, perform meteorological calculations on it, and visualize it in useful way for education and research. "
   ]
  },
  {
   "cell_type": "markdown",
   "metadata": {},
   "source": [
    "### Pint\n",
    "\n",
    "Pint is a unit-handling library, which MetPy relies upon for its calculations. Pint allow units to be attached to NumPy arrays, which allows for unit-aware calculations and easy conversions to reduce unit-based errors."
   ]
  },
  {
   "cell_type": "markdown",
   "metadata": {},
   "source": [
    "### netcdf4-python\n",
    "\n",
    "This is another Unidata package that serves as an interface from Python to the netCDF-C library. As a result, netCDF files can easily be read and written in Python."
   ]
  },
  {
   "cell_type": "markdown",
   "metadata": {},
   "source": [
    "### Siphon\n",
    "\n",
    "The Siphon library, developed at Unidata, is a remote access library, built for accessing data on THREDDS servers, but also has hooks into the Wyoming, IGRA, and Iowa State upper air databases, the National Buoy Data Center, and the NHC and SPC storm reports as well. "
   ]
  },
  {
   "cell_type": "markdown",
   "metadata": {},
   "source": [
    "For more information on the SciPy Ecosystem, check out these links: https://www.scipy.org/about.html and https://scipy-lectures.org/intro/intro.html"
   ]
  }
 ],
 "metadata": {
  "kernelspec": {
   "display_name": "Python 3",
   "language": "python",
   "name": "python3"
  },
  "language_info": {
   "codemirror_mode": {
    "name": "ipython",
    "version": 3
   },
   "file_extension": ".py",
   "mimetype": "text/x-python",
   "name": "python",
   "nbconvert_exporter": "python",
   "pygments_lexer": "ipython3",
   "version": "3.7.6"
  }
 },
 "nbformat": 4,
 "nbformat_minor": 2
}
